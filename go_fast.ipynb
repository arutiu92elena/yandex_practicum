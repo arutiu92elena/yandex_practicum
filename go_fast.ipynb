{
 "cells": [
  {
   "cell_type": "markdown",
   "id": "50849d08",
   "metadata": {},
   "source": [
    "## Анализ сервиса проката самокатов GoFast\n",
    "\n",
    "#### Цель иследования\n",
    "\n",
    "Необходимо проверить гипотезы:\n",
    "1. Тратят ли пользователи с подпиской больше времени на поездки?\n",
    "2. Можно ли сказать, что среднее расстояние, которое проезжают пользователи с подпиской за одну поездку, не превышает 3130 метров?\n",
    "3. Будет ли помесячная выручка от пользователей с подпиской по месяцам выше, чем выручка от пользователей без подписки.\n",
    "4. Некоторый файл содержит для каждого пользователя данные о количестве обращений до обновления и после него. Какой тест вам понадобился бы для проверки этой гипотезы?"
   ]
  },
  {
   "cell_type": "markdown",
   "id": "c289c28e",
   "metadata": {},
   "source": [
    "#### Ход иследования\n",
    "\n",
    "Заказчик предоставил нам три датафрейма:\n",
    "1. Общие сведенья о клиентах '/datasets/users_go.csv'\n",
    "2. Все поездки клиентов '/datasets/rides_go.csv'\n",
    "3. Информация о типах подписки и их спецификация '/datasets/subscriptions_go.csv'\n",
    "\n",
    "Необходимо ознакомиться с данными всех датафреймов, выявить пропуски/ошибки/дубликаты и обработать их для более точного дальнейшего анализа.\n",
    "\n",
    "Также необходимо объеденить все таблицы и добавить необходимые столбцы для дальнейших расчетов. Провести визуализацию данных, чтобы увидеть их распределение и сделать необходимые выводы.\n",
    "\n",
    "В конце анализа, нужно проверить вышеперечисленные гипотезы.\n",
    "\n",
    "Поэтому анализ будет проходить в шесть этапов:\n",
    "1. Обзор данных датафреймов\n",
    "2. Предобработка данных\n",
    "3. Визуализация данных\n",
    "4. Объединение таблиц\n",
    "5. Добавление новых данных(столбцов)\n",
    "6. Проверка гипотез\n",
    "\n"
   ]
  },
  {
   "cell_type": "code",
   "execution_count": 1,
   "id": "75e8cad2",
   "metadata": {},
   "outputs": [],
   "source": [
    "import pandas as pd\n",
    "import matplotlib.pyplot as plt\n",
    "import numpy as np\n",
    "from scipy import stats as st"
   ]
  },
  {
   "cell_type": "markdown",
   "id": "c42cbe00",
   "metadata": {},
   "source": [
    "#### Шаг 1. Загрузка данных"
   ]
  },
  {
   "cell_type": "code",
   "execution_count": 2,
   "id": "eff9f206",
   "metadata": {},
   "outputs": [],
   "source": [
    "df_users = pd.read_csv('/datasets/users_go.csv')\n",
    "df_rides = pd.read_csv('/datasets/rides_go.csv')\n",
    "df_sub = pd.read_csv('/datasets/subscriptions_go.csv')"
   ]
  },
  {
   "cell_type": "markdown",
   "id": "cfe02ccf",
   "metadata": {},
   "source": [
    "Изучим каждый датафрейм отдельно."
   ]
  },
  {
   "cell_type": "code",
   "execution_count": 3,
   "id": "b08b453e",
   "metadata": {},
   "outputs": [
    {
     "name": "stdout",
     "output_type": "stream",
     "text": [
      "<class 'pandas.core.frame.DataFrame'>\n",
      "RangeIndex: 1565 entries, 0 to 1564\n",
      "Data columns (total 5 columns):\n",
      " #   Column             Non-Null Count  Dtype \n",
      "---  ------             --------------  ----- \n",
      " 0   user_id            1565 non-null   int64 \n",
      " 1   name               1565 non-null   object\n",
      " 2   age                1565 non-null   int64 \n",
      " 3   city               1565 non-null   object\n",
      " 4   subscription_type  1565 non-null   object\n",
      "dtypes: int64(2), object(3)\n",
      "memory usage: 61.3+ KB\n"
     ]
    }
   ],
   "source": [
    "df_users.info()"
   ]
  },
  {
   "cell_type": "code",
   "execution_count": 4,
   "id": "724f4c6d",
   "metadata": {},
   "outputs": [
    {
     "data": {
      "text/html": [
       "<div>\n",
       "<style scoped>\n",
       "    .dataframe tbody tr th:only-of-type {\n",
       "        vertical-align: middle;\n",
       "    }\n",
       "\n",
       "    .dataframe tbody tr th {\n",
       "        vertical-align: top;\n",
       "    }\n",
       "\n",
       "    .dataframe thead th {\n",
       "        text-align: right;\n",
       "    }\n",
       "</style>\n",
       "<table border=\"1\" class=\"dataframe\">\n",
       "  <thead>\n",
       "    <tr style=\"text-align: right;\">\n",
       "      <th></th>\n",
       "      <th>user_id</th>\n",
       "      <th>name</th>\n",
       "      <th>age</th>\n",
       "      <th>city</th>\n",
       "      <th>subscription_type</th>\n",
       "    </tr>\n",
       "  </thead>\n",
       "  <tbody>\n",
       "    <tr>\n",
       "      <th>0</th>\n",
       "      <td>1</td>\n",
       "      <td>Кира</td>\n",
       "      <td>22</td>\n",
       "      <td>Тюмень</td>\n",
       "      <td>ultra</td>\n",
       "    </tr>\n",
       "    <tr>\n",
       "      <th>1</th>\n",
       "      <td>2</td>\n",
       "      <td>Станислав</td>\n",
       "      <td>31</td>\n",
       "      <td>Омск</td>\n",
       "      <td>ultra</td>\n",
       "    </tr>\n",
       "    <tr>\n",
       "      <th>2</th>\n",
       "      <td>3</td>\n",
       "      <td>Алексей</td>\n",
       "      <td>20</td>\n",
       "      <td>Москва</td>\n",
       "      <td>ultra</td>\n",
       "    </tr>\n",
       "    <tr>\n",
       "      <th>3</th>\n",
       "      <td>4</td>\n",
       "      <td>Константин</td>\n",
       "      <td>26</td>\n",
       "      <td>Ростов-на-Дону</td>\n",
       "      <td>ultra</td>\n",
       "    </tr>\n",
       "    <tr>\n",
       "      <th>4</th>\n",
       "      <td>5</td>\n",
       "      <td>Адель</td>\n",
       "      <td>28</td>\n",
       "      <td>Омск</td>\n",
       "      <td>ultra</td>\n",
       "    </tr>\n",
       "  </tbody>\n",
       "</table>\n",
       "</div>"
      ],
      "text/plain": [
       "   user_id        name  age            city subscription_type\n",
       "0        1        Кира   22          Тюмень             ultra\n",
       "1        2   Станислав   31            Омск             ultra\n",
       "2        3     Алексей   20          Москва             ultra\n",
       "3        4  Константин   26  Ростов-на-Дону             ultra\n",
       "4        5       Адель   28            Омск             ultra"
      ]
     },
     "execution_count": 4,
     "metadata": {},
     "output_type": "execute_result"
    }
   ],
   "source": [
    "df_users.head(5)"
   ]
  },
  {
   "cell_type": "code",
   "execution_count": 5,
   "id": "0ac49d19",
   "metadata": {},
   "outputs": [
    {
     "name": "stdout",
     "output_type": "stream",
     "text": [
      "<class 'pandas.core.frame.DataFrame'>\n",
      "RangeIndex: 18068 entries, 0 to 18067\n",
      "Data columns (total 4 columns):\n",
      " #   Column    Non-Null Count  Dtype  \n",
      "---  ------    --------------  -----  \n",
      " 0   user_id   18068 non-null  int64  \n",
      " 1   distance  18068 non-null  float64\n",
      " 2   duration  18068 non-null  float64\n",
      " 3   date      18068 non-null  object \n",
      "dtypes: float64(2), int64(1), object(1)\n",
      "memory usage: 564.8+ KB\n"
     ]
    }
   ],
   "source": [
    "df_rides.info()"
   ]
  },
  {
   "cell_type": "code",
   "execution_count": 6,
   "id": "1cae71ee",
   "metadata": {},
   "outputs": [
    {
     "data": {
      "text/html": [
       "<div>\n",
       "<style scoped>\n",
       "    .dataframe tbody tr th:only-of-type {\n",
       "        vertical-align: middle;\n",
       "    }\n",
       "\n",
       "    .dataframe tbody tr th {\n",
       "        vertical-align: top;\n",
       "    }\n",
       "\n",
       "    .dataframe thead th {\n",
       "        text-align: right;\n",
       "    }\n",
       "</style>\n",
       "<table border=\"1\" class=\"dataframe\">\n",
       "  <thead>\n",
       "    <tr style=\"text-align: right;\">\n",
       "      <th></th>\n",
       "      <th>user_id</th>\n",
       "      <th>distance</th>\n",
       "      <th>duration</th>\n",
       "      <th>date</th>\n",
       "    </tr>\n",
       "  </thead>\n",
       "  <tbody>\n",
       "    <tr>\n",
       "      <th>0</th>\n",
       "      <td>1</td>\n",
       "      <td>4409.919140</td>\n",
       "      <td>25.599769</td>\n",
       "      <td>2021-01-01</td>\n",
       "    </tr>\n",
       "    <tr>\n",
       "      <th>1</th>\n",
       "      <td>1</td>\n",
       "      <td>2617.592153</td>\n",
       "      <td>15.816871</td>\n",
       "      <td>2021-01-18</td>\n",
       "    </tr>\n",
       "    <tr>\n",
       "      <th>2</th>\n",
       "      <td>1</td>\n",
       "      <td>754.159807</td>\n",
       "      <td>6.232113</td>\n",
       "      <td>2021-04-20</td>\n",
       "    </tr>\n",
       "    <tr>\n",
       "      <th>3</th>\n",
       "      <td>1</td>\n",
       "      <td>2694.783254</td>\n",
       "      <td>18.511000</td>\n",
       "      <td>2021-08-11</td>\n",
       "    </tr>\n",
       "    <tr>\n",
       "      <th>4</th>\n",
       "      <td>1</td>\n",
       "      <td>4028.687306</td>\n",
       "      <td>26.265803</td>\n",
       "      <td>2021-08-28</td>\n",
       "    </tr>\n",
       "  </tbody>\n",
       "</table>\n",
       "</div>"
      ],
      "text/plain": [
       "   user_id     distance   duration        date\n",
       "0        1  4409.919140  25.599769  2021-01-01\n",
       "1        1  2617.592153  15.816871  2021-01-18\n",
       "2        1   754.159807   6.232113  2021-04-20\n",
       "3        1  2694.783254  18.511000  2021-08-11\n",
       "4        1  4028.687306  26.265803  2021-08-28"
      ]
     },
     "execution_count": 6,
     "metadata": {},
     "output_type": "execute_result"
    }
   ],
   "source": [
    "df_rides.head(5)"
   ]
  },
  {
   "cell_type": "code",
   "execution_count": 7,
   "id": "ce0e8f45",
   "metadata": {},
   "outputs": [
    {
     "name": "stdout",
     "output_type": "stream",
     "text": [
      "<class 'pandas.core.frame.DataFrame'>\n",
      "RangeIndex: 2 entries, 0 to 1\n",
      "Data columns (total 4 columns):\n",
      " #   Column             Non-Null Count  Dtype \n",
      "---  ------             --------------  ----- \n",
      " 0   subscription_type  2 non-null      object\n",
      " 1   minute_price       2 non-null      int64 \n",
      " 2   start_ride_price   2 non-null      int64 \n",
      " 3   subscription_fee   2 non-null      int64 \n",
      "dtypes: int64(3), object(1)\n",
      "memory usage: 192.0+ bytes\n"
     ]
    }
   ],
   "source": [
    "df_sub.info()"
   ]
  },
  {
   "cell_type": "code",
   "execution_count": 8,
   "id": "03891116",
   "metadata": {},
   "outputs": [
    {
     "data": {
      "text/html": [
       "<div>\n",
       "<style scoped>\n",
       "    .dataframe tbody tr th:only-of-type {\n",
       "        vertical-align: middle;\n",
       "    }\n",
       "\n",
       "    .dataframe tbody tr th {\n",
       "        vertical-align: top;\n",
       "    }\n",
       "\n",
       "    .dataframe thead th {\n",
       "        text-align: right;\n",
       "    }\n",
       "</style>\n",
       "<table border=\"1\" class=\"dataframe\">\n",
       "  <thead>\n",
       "    <tr style=\"text-align: right;\">\n",
       "      <th></th>\n",
       "      <th>subscription_type</th>\n",
       "      <th>minute_price</th>\n",
       "      <th>start_ride_price</th>\n",
       "      <th>subscription_fee</th>\n",
       "    </tr>\n",
       "  </thead>\n",
       "  <tbody>\n",
       "    <tr>\n",
       "      <th>0</th>\n",
       "      <td>free</td>\n",
       "      <td>8</td>\n",
       "      <td>50</td>\n",
       "      <td>0</td>\n",
       "    </tr>\n",
       "    <tr>\n",
       "      <th>1</th>\n",
       "      <td>ultra</td>\n",
       "      <td>6</td>\n",
       "      <td>0</td>\n",
       "      <td>199</td>\n",
       "    </tr>\n",
       "  </tbody>\n",
       "</table>\n",
       "</div>"
      ],
      "text/plain": [
       "  subscription_type  minute_price  start_ride_price  subscription_fee\n",
       "0              free             8                50                 0\n",
       "1             ultra             6                 0               199"
      ]
     },
     "execution_count": 8,
     "metadata": {},
     "output_type": "execute_result"
    }
   ],
   "source": [
    "df_sub"
   ]
  },
  {
   "cell_type": "markdown",
   "id": "6a1c7f80",
   "metadata": {},
   "source": [
    "#### Промежуточный вывод: \n",
    "\n",
    "Во всех трёх датафреймах отсутствуют пропуски. Необходимо ознакомиться с данными и проверить их на дубликаты."
   ]
  },
  {
   "cell_type": "markdown",
   "id": "e95ebca7",
   "metadata": {},
   "source": [
    "#### Шаг 2. Предобработка данных"
   ]
  },
  {
   "cell_type": "code",
   "execution_count": 9,
   "id": "af6d202c",
   "metadata": {},
   "outputs": [
    {
     "name": "stdout",
     "output_type": "stream",
     "text": [
      "<class 'pandas.core.frame.DataFrame'>\n",
      "RangeIndex: 18068 entries, 0 to 18067\n",
      "Data columns (total 4 columns):\n",
      " #   Column    Non-Null Count  Dtype         \n",
      "---  ------    --------------  -----         \n",
      " 0   user_id   18068 non-null  int64         \n",
      " 1   distance  18068 non-null  float64       \n",
      " 2   duration  18068 non-null  float64       \n",
      " 3   date      18068 non-null  datetime64[ns]\n",
      "dtypes: datetime64[ns](1), float64(2), int64(1)\n",
      "memory usage: 564.8 KB\n"
     ]
    }
   ],
   "source": [
    "#приведём столбец date к типу даты pandas и проверим через info()\n",
    "df_rides['date'] = pd.to_datetime(df_rides['date'], format='%Y-%m-%d')\n",
    "df_rides.info()"
   ]
  },
  {
   "cell_type": "code",
   "execution_count": 10,
   "id": "c290cb0f",
   "metadata": {},
   "outputs": [
    {
     "data": {
      "text/html": [
       "<div>\n",
       "<style scoped>\n",
       "    .dataframe tbody tr th:only-of-type {\n",
       "        vertical-align: middle;\n",
       "    }\n",
       "\n",
       "    .dataframe tbody tr th {\n",
       "        vertical-align: top;\n",
       "    }\n",
       "\n",
       "    .dataframe thead th {\n",
       "        text-align: right;\n",
       "    }\n",
       "</style>\n",
       "<table border=\"1\" class=\"dataframe\">\n",
       "  <thead>\n",
       "    <tr style=\"text-align: right;\">\n",
       "      <th></th>\n",
       "      <th>user_id</th>\n",
       "      <th>distance</th>\n",
       "      <th>duration</th>\n",
       "      <th>date</th>\n",
       "      <th>month</th>\n",
       "    </tr>\n",
       "  </thead>\n",
       "  <tbody>\n",
       "    <tr>\n",
       "      <th>0</th>\n",
       "      <td>1</td>\n",
       "      <td>4409.919140</td>\n",
       "      <td>25.599769</td>\n",
       "      <td>2021-01-01</td>\n",
       "      <td>1</td>\n",
       "    </tr>\n",
       "    <tr>\n",
       "      <th>1</th>\n",
       "      <td>1</td>\n",
       "      <td>2617.592153</td>\n",
       "      <td>15.816871</td>\n",
       "      <td>2021-01-18</td>\n",
       "      <td>1</td>\n",
       "    </tr>\n",
       "    <tr>\n",
       "      <th>2</th>\n",
       "      <td>1</td>\n",
       "      <td>754.159807</td>\n",
       "      <td>6.232113</td>\n",
       "      <td>2021-04-20</td>\n",
       "      <td>4</td>\n",
       "    </tr>\n",
       "    <tr>\n",
       "      <th>3</th>\n",
       "      <td>1</td>\n",
       "      <td>2694.783254</td>\n",
       "      <td>18.511000</td>\n",
       "      <td>2021-08-11</td>\n",
       "      <td>8</td>\n",
       "    </tr>\n",
       "    <tr>\n",
       "      <th>4</th>\n",
       "      <td>1</td>\n",
       "      <td>4028.687306</td>\n",
       "      <td>26.265803</td>\n",
       "      <td>2021-08-28</td>\n",
       "      <td>8</td>\n",
       "    </tr>\n",
       "    <tr>\n",
       "      <th>5</th>\n",
       "      <td>1</td>\n",
       "      <td>2770.890808</td>\n",
       "      <td>16.650138</td>\n",
       "      <td>2021-10-09</td>\n",
       "      <td>10</td>\n",
       "    </tr>\n",
       "    <tr>\n",
       "      <th>6</th>\n",
       "      <td>1</td>\n",
       "      <td>3039.020292</td>\n",
       "      <td>14.927879</td>\n",
       "      <td>2021-10-19</td>\n",
       "      <td>10</td>\n",
       "    </tr>\n",
       "    <tr>\n",
       "      <th>7</th>\n",
       "      <td>1</td>\n",
       "      <td>2842.118050</td>\n",
       "      <td>23.117468</td>\n",
       "      <td>2021-11-06</td>\n",
       "      <td>11</td>\n",
       "    </tr>\n",
       "    <tr>\n",
       "      <th>8</th>\n",
       "      <td>1</td>\n",
       "      <td>3412.690668</td>\n",
       "      <td>15.238072</td>\n",
       "      <td>2021-11-14</td>\n",
       "      <td>11</td>\n",
       "    </tr>\n",
       "    <tr>\n",
       "      <th>9</th>\n",
       "      <td>1</td>\n",
       "      <td>748.690645</td>\n",
       "      <td>15.041884</td>\n",
       "      <td>2021-11-22</td>\n",
       "      <td>11</td>\n",
       "    </tr>\n",
       "  </tbody>\n",
       "</table>\n",
       "</div>"
      ],
      "text/plain": [
       "   user_id     distance   duration       date  month\n",
       "0        1  4409.919140  25.599769 2021-01-01      1\n",
       "1        1  2617.592153  15.816871 2021-01-18      1\n",
       "2        1   754.159807   6.232113 2021-04-20      4\n",
       "3        1  2694.783254  18.511000 2021-08-11      8\n",
       "4        1  4028.687306  26.265803 2021-08-28      8\n",
       "5        1  2770.890808  16.650138 2021-10-09     10\n",
       "6        1  3039.020292  14.927879 2021-10-19     10\n",
       "7        1  2842.118050  23.117468 2021-11-06     11\n",
       "8        1  3412.690668  15.238072 2021-11-14     11\n",
       "9        1   748.690645  15.041884 2021-11-22     11"
      ]
     },
     "metadata": {},
     "output_type": "display_data"
    }
   ],
   "source": [
    "#создадим новый столбец с номером месяца на основе столбца date\n",
    "df_rides['month'] = df_rides['date'].dt.month\n",
    "display(df_rides.head(10))"
   ]
  },
  {
   "cell_type": "code",
   "execution_count": 11,
   "id": "c0adfd40",
   "metadata": {
    "scrolled": true
   },
   "outputs": [
    {
     "data": {
      "text/plain": [
       "array([2021])"
      ]
     },
     "execution_count": 11,
     "metadata": {},
     "output_type": "execute_result"
    }
   ],
   "source": [
    "df_rides['year'] = df_rides['date'].dt.year\n",
    "df_rides['year'].unique()"
   ]
  },
  {
   "cell_type": "code",
   "execution_count": 12,
   "id": "604f259e",
   "metadata": {},
   "outputs": [
    {
     "data": {
      "text/html": [
       "<div>\n",
       "<style scoped>\n",
       "    .dataframe tbody tr th:only-of-type {\n",
       "        vertical-align: middle;\n",
       "    }\n",
       "\n",
       "    .dataframe tbody tr th {\n",
       "        vertical-align: top;\n",
       "    }\n",
       "\n",
       "    .dataframe thead th {\n",
       "        text-align: right;\n",
       "    }\n",
       "</style>\n",
       "<table border=\"1\" class=\"dataframe\">\n",
       "  <thead>\n",
       "    <tr style=\"text-align: right;\">\n",
       "      <th></th>\n",
       "      <th>user_id</th>\n",
       "      <th>distance</th>\n",
       "      <th>duration</th>\n",
       "      <th>date</th>\n",
       "      <th>month</th>\n",
       "      <th>year</th>\n",
       "    </tr>\n",
       "  </thead>\n",
       "  <tbody>\n",
       "    <tr>\n",
       "      <th>12013</th>\n",
       "      <td>1102</td>\n",
       "      <td>4602.122401</td>\n",
       "      <td>0.500000</td>\n",
       "      <td>2021-08-01</td>\n",
       "      <td>8</td>\n",
       "      <td>2021</td>\n",
       "    </tr>\n",
       "    <tr>\n",
       "      <th>17314</th>\n",
       "      <td>1483</td>\n",
       "      <td>4445.481070</td>\n",
       "      <td>0.500000</td>\n",
       "      <td>2021-03-06</td>\n",
       "      <td>3</td>\n",
       "      <td>2021</td>\n",
       "    </tr>\n",
       "    <tr>\n",
       "      <th>15029</th>\n",
       "      <td>1318</td>\n",
       "      <td>5894.633314</td>\n",
       "      <td>0.500000</td>\n",
       "      <td>2021-03-28</td>\n",
       "      <td>3</td>\n",
       "      <td>2021</td>\n",
       "    </tr>\n",
       "    <tr>\n",
       "      <th>7437</th>\n",
       "      <td>766</td>\n",
       "      <td>4539.088310</td>\n",
       "      <td>0.500000</td>\n",
       "      <td>2021-12-22</td>\n",
       "      <td>12</td>\n",
       "      <td>2021</td>\n",
       "    </tr>\n",
       "    <tr>\n",
       "      <th>12967</th>\n",
       "      <td>1172</td>\n",
       "      <td>4907.140751</td>\n",
       "      <td>0.500000</td>\n",
       "      <td>2021-12-19</td>\n",
       "      <td>12</td>\n",
       "      <td>2021</td>\n",
       "    </tr>\n",
       "    <tr>\n",
       "      <th>...</th>\n",
       "      <td>...</td>\n",
       "      <td>...</td>\n",
       "      <td>...</td>\n",
       "      <td>...</td>\n",
       "      <td>...</td>\n",
       "      <td>...</td>\n",
       "    </tr>\n",
       "    <tr>\n",
       "      <th>6453</th>\n",
       "      <td>694</td>\n",
       "      <td>4210.871467</td>\n",
       "      <td>38.265229</td>\n",
       "      <td>2021-03-11</td>\n",
       "      <td>3</td>\n",
       "      <td>2021</td>\n",
       "    </tr>\n",
       "    <tr>\n",
       "      <th>1998</th>\n",
       "      <td>216</td>\n",
       "      <td>4831.339954</td>\n",
       "      <td>38.352763</td>\n",
       "      <td>2021-05-11</td>\n",
       "      <td>5</td>\n",
       "      <td>2021</td>\n",
       "    </tr>\n",
       "    <tr>\n",
       "      <th>2623</th>\n",
       "      <td>278</td>\n",
       "      <td>4754.433686</td>\n",
       "      <td>39.526602</td>\n",
       "      <td>2021-12-02</td>\n",
       "      <td>12</td>\n",
       "      <td>2021</td>\n",
       "    </tr>\n",
       "    <tr>\n",
       "      <th>4709</th>\n",
       "      <td>507</td>\n",
       "      <td>4645.642671</td>\n",
       "      <td>39.873856</td>\n",
       "      <td>2021-01-15</td>\n",
       "      <td>1</td>\n",
       "      <td>2021</td>\n",
       "    </tr>\n",
       "    <tr>\n",
       "      <th>4215</th>\n",
       "      <td>454</td>\n",
       "      <td>5137.327103</td>\n",
       "      <td>40.823963</td>\n",
       "      <td>2021-12-27</td>\n",
       "      <td>12</td>\n",
       "      <td>2021</td>\n",
       "    </tr>\n",
       "  </tbody>\n",
       "</table>\n",
       "<p>18068 rows × 6 columns</p>\n",
       "</div>"
      ],
      "text/plain": [
       "       user_id     distance   duration       date  month  year\n",
       "12013     1102  4602.122401   0.500000 2021-08-01      8  2021\n",
       "17314     1483  4445.481070   0.500000 2021-03-06      3  2021\n",
       "15029     1318  5894.633314   0.500000 2021-03-28      3  2021\n",
       "7437       766  4539.088310   0.500000 2021-12-22     12  2021\n",
       "12967     1172  4907.140751   0.500000 2021-12-19     12  2021\n",
       "...        ...          ...        ...        ...    ...   ...\n",
       "6453       694  4210.871467  38.265229 2021-03-11      3  2021\n",
       "1998       216  4831.339954  38.352763 2021-05-11      5  2021\n",
       "2623       278  4754.433686  39.526602 2021-12-02     12  2021\n",
       "4709       507  4645.642671  39.873856 2021-01-15      1  2021\n",
       "4215       454  5137.327103  40.823963 2021-12-27     12  2021\n",
       "\n",
       "[18068 rows x 6 columns]"
      ]
     },
     "execution_count": 12,
     "metadata": {},
     "output_type": "execute_result"
    }
   ],
   "source": [
    "df_rides.sort_values('duration')"
   ]
  },
  {
   "cell_type": "code",
   "execution_count": 13,
   "id": "2f9dae95",
   "metadata": {},
   "outputs": [
    {
     "data": {
      "text/html": [
       "<div>\n",
       "<style scoped>\n",
       "    .dataframe tbody tr th:only-of-type {\n",
       "        vertical-align: middle;\n",
       "    }\n",
       "\n",
       "    .dataframe tbody tr th {\n",
       "        vertical-align: top;\n",
       "    }\n",
       "\n",
       "    .dataframe thead th {\n",
       "        text-align: right;\n",
       "    }\n",
       "</style>\n",
       "<table border=\"1\" class=\"dataframe\">\n",
       "  <thead>\n",
       "    <tr style=\"text-align: right;\">\n",
       "      <th></th>\n",
       "      <th>user_id</th>\n",
       "      <th>distance</th>\n",
       "      <th>duration</th>\n",
       "      <th>date</th>\n",
       "      <th>month</th>\n",
       "      <th>year</th>\n",
       "    </tr>\n",
       "  </thead>\n",
       "  <tbody>\n",
       "    <tr>\n",
       "      <th>0</th>\n",
       "      <td>1</td>\n",
       "      <td>4409.92</td>\n",
       "      <td>26.0</td>\n",
       "      <td>2021-01-01</td>\n",
       "      <td>1</td>\n",
       "      <td>2021</td>\n",
       "    </tr>\n",
       "    <tr>\n",
       "      <th>1</th>\n",
       "      <td>1</td>\n",
       "      <td>2617.59</td>\n",
       "      <td>16.0</td>\n",
       "      <td>2021-01-18</td>\n",
       "      <td>1</td>\n",
       "      <td>2021</td>\n",
       "    </tr>\n",
       "    <tr>\n",
       "      <th>2</th>\n",
       "      <td>1</td>\n",
       "      <td>754.16</td>\n",
       "      <td>7.0</td>\n",
       "      <td>2021-04-20</td>\n",
       "      <td>4</td>\n",
       "      <td>2021</td>\n",
       "    </tr>\n",
       "    <tr>\n",
       "      <th>3</th>\n",
       "      <td>1</td>\n",
       "      <td>2694.78</td>\n",
       "      <td>19.0</td>\n",
       "      <td>2021-08-11</td>\n",
       "      <td>8</td>\n",
       "      <td>2021</td>\n",
       "    </tr>\n",
       "    <tr>\n",
       "      <th>4</th>\n",
       "      <td>1</td>\n",
       "      <td>4028.69</td>\n",
       "      <td>27.0</td>\n",
       "      <td>2021-08-28</td>\n",
       "      <td>8</td>\n",
       "      <td>2021</td>\n",
       "    </tr>\n",
       "  </tbody>\n",
       "</table>\n",
       "</div>"
      ],
      "text/plain": [
       "   user_id  distance  duration       date  month  year\n",
       "0        1   4409.92      26.0 2021-01-01      1  2021\n",
       "1        1   2617.59      16.0 2021-01-18      1  2021\n",
       "2        1    754.16       7.0 2021-04-20      4  2021\n",
       "3        1   2694.78      19.0 2021-08-11      8  2021\n",
       "4        1   4028.69      27.0 2021-08-28      8  2021"
      ]
     },
     "execution_count": 13,
     "metadata": {},
     "output_type": "execute_result"
    }
   ],
   "source": [
    "#огруглим значения столбцов duration и distance\n",
    "df_rides['distance'] = df_rides['distance'].round(2)\n",
    "df_rides['duration'] = np.ceil(df_rides['duration']) \n",
    "\n",
    "df_rides.head(5)"
   ]
  },
  {
   "cell_type": "code",
   "execution_count": 14,
   "id": "fb2bc2a9",
   "metadata": {},
   "outputs": [
    {
     "name": "stdout",
     "output_type": "stream",
     "text": [
      "31\n",
      "0\n",
      "0\n"
     ]
    }
   ],
   "source": [
    "#проверяем датафреймы на наличие дубликатов\n",
    "print(df_users.duplicated().sum())\n",
    "print(df_rides.duplicated().sum())\n",
    "print(df_sub.duplicated().sum())"
   ]
  },
  {
   "cell_type": "markdown",
   "id": "4c574131",
   "metadata": {},
   "source": [
    "Как видим, в датафрейме с пользователями есть дубликаты, изучим данные столбцов и избавимся от дубликатов."
   ]
  },
  {
   "cell_type": "code",
   "execution_count": 15,
   "id": "68bd692f",
   "metadata": {},
   "outputs": [
    {
     "data": {
      "text/plain": [
       "array([   1,    2,    3, ..., 1532, 1533, 1534])"
      ]
     },
     "execution_count": 15,
     "metadata": {},
     "output_type": "execute_result"
    }
   ],
   "source": [
    "df_users['user_id'].unique()"
   ]
  },
  {
   "cell_type": "code",
   "execution_count": 16,
   "id": "f87ad595",
   "metadata": {},
   "outputs": [
    {
     "data": {
      "text/plain": [
       "array(['Кира', 'Станислав', 'Алексей', 'Константин', 'Адель', 'Регина',\n",
       "       'Игорь', 'Юрий', 'Ян', 'Валерий', 'Агата', 'Марк', 'Ева',\n",
       "       'Антонина', 'Валерия', 'Амалия', 'Даниил', 'Аделина', 'Святогор',\n",
       "       'Борис', 'Вероника', 'Ростислав', 'Назар', 'Эдуард', 'Василий',\n",
       "       'Денис', 'Тамара', 'Николай', 'Эвелина', 'Федор', 'Руслан', 'Иван',\n",
       "       'Любовь', 'Ярослава', 'Майя', 'Ильдар', 'Данила', 'Нина',\n",
       "       'Стефания', 'Ясмина', 'Дмитрий', 'Александр', 'Одиссей', 'Арсений',\n",
       "       'Алла', 'Таисия', 'Максим', 'Юлиана', 'Павел', 'Карина', 'Алиса',\n",
       "       'Лидия', 'Рамиль', 'Родион', 'Ника', 'Оксана', 'Анастасия',\n",
       "       'Маргарита', 'Вера', 'Тимур', 'Никита', 'Лев', 'Влад', 'Артур',\n",
       "       'Анна', 'Ольга', 'Вячеслав', 'Ксения', 'Виталина', 'Владислав',\n",
       "       'Тамерлан', 'Амина', 'Вадим', 'Олеся', 'Зарина', 'Егор', 'Гордей',\n",
       "       'Лилия', 'Святослав', 'Роберт', 'Амир', 'Влада', 'Богдан',\n",
       "       'Полина', 'Марат', 'Елисей', 'Макар', 'Алина', 'Глеб', 'Андрей',\n",
       "       'Альбина', 'Людмила', 'Марсель', 'Милена', 'Диана', 'Дарина',\n",
       "       'Данил', 'Артемий', 'Лиана', 'Альберт', 'Герман', 'Жанна', 'Нелли',\n",
       "       'Евгения', 'Ариана', 'Самира', 'Захар', 'Эльвира', 'Екатерина',\n",
       "       'Инна', 'Демид', 'Яна', 'Михаил', 'Татьяна', 'Степан', 'Мелания',\n",
       "       'Тимофей', 'Ирина', 'Анжелика', 'Владислава', 'Елизавета',\n",
       "       'Мадина', 'Снежана', 'Даниэль', 'Рустам', 'Каролина', 'Ангелина',\n",
       "       'Владимир', 'Виктория', 'Валентина', 'Семен', 'Арина', 'Лариса',\n",
       "       'Есения', 'Галина', 'Кирилл', 'Игнат', 'Виталий', 'Эмилия',\n",
       "       'Виолетта', 'Яромир', 'Софья', 'Мирослава', 'Евгений', 'Варвара',\n",
       "       'Платон', 'Наталия', 'Анатолий', 'Кристина', 'Всеволод', 'Дарья',\n",
       "       'Наташа', 'Мария', 'Марина', 'Василиса', 'Юлия', 'Илья', 'Злата',\n",
       "       'Роман', 'Наталья', 'Элина', 'Арсен', 'Айдар', 'Алия', 'Виктор',\n",
       "       'Мирон', 'Ульяна', 'Георгий', 'Петр', 'Эльмира', 'Олег', 'Дамир',\n",
       "       'Самир', 'Ярослав', 'Камилла', 'Сергей', 'Эмиль', 'Радмир',\n",
       "       'Савелий', 'Елена', 'Антон', 'Мирослав', 'София', 'Тихон', 'Артём',\n",
       "       'Давид', 'Григорий', 'Алёна', 'Светлана', 'Леонид', 'Александра',\n",
       "       'Василина', 'Милана', 'Матвей'], dtype=object)"
      ]
     },
     "execution_count": 16,
     "metadata": {},
     "output_type": "execute_result"
    }
   ],
   "source": [
    "df_users['name'].unique()"
   ]
  },
  {
   "cell_type": "code",
   "execution_count": 17,
   "id": "4d0241dd",
   "metadata": {},
   "outputs": [
    {
     "data": {
      "text/plain": [
       "array([22, 31, 20, 26, 28, 25, 23, 21, 18, 27, 24, 29, 32, 14, 19, 30, 17,\n",
       "       12, 35, 33, 13, 15, 37, 16, 34, 38, 36, 39, 43])"
      ]
     },
     "execution_count": 17,
     "metadata": {},
     "output_type": "execute_result"
    }
   ],
   "source": [
    "df_users['age'].unique()"
   ]
  },
  {
   "cell_type": "code",
   "execution_count": 18,
   "id": "e31b2e6c",
   "metadata": {},
   "outputs": [
    {
     "data": {
      "text/plain": [
       "array(['Тюмень', 'Омск', 'Москва', 'Ростов-на-Дону', 'Краснодар',\n",
       "       'Пятигорск', 'Екатеринбург', 'Сочи'], dtype=object)"
      ]
     },
     "execution_count": 18,
     "metadata": {},
     "output_type": "execute_result"
    }
   ],
   "source": [
    "df_users['city'].unique()"
   ]
  },
  {
   "cell_type": "code",
   "execution_count": 19,
   "id": "2c3af470",
   "metadata": {},
   "outputs": [
    {
     "data": {
      "text/plain": [
       "array(['ultra', 'free'], dtype=object)"
      ]
     },
     "execution_count": 19,
     "metadata": {},
     "output_type": "execute_result"
    }
   ],
   "source": [
    "df_users['subscription_type'].unique()"
   ]
  },
  {
   "cell_type": "code",
   "execution_count": 20,
   "id": "6bf9d0eb",
   "metadata": {},
   "outputs": [
    {
     "name": "stdout",
     "output_type": "stream",
     "text": [
      "0\n"
     ]
    }
   ],
   "source": [
    "#удаляем явные дубликаты\n",
    "df_users = df_users.drop_duplicates(keep='first')\n",
    "print(df_users.duplicated().sum())"
   ]
  },
  {
   "cell_type": "markdown",
   "id": "afe1ab64",
   "metadata": {},
   "source": [
    "#### Промежуточный вывод:\n",
    "1. Привели столбец date из датафрейма df_rides в формат datetime и в нём же добавили столбец month для дальнейшего анализа.\n",
    "2. Во всех трёх датафреймах не были обнаружены неявные дубликаты.\n",
    "3. В df_users были выявлены дубликаты в количестве 31 и удалены из датафрейма. Их причины возникновения могут быть: повторная регистрация пользователя на сайте."
   ]
  },
  {
   "cell_type": "markdown",
   "id": "212593c7",
   "metadata": {},
   "source": [
    "#### Шаг 3. Исследовательский анализ данных"
   ]
  },
  {
   "cell_type": "code",
   "execution_count": 21,
   "id": "e3a4274c",
   "metadata": {},
   "outputs": [
    {
     "data": {
      "image/png": "[encoded data removed]",
      "text/plain": [
       "<Figure size 432x288 with 1 Axes>"
      ]
     },
     "metadata": {
      "needs_background": "light"
     },
     "output_type": "display_data"
    }
   ],
   "source": [
    "#построим график для столбца city и проверим частоту встречаемости городов\n",
    "df_users['city'].value_counts().plot(kind='bar', title='Частота городов')\n",
    "plt.show()"
   ]
  },
  {
   "cell_type": "markdown",
   "id": "d62e58ec",
   "metadata": {},
   "source": [
    "Изучив график, можем сделать вывод: чаще всего в датафрейме встречается город Пятигорск, наименьше - Москва. Видимо в Москве пользуются популярностью другие приложения для аренды самокатов."
   ]
  },
  {
   "cell_type": "code",
   "execution_count": 22,
   "id": "6d53a71a",
   "metadata": {},
   "outputs": [
    {
     "data": {
      "image/png": "[encoded data removed]",
      "text/plain": [
       "<Figure size 432x288 with 1 Axes>"
      ]
     },
     "metadata": {},
     "output_type": "display_data"
    }
   ],
   "source": [
    "#построим график соотношения пользователей с подпиской и без подписки\n",
    "df_users['subscription_type'].value_counts().plot(kind='pie', title='Распределение подписок')\n",
    "plt.show()"
   ]
  },
  {
   "cell_type": "code",
   "execution_count": 23,
   "id": "e70a3de1",
   "metadata": {},
   "outputs": [
    {
     "data": {
      "text/plain": [
       "user_id              0.544329\n",
       "name                 0.544329\n",
       "age                  0.544329\n",
       "city                 0.544329\n",
       "subscription_type    0.544329\n",
       "dtype: float64"
      ]
     },
     "execution_count": 23,
     "metadata": {},
     "output_type": "execute_result"
    }
   ],
   "source": [
    "(df_users[df_users['subscription_type'] == 'free'].count()) / len(df_users)"
   ]
  },
  {
   "cell_type": "markdown",
   "id": "847326ab",
   "metadata": {},
   "source": [
    "Изучив график, можем сделать вывод: количество пользователей с подпиской и без практически одинаково; пользователей без подписки на 4.43% больше."
   ]
  },
  {
   "cell_type": "code",
   "execution_count": 24,
   "id": "0a1031c5",
   "metadata": {},
   "outputs": [
    {
     "data": {
      "image/png": "[encoded data removed]",
      "text/plain": [
       "<Figure size 720x360 with 1 Axes>"
      ]
     },
     "metadata": {
      "needs_background": "light"
     },
     "output_type": "display_data"
    }
   ],
   "source": [
    "#построим график для возраста пользователей\n",
    "df_users['age'].plot(kind='hist', bins=100, grid=True, title='Возраст пользователей', figsize=(10,5))\n",
    "plt.show()"
   ]
  },
  {
   "cell_type": "markdown",
   "id": "23deef69",
   "metadata": {},
   "source": [
    "Изучив график, можем сделать вывод: целевой аудиторией приложения GoFast - являются пользователи в возрасте 25 лет."
   ]
  },
  {
   "cell_type": "code",
   "execution_count": 25,
   "id": "f5fe1029",
   "metadata": {},
   "outputs": [
    {
     "data": {
      "image/png": "[encoded data removed]",
      "text/plain": [
       "<Figure size 720x360 with 1 Axes>"
      ]
     },
     "metadata": {
      "needs_background": "light"
     },
     "output_type": "display_data"
    }
   ],
   "source": [
    "#построим график расстояния, которое пользователь преодолел за одну поездку\n",
    "df_rides['distance'].plot(kind='hist', bins=100, grid=True, title='Расстояние поездок', figsize=(10,5))\n",
    "plt.show()"
   ]
  },
  {
   "cell_type": "markdown",
   "id": "0cdf91a4",
   "metadata": {},
   "source": [
    "Изучив график, можем сделать вывод: чаще всего пользователи проезжают расстояние приблизительно в 3.2 км за одну поездку. Однако в графике есть выбросы, необходимо их изучить и удалить из датафрейма."
   ]
  },
  {
   "cell_type": "code",
   "execution_count": 26,
   "id": "fb775909",
   "metadata": {},
   "outputs": [
    {
     "data": {
      "image/png": "[encoded data removed]",
      "text/plain": [
       "<Figure size 432x288 with 1 Axes>"
      ]
     },
     "metadata": {
      "needs_background": "light"
     },
     "output_type": "display_data"
    }
   ],
   "source": [
    "df_rides['distance'].plot(kind='box')\n",
    "plt.show()"
   ]
  },
  {
   "cell_type": "markdown",
   "id": "347095b6",
   "metadata": {},
   "source": [
    "Из графика видно, что выбросы составляют слишком короткие поездки (менее 1 км) и слишком большие (более 5.5 км)."
   ]
  },
  {
   "cell_type": "code",
   "execution_count": 29,
   "id": "5272d458",
   "metadata": {},
   "outputs": [
    {
     "data": {
      "image/png": "[encoded data removed]",
      "text/plain": [
       "<Figure size 720x360 with 1 Axes>"
      ]
     },
     "metadata": {
      "needs_background": "light"
     },
     "output_type": "display_data"
    }
   ],
   "source": [
    "#построим график продолжительности поездок\n",
    "df_rides['duration'].plot(kind='hist', bins=100, grid=True, title='Длительность поездок', figsize=(10,5))\n",
    "plt.show()"
   ]
  },
  {
   "cell_type": "markdown",
   "id": "d59ddd82",
   "metadata": {},
   "source": [
    "Изучив график, можем сделать вывод: чаще всего длительность поездки пользователей составляет 17-18 минут.\n",
    "\n",
    "Также на графике мы видим выбросы, необходимо их изучить и удалить из датафрейма."
   ]
  },
  {
   "cell_type": "code",
   "execution_count": 30,
   "id": "6d6d1ec3",
   "metadata": {},
   "outputs": [
    {
     "data": {
      "image/png": "[encoded data removed]",
      "text/plain": [
       "<Figure size 432x288 with 1 Axes>"
      ]
     },
     "metadata": {
      "needs_background": "light"
     },
     "output_type": "display_data"
    }
   ],
   "source": [
    "df_rides['duration'].plot(kind='box')\n",
    "plt.show()"
   ]
  },
  {
   "cell_type": "markdown",
   "id": "7d86bd8b",
   "metadata": {},
   "source": [
    "Видно, что выбросы составляют 0.5 минут и более 30 минут. Ранее мы выявили аномалии в виде 0.5 минут, теперь они отобразились тут на графике."
   ]
  },
  {
   "cell_type": "markdown",
   "id": "2bb5016f",
   "metadata": {},
   "source": [
    "#### Промежуточный вывод:\n",
    "1. Согласно визуализированным данным, можем сделать вывод: больше всего зарегистрированных пользователей, приложения GoFast, из города Пятигорск; возраст от 21-28 лет; без подписки. Чаще всего поездка длится 17-18 минут и расстояние составляет около 3.2 км.\n",
    "2. В датафрейм df_rides были выявлены выбросы в виде слишком коротких поездок (менее 1 км) и слишком длинных (более 5.5 км), соответственно в длительности поездок также были выбросы."
   ]
  },
  {
   "cell_type": "markdown",
   "id": "4ef51331",
   "metadata": {},
   "source": [
    "#### Шаг 4. Объединение данных"
   ]
  },
  {
   "cell_type": "code",
   "execution_count": 33,
   "id": "cd67a9e8",
   "metadata": {},
   "outputs": [
    {
     "data": {
      "text/plain": [
       "(1534, 5)"
      ]
     },
     "execution_count": 33,
     "metadata": {},
     "output_type": "execute_result"
    }
   ],
   "source": [
    "df_users.shape"
   ]
  },
  {
   "cell_type": "code",
   "execution_count": 34,
   "id": "872378d2",
   "metadata": {},
   "outputs": [
    {
     "data": {
      "text/plain": [
       "(18068, 6)"
      ]
     },
     "execution_count": 34,
     "metadata": {},
     "output_type": "execute_result"
    }
   ],
   "source": [
    "df_rides.shape"
   ]
  },
  {
   "cell_type": "code",
   "execution_count": 35,
   "id": "6bf288b5",
   "metadata": {},
   "outputs": [
    {
     "data": {
      "text/html": [
       "<div>\n",
       "<style scoped>\n",
       "    .dataframe tbody tr th:only-of-type {\n",
       "        vertical-align: middle;\n",
       "    }\n",
       "\n",
       "    .dataframe tbody tr th {\n",
       "        vertical-align: top;\n",
       "    }\n",
       "\n",
       "    .dataframe thead th {\n",
       "        text-align: right;\n",
       "    }\n",
       "</style>\n",
       "<table border=\"1\" class=\"dataframe\">\n",
       "  <thead>\n",
       "    <tr style=\"text-align: right;\">\n",
       "      <th></th>\n",
       "      <th>user_id</th>\n",
       "      <th>name</th>\n",
       "      <th>age</th>\n",
       "      <th>city</th>\n",
       "      <th>subscription_type</th>\n",
       "      <th>distance</th>\n",
       "      <th>duration</th>\n",
       "      <th>date</th>\n",
       "      <th>month</th>\n",
       "      <th>year</th>\n",
       "    </tr>\n",
       "  </thead>\n",
       "  <tbody>\n",
       "    <tr>\n",
       "      <th>0</th>\n",
       "      <td>1</td>\n",
       "      <td>Кира</td>\n",
       "      <td>22</td>\n",
       "      <td>Тюмень</td>\n",
       "      <td>ultra</td>\n",
       "      <td>4409.92</td>\n",
       "      <td>26.0</td>\n",
       "      <td>2021-01-01</td>\n",
       "      <td>1</td>\n",
       "      <td>2021</td>\n",
       "    </tr>\n",
       "    <tr>\n",
       "      <th>1</th>\n",
       "      <td>1</td>\n",
       "      <td>Кира</td>\n",
       "      <td>22</td>\n",
       "      <td>Тюмень</td>\n",
       "      <td>ultra</td>\n",
       "      <td>2617.59</td>\n",
       "      <td>16.0</td>\n",
       "      <td>2021-01-18</td>\n",
       "      <td>1</td>\n",
       "      <td>2021</td>\n",
       "    </tr>\n",
       "    <tr>\n",
       "      <th>2</th>\n",
       "      <td>1</td>\n",
       "      <td>Кира</td>\n",
       "      <td>22</td>\n",
       "      <td>Тюмень</td>\n",
       "      <td>ultra</td>\n",
       "      <td>754.16</td>\n",
       "      <td>7.0</td>\n",
       "      <td>2021-04-20</td>\n",
       "      <td>4</td>\n",
       "      <td>2021</td>\n",
       "    </tr>\n",
       "    <tr>\n",
       "      <th>3</th>\n",
       "      <td>1</td>\n",
       "      <td>Кира</td>\n",
       "      <td>22</td>\n",
       "      <td>Тюмень</td>\n",
       "      <td>ultra</td>\n",
       "      <td>2694.78</td>\n",
       "      <td>19.0</td>\n",
       "      <td>2021-08-11</td>\n",
       "      <td>8</td>\n",
       "      <td>2021</td>\n",
       "    </tr>\n",
       "    <tr>\n",
       "      <th>4</th>\n",
       "      <td>1</td>\n",
       "      <td>Кира</td>\n",
       "      <td>22</td>\n",
       "      <td>Тюмень</td>\n",
       "      <td>ultra</td>\n",
       "      <td>4028.69</td>\n",
       "      <td>27.0</td>\n",
       "      <td>2021-08-28</td>\n",
       "      <td>8</td>\n",
       "      <td>2021</td>\n",
       "    </tr>\n",
       "  </tbody>\n",
       "</table>\n",
       "</div>"
      ],
      "text/plain": [
       "   user_id  name  age    city subscription_type  distance  duration  \\\n",
       "0        1  Кира   22  Тюмень             ultra   4409.92      26.0   \n",
       "1        1  Кира   22  Тюмень             ultra   2617.59      16.0   \n",
       "2        1  Кира   22  Тюмень             ultra    754.16       7.0   \n",
       "3        1  Кира   22  Тюмень             ultra   2694.78      19.0   \n",
       "4        1  Кира   22  Тюмень             ultra   4028.69      27.0   \n",
       "\n",
       "        date  month  year  \n",
       "0 2021-01-01      1  2021  \n",
       "1 2021-01-18      1  2021  \n",
       "2 2021-04-20      4  2021  \n",
       "3 2021-08-11      8  2021  \n",
       "4 2021-08-28      8  2021  "
      ]
     },
     "execution_count": 35,
     "metadata": {},
     "output_type": "execute_result"
    }
   ],
   "source": [
    "#объеденим первую и вторую таблицу по столбцу user_id\n",
    "df1 = df_users.merge(df_rides, on='user_id', how='left')\n",
    "df1.head()"
   ]
  },
  {
   "cell_type": "code",
   "execution_count": 36,
   "id": "a61e08ae",
   "metadata": {},
   "outputs": [
    {
     "data": {
      "text/plain": [
       "(18068, 10)"
      ]
     },
     "execution_count": 36,
     "metadata": {},
     "output_type": "execute_result"
    }
   ],
   "source": [
    "df1.shape"
   ]
  },
  {
   "cell_type": "code",
   "execution_count": 37,
   "id": "a81660ce",
   "metadata": {},
   "outputs": [
    {
     "data": {
      "text/plain": [
       "(2, 4)"
      ]
     },
     "execution_count": 37,
     "metadata": {},
     "output_type": "execute_result"
    }
   ],
   "source": [
    "df_sub.shape"
   ]
  },
  {
   "cell_type": "code",
   "execution_count": 38,
   "id": "d4378b55",
   "metadata": {},
   "outputs": [
    {
     "data": {
      "text/html": [
       "<div>\n",
       "<style scoped>\n",
       "    .dataframe tbody tr th:only-of-type {\n",
       "        vertical-align: middle;\n",
       "    }\n",
       "\n",
       "    .dataframe tbody tr th {\n",
       "        vertical-align: top;\n",
       "    }\n",
       "\n",
       "    .dataframe thead th {\n",
       "        text-align: right;\n",
       "    }\n",
       "</style>\n",
       "<table border=\"1\" class=\"dataframe\">\n",
       "  <thead>\n",
       "    <tr style=\"text-align: right;\">\n",
       "      <th></th>\n",
       "      <th>user_id</th>\n",
       "      <th>name</th>\n",
       "      <th>age</th>\n",
       "      <th>city</th>\n",
       "      <th>subscription_type</th>\n",
       "      <th>distance</th>\n",
       "      <th>duration</th>\n",
       "      <th>date</th>\n",
       "      <th>month</th>\n",
       "      <th>year</th>\n",
       "      <th>minute_price</th>\n",
       "      <th>start_ride_price</th>\n",
       "      <th>subscription_fee</th>\n",
       "    </tr>\n",
       "  </thead>\n",
       "  <tbody>\n",
       "    <tr>\n",
       "      <th>0</th>\n",
       "      <td>1</td>\n",
       "      <td>Кира</td>\n",
       "      <td>22</td>\n",
       "      <td>Тюмень</td>\n",
       "      <td>ultra</td>\n",
       "      <td>4409.92</td>\n",
       "      <td>26.0</td>\n",
       "      <td>2021-01-01</td>\n",
       "      <td>1</td>\n",
       "      <td>2021</td>\n",
       "      <td>6</td>\n",
       "      <td>0</td>\n",
       "      <td>199</td>\n",
       "    </tr>\n",
       "    <tr>\n",
       "      <th>1</th>\n",
       "      <td>1</td>\n",
       "      <td>Кира</td>\n",
       "      <td>22</td>\n",
       "      <td>Тюмень</td>\n",
       "      <td>ultra</td>\n",
       "      <td>2617.59</td>\n",
       "      <td>16.0</td>\n",
       "      <td>2021-01-18</td>\n",
       "      <td>1</td>\n",
       "      <td>2021</td>\n",
       "      <td>6</td>\n",
       "      <td>0</td>\n",
       "      <td>199</td>\n",
       "    </tr>\n",
       "    <tr>\n",
       "      <th>2</th>\n",
       "      <td>1</td>\n",
       "      <td>Кира</td>\n",
       "      <td>22</td>\n",
       "      <td>Тюмень</td>\n",
       "      <td>ultra</td>\n",
       "      <td>754.16</td>\n",
       "      <td>7.0</td>\n",
       "      <td>2021-04-20</td>\n",
       "      <td>4</td>\n",
       "      <td>2021</td>\n",
       "      <td>6</td>\n",
       "      <td>0</td>\n",
       "      <td>199</td>\n",
       "    </tr>\n",
       "    <tr>\n",
       "      <th>3</th>\n",
       "      <td>1</td>\n",
       "      <td>Кира</td>\n",
       "      <td>22</td>\n",
       "      <td>Тюмень</td>\n",
       "      <td>ultra</td>\n",
       "      <td>2694.78</td>\n",
       "      <td>19.0</td>\n",
       "      <td>2021-08-11</td>\n",
       "      <td>8</td>\n",
       "      <td>2021</td>\n",
       "      <td>6</td>\n",
       "      <td>0</td>\n",
       "      <td>199</td>\n",
       "    </tr>\n",
       "    <tr>\n",
       "      <th>4</th>\n",
       "      <td>1</td>\n",
       "      <td>Кира</td>\n",
       "      <td>22</td>\n",
       "      <td>Тюмень</td>\n",
       "      <td>ultra</td>\n",
       "      <td>4028.69</td>\n",
       "      <td>27.0</td>\n",
       "      <td>2021-08-28</td>\n",
       "      <td>8</td>\n",
       "      <td>2021</td>\n",
       "      <td>6</td>\n",
       "      <td>0</td>\n",
       "      <td>199</td>\n",
       "    </tr>\n",
       "  </tbody>\n",
       "</table>\n",
       "</div>"
      ],
      "text/plain": [
       "   user_id  name  age    city subscription_type  distance  duration  \\\n",
       "0        1  Кира   22  Тюмень             ultra   4409.92      26.0   \n",
       "1        1  Кира   22  Тюмень             ultra   2617.59      16.0   \n",
       "2        1  Кира   22  Тюмень             ultra    754.16       7.0   \n",
       "3        1  Кира   22  Тюмень             ultra   2694.78      19.0   \n",
       "4        1  Кира   22  Тюмень             ultra   4028.69      27.0   \n",
       "\n",
       "        date  month  year  minute_price  start_ride_price  subscription_fee  \n",
       "0 2021-01-01      1  2021             6                 0               199  \n",
       "1 2021-01-18      1  2021             6                 0               199  \n",
       "2 2021-04-20      4  2021             6                 0               199  \n",
       "3 2021-08-11      8  2021             6                 0               199  \n",
       "4 2021-08-28      8  2021             6                 0               199  "
      ]
     },
     "execution_count": 38,
     "metadata": {},
     "output_type": "execute_result"
    }
   ],
   "source": [
    "#к данной таблице добавим третий датафрейм по стобцу 'subscription_type'\n",
    "df_total = df1.merge(df_sub, on='subscription_type', how='left')\n",
    "df_total.head()"
   ]
  },
  {
   "cell_type": "code",
   "execution_count": 39,
   "id": "b46f99d3",
   "metadata": {},
   "outputs": [
    {
     "data": {
      "text/plain": [
       "(18068, 13)"
      ]
     },
     "execution_count": 39,
     "metadata": {},
     "output_type": "execute_result"
    }
   ],
   "source": [
    "df_total.shape"
   ]
  },
  {
   "cell_type": "markdown",
   "id": "f31da36d",
   "metadata": {},
   "source": [
    "Все столбцы присоедены, теперь можем создать два датафрейма с пользователями ultra и free для дальнейшего анализа."
   ]
  },
  {
   "cell_type": "code",
   "execution_count": 40,
   "id": "a4c87655",
   "metadata": {},
   "outputs": [
    {
     "data": {
      "text/html": [
       "<div>\n",
       "<style scoped>\n",
       "    .dataframe tbody tr th:only-of-type {\n",
       "        vertical-align: middle;\n",
       "    }\n",
       "\n",
       "    .dataframe tbody tr th {\n",
       "        vertical-align: top;\n",
       "    }\n",
       "\n",
       "    .dataframe thead th {\n",
       "        text-align: right;\n",
       "    }\n",
       "</style>\n",
       "<table border=\"1\" class=\"dataframe\">\n",
       "  <thead>\n",
       "    <tr style=\"text-align: right;\">\n",
       "      <th></th>\n",
       "      <th>user_id</th>\n",
       "      <th>name</th>\n",
       "      <th>age</th>\n",
       "      <th>city</th>\n",
       "      <th>subscription_type</th>\n",
       "      <th>distance</th>\n",
       "      <th>duration</th>\n",
       "      <th>date</th>\n",
       "      <th>month</th>\n",
       "      <th>year</th>\n",
       "      <th>minute_price</th>\n",
       "      <th>start_ride_price</th>\n",
       "      <th>subscription_fee</th>\n",
       "    </tr>\n",
       "  </thead>\n",
       "  <tbody>\n",
       "    <tr>\n",
       "      <th>6500</th>\n",
       "      <td>700</td>\n",
       "      <td>Айдар</td>\n",
       "      <td>22</td>\n",
       "      <td>Омск</td>\n",
       "      <td>free</td>\n",
       "      <td>2515.69</td>\n",
       "      <td>15.0</td>\n",
       "      <td>2021-01-02</td>\n",
       "      <td>1</td>\n",
       "      <td>2021</td>\n",
       "      <td>8</td>\n",
       "      <td>50</td>\n",
       "      <td>0</td>\n",
       "    </tr>\n",
       "    <tr>\n",
       "      <th>6501</th>\n",
       "      <td>700</td>\n",
       "      <td>Айдар</td>\n",
       "      <td>22</td>\n",
       "      <td>Омск</td>\n",
       "      <td>free</td>\n",
       "      <td>846.93</td>\n",
       "      <td>17.0</td>\n",
       "      <td>2021-02-01</td>\n",
       "      <td>2</td>\n",
       "      <td>2021</td>\n",
       "      <td>8</td>\n",
       "      <td>50</td>\n",
       "      <td>0</td>\n",
       "    </tr>\n",
       "    <tr>\n",
       "      <th>6502</th>\n",
       "      <td>700</td>\n",
       "      <td>Айдар</td>\n",
       "      <td>22</td>\n",
       "      <td>Омск</td>\n",
       "      <td>free</td>\n",
       "      <td>4004.43</td>\n",
       "      <td>21.0</td>\n",
       "      <td>2021-02-04</td>\n",
       "      <td>2</td>\n",
       "      <td>2021</td>\n",
       "      <td>8</td>\n",
       "      <td>50</td>\n",
       "      <td>0</td>\n",
       "    </tr>\n",
       "    <tr>\n",
       "      <th>6503</th>\n",
       "      <td>700</td>\n",
       "      <td>Айдар</td>\n",
       "      <td>22</td>\n",
       "      <td>Омск</td>\n",
       "      <td>free</td>\n",
       "      <td>1205.91</td>\n",
       "      <td>10.0</td>\n",
       "      <td>2021-02-10</td>\n",
       "      <td>2</td>\n",
       "      <td>2021</td>\n",
       "      <td>8</td>\n",
       "      <td>50</td>\n",
       "      <td>0</td>\n",
       "    </tr>\n",
       "    <tr>\n",
       "      <th>6504</th>\n",
       "      <td>700</td>\n",
       "      <td>Айдар</td>\n",
       "      <td>22</td>\n",
       "      <td>Омск</td>\n",
       "      <td>free</td>\n",
       "      <td>3047.38</td>\n",
       "      <td>18.0</td>\n",
       "      <td>2021-02-14</td>\n",
       "      <td>2</td>\n",
       "      <td>2021</td>\n",
       "      <td>8</td>\n",
       "      <td>50</td>\n",
       "      <td>0</td>\n",
       "    </tr>\n",
       "  </tbody>\n",
       "</table>\n",
       "</div>"
      ],
      "text/plain": [
       "      user_id   name  age  city subscription_type  distance  duration  \\\n",
       "6500      700  Айдар   22  Омск              free   2515.69      15.0   \n",
       "6501      700  Айдар   22  Омск              free    846.93      17.0   \n",
       "6502      700  Айдар   22  Омск              free   4004.43      21.0   \n",
       "6503      700  Айдар   22  Омск              free   1205.91      10.0   \n",
       "6504      700  Айдар   22  Омск              free   3047.38      18.0   \n",
       "\n",
       "           date  month  year  minute_price  start_ride_price  subscription_fee  \n",
       "6500 2021-01-02      1  2021             8                50                 0  \n",
       "6501 2021-02-01      2  2021             8                50                 0  \n",
       "6502 2021-02-04      2  2021             8                50                 0  \n",
       "6503 2021-02-10      2  2021             8                50                 0  \n",
       "6504 2021-02-14      2  2021             8                50                 0  "
      ]
     },
     "execution_count": 40,
     "metadata": {},
     "output_type": "execute_result"
    }
   ],
   "source": [
    "#создадим датафрейм с пользователями без подписки\n",
    "df_free = df_total.query('subscription_type == \"free\"')\n",
    "df_free.head(5)"
   ]
  },
  {
   "cell_type": "code",
   "execution_count": 41,
   "id": "d5f2a7b5",
   "metadata": {},
   "outputs": [
    {
     "data": {
      "text/html": [
       "<div>\n",
       "<style scoped>\n",
       "    .dataframe tbody tr th:only-of-type {\n",
       "        vertical-align: middle;\n",
       "    }\n",
       "\n",
       "    .dataframe tbody tr th {\n",
       "        vertical-align: top;\n",
       "    }\n",
       "\n",
       "    .dataframe thead th {\n",
       "        text-align: right;\n",
       "    }\n",
       "</style>\n",
       "<table border=\"1\" class=\"dataframe\">\n",
       "  <thead>\n",
       "    <tr style=\"text-align: right;\">\n",
       "      <th></th>\n",
       "      <th>user_id</th>\n",
       "      <th>name</th>\n",
       "      <th>age</th>\n",
       "      <th>city</th>\n",
       "      <th>subscription_type</th>\n",
       "      <th>distance</th>\n",
       "      <th>duration</th>\n",
       "      <th>date</th>\n",
       "      <th>month</th>\n",
       "      <th>year</th>\n",
       "      <th>minute_price</th>\n",
       "      <th>start_ride_price</th>\n",
       "      <th>subscription_fee</th>\n",
       "    </tr>\n",
       "  </thead>\n",
       "  <tbody>\n",
       "    <tr>\n",
       "      <th>0</th>\n",
       "      <td>1</td>\n",
       "      <td>Кира</td>\n",
       "      <td>22</td>\n",
       "      <td>Тюмень</td>\n",
       "      <td>ultra</td>\n",
       "      <td>4409.92</td>\n",
       "      <td>26.0</td>\n",
       "      <td>2021-01-01</td>\n",
       "      <td>1</td>\n",
       "      <td>2021</td>\n",
       "      <td>6</td>\n",
       "      <td>0</td>\n",
       "      <td>199</td>\n",
       "    </tr>\n",
       "    <tr>\n",
       "      <th>1</th>\n",
       "      <td>1</td>\n",
       "      <td>Кира</td>\n",
       "      <td>22</td>\n",
       "      <td>Тюмень</td>\n",
       "      <td>ultra</td>\n",
       "      <td>2617.59</td>\n",
       "      <td>16.0</td>\n",
       "      <td>2021-01-18</td>\n",
       "      <td>1</td>\n",
       "      <td>2021</td>\n",
       "      <td>6</td>\n",
       "      <td>0</td>\n",
       "      <td>199</td>\n",
       "    </tr>\n",
       "    <tr>\n",
       "      <th>2</th>\n",
       "      <td>1</td>\n",
       "      <td>Кира</td>\n",
       "      <td>22</td>\n",
       "      <td>Тюмень</td>\n",
       "      <td>ultra</td>\n",
       "      <td>754.16</td>\n",
       "      <td>7.0</td>\n",
       "      <td>2021-04-20</td>\n",
       "      <td>4</td>\n",
       "      <td>2021</td>\n",
       "      <td>6</td>\n",
       "      <td>0</td>\n",
       "      <td>199</td>\n",
       "    </tr>\n",
       "    <tr>\n",
       "      <th>3</th>\n",
       "      <td>1</td>\n",
       "      <td>Кира</td>\n",
       "      <td>22</td>\n",
       "      <td>Тюмень</td>\n",
       "      <td>ultra</td>\n",
       "      <td>2694.78</td>\n",
       "      <td>19.0</td>\n",
       "      <td>2021-08-11</td>\n",
       "      <td>8</td>\n",
       "      <td>2021</td>\n",
       "      <td>6</td>\n",
       "      <td>0</td>\n",
       "      <td>199</td>\n",
       "    </tr>\n",
       "    <tr>\n",
       "      <th>4</th>\n",
       "      <td>1</td>\n",
       "      <td>Кира</td>\n",
       "      <td>22</td>\n",
       "      <td>Тюмень</td>\n",
       "      <td>ultra</td>\n",
       "      <td>4028.69</td>\n",
       "      <td>27.0</td>\n",
       "      <td>2021-08-28</td>\n",
       "      <td>8</td>\n",
       "      <td>2021</td>\n",
       "      <td>6</td>\n",
       "      <td>0</td>\n",
       "      <td>199</td>\n",
       "    </tr>\n",
       "  </tbody>\n",
       "</table>\n",
       "</div>"
      ],
      "text/plain": [
       "   user_id  name  age    city subscription_type  distance  duration  \\\n",
       "0        1  Кира   22  Тюмень             ultra   4409.92      26.0   \n",
       "1        1  Кира   22  Тюмень             ultra   2617.59      16.0   \n",
       "2        1  Кира   22  Тюмень             ultra    754.16       7.0   \n",
       "3        1  Кира   22  Тюмень             ultra   2694.78      19.0   \n",
       "4        1  Кира   22  Тюмень             ultra   4028.69      27.0   \n",
       "\n",
       "        date  month  year  minute_price  start_ride_price  subscription_fee  \n",
       "0 2021-01-01      1  2021             6                 0               199  \n",
       "1 2021-01-18      1  2021             6                 0               199  \n",
       "2 2021-04-20      4  2021             6                 0               199  \n",
       "3 2021-08-11      8  2021             6                 0               199  \n",
       "4 2021-08-28      8  2021             6                 0               199  "
      ]
     },
     "execution_count": 41,
     "metadata": {},
     "output_type": "execute_result"
    }
   ],
   "source": [
    "#создадим датафрейм с пользователями с подпиской\n",
    "df_ultra = df_total.query('subscription_type == \"ultra\"')\n",
    "df_ultra.head(5)"
   ]
  },
  {
   "cell_type": "markdown",
   "id": "c4cf21ac",
   "metadata": {},
   "source": [
    "Построим графики расстояния и длительности поездок для двух новых датафреймов."
   ]
  },
  {
   "cell_type": "code",
   "execution_count": 42,
   "id": "459ea869",
   "metadata": {},
   "outputs": [
    {
     "data": {
      "image/png": "[encoded data removed]",
      "text/plain": [
       "<Figure size 720x360 with 1 Axes>"
      ]
     },
     "metadata": {
      "needs_background": "light"
     },
     "output_type": "display_data"
    },
    {
     "data": {
      "image/png": "[encoded data removed]",
      "text/plain": [
       "<Figure size 720x360 with 1 Axes>"
      ]
     },
     "metadata": {
      "needs_background": "light"
     },
     "output_type": "display_data"
    },
    {
     "data": {
      "image/png": "[encoded data removed]",
      "text/plain": [
       "<Figure size 720x360 with 1 Axes>"
      ]
     },
     "metadata": {
      "needs_background": "light"
     },
     "output_type": "display_data"
    },
    {
     "data": {
      "image/png": "[encoded data removed]",
      "text/plain": [
       "<Figure size 720x360 with 1 Axes>"
      ]
     },
     "metadata": {
      "needs_background": "light"
     },
     "output_type": "display_data"
    }
   ],
   "source": [
    "df_free['distance'].plot(kind='hist', bins=100, grid=True, title='Расстояние (без подписки)', figsize=(10,5))\n",
    "plt.show()\n",
    "df_free['duration'].plot(kind='hist', bins=100, grid=True, title='Длительность (без подписки)', figsize=(10,5))\n",
    "plt.show()\n",
    "\n",
    "df_ultra['distance'].plot(kind='hist', bins=100, grid=True, title='Расстояние (подписка ultra)', figsize=(10,5))\n",
    "plt.show()\n",
    "df_ultra['duration'].plot(kind='hist', bins=100, grid=True, title='Длительность (подписка ultra)', figsize=(10,5))\n",
    "plt.show()"
   ]
  },
  {
   "cell_type": "markdown",
   "id": "10902b99",
   "metadata": {},
   "source": [
    "#### Промежуточный вывод:\n",
    "1. Объеденили все три датафрейма в одну таблицу для дальнейшего анализа.\n",
    "2. Визуализировали данные по двум таблицам: клиенты с подпиской (ultra) и без (free). Как видно из графиков, длительность поездки для обоих категорий не слишком отличается, клиенты ultra меньше ездят менее 10 минут чем клиенты free; а вот дистанции поездок имеют явные отличия: у клиентов free дистанция имеет больший диапазон (много клиентов ездят от 2 до 4.5 км), тем временем как клиенты ultra в основном ездят в пределах 2.5-3.5 км."
   ]
  },
  {
   "cell_type": "markdown",
   "id": "402d620f",
   "metadata": {},
   "source": [
    "#### Шаг 5. Подсчёт выручки"
   ]
  },
  {
   "cell_type": "markdown",
   "id": "37cda5f8",
   "metadata": {},
   "source": [
    "Пропусков в таблице нет, можем приступать к подготовке сводной таблицы."
   ]
  },
  {
   "cell_type": "code",
   "execution_count": 44,
   "id": "53049e0a",
   "metadata": {},
   "outputs": [
    {
     "data": {
      "text/html": [
       "<div>\n",
       "<style scoped>\n",
       "    .dataframe tbody tr th:only-of-type {\n",
       "        vertical-align: middle;\n",
       "    }\n",
       "\n",
       "    .dataframe tbody tr th {\n",
       "        vertical-align: top;\n",
       "    }\n",
       "\n",
       "    .dataframe thead th {\n",
       "        text-align: right;\n",
       "    }\n",
       "</style>\n",
       "<table border=\"1\" class=\"dataframe\">\n",
       "  <thead>\n",
       "    <tr style=\"text-align: right;\">\n",
       "      <th></th>\n",
       "      <th>user_id</th>\n",
       "      <th>month</th>\n",
       "      <th>subscription_type</th>\n",
       "      <th>distance</th>\n",
       "      <th>duration</th>\n",
       "      <th>total_rides</th>\n",
       "    </tr>\n",
       "  </thead>\n",
       "  <tbody>\n",
       "    <tr>\n",
       "      <th>0</th>\n",
       "      <td>1</td>\n",
       "      <td>1</td>\n",
       "      <td>ultra</td>\n",
       "      <td>7027.51</td>\n",
       "      <td>42.0</td>\n",
       "      <td>2</td>\n",
       "    </tr>\n",
       "    <tr>\n",
       "      <th>1</th>\n",
       "      <td>1</td>\n",
       "      <td>4</td>\n",
       "      <td>ultra</td>\n",
       "      <td>754.16</td>\n",
       "      <td>7.0</td>\n",
       "      <td>1</td>\n",
       "    </tr>\n",
       "    <tr>\n",
       "      <th>2</th>\n",
       "      <td>1</td>\n",
       "      <td>8</td>\n",
       "      <td>ultra</td>\n",
       "      <td>6723.47</td>\n",
       "      <td>46.0</td>\n",
       "      <td>2</td>\n",
       "    </tr>\n",
       "    <tr>\n",
       "      <th>3</th>\n",
       "      <td>1</td>\n",
       "      <td>10</td>\n",
       "      <td>ultra</td>\n",
       "      <td>5809.91</td>\n",
       "      <td>32.0</td>\n",
       "      <td>2</td>\n",
       "    </tr>\n",
       "    <tr>\n",
       "      <th>4</th>\n",
       "      <td>1</td>\n",
       "      <td>11</td>\n",
       "      <td>ultra</td>\n",
       "      <td>7003.50</td>\n",
       "      <td>56.0</td>\n",
       "      <td>3</td>\n",
       "    </tr>\n",
       "    <tr>\n",
       "      <th>5</th>\n",
       "      <td>1</td>\n",
       "      <td>12</td>\n",
       "      <td>ultra</td>\n",
       "      <td>6751.63</td>\n",
       "      <td>28.0</td>\n",
       "      <td>2</td>\n",
       "    </tr>\n",
       "    <tr>\n",
       "      <th>6</th>\n",
       "      <td>2</td>\n",
       "      <td>3</td>\n",
       "      <td>ultra</td>\n",
       "      <td>10187.73</td>\n",
       "      <td>63.0</td>\n",
       "      <td>3</td>\n",
       "    </tr>\n",
       "    <tr>\n",
       "      <th>7</th>\n",
       "      <td>2</td>\n",
       "      <td>4</td>\n",
       "      <td>ultra</td>\n",
       "      <td>6164.39</td>\n",
       "      <td>40.0</td>\n",
       "      <td>2</td>\n",
       "    </tr>\n",
       "    <tr>\n",
       "      <th>8</th>\n",
       "      <td>2</td>\n",
       "      <td>6</td>\n",
       "      <td>ultra</td>\n",
       "      <td>3255.34</td>\n",
       "      <td>14.0</td>\n",
       "      <td>1</td>\n",
       "    </tr>\n",
       "    <tr>\n",
       "      <th>9</th>\n",
       "      <td>2</td>\n",
       "      <td>7</td>\n",
       "      <td>ultra</td>\n",
       "      <td>6780.73</td>\n",
       "      <td>48.0</td>\n",
       "      <td>2</td>\n",
       "    </tr>\n",
       "    <tr>\n",
       "      <th>10</th>\n",
       "      <td>2</td>\n",
       "      <td>8</td>\n",
       "      <td>ultra</td>\n",
       "      <td>923.01</td>\n",
       "      <td>7.0</td>\n",
       "      <td>1</td>\n",
       "    </tr>\n",
       "    <tr>\n",
       "      <th>11</th>\n",
       "      <td>2</td>\n",
       "      <td>10</td>\n",
       "      <td>ultra</td>\n",
       "      <td>2824.64</td>\n",
       "      <td>19.0</td>\n",
       "      <td>1</td>\n",
       "    </tr>\n",
       "    <tr>\n",
       "      <th>12</th>\n",
       "      <td>2</td>\n",
       "      <td>12</td>\n",
       "      <td>ultra</td>\n",
       "      <td>3828.25</td>\n",
       "      <td>12.0</td>\n",
       "      <td>1</td>\n",
       "    </tr>\n",
       "    <tr>\n",
       "      <th>13</th>\n",
       "      <td>3</td>\n",
       "      <td>1</td>\n",
       "      <td>ultra</td>\n",
       "      <td>3061.78</td>\n",
       "      <td>13.0</td>\n",
       "      <td>1</td>\n",
       "    </tr>\n",
       "    <tr>\n",
       "      <th>14</th>\n",
       "      <td>3</td>\n",
       "      <td>2</td>\n",
       "      <td>ultra</td>\n",
       "      <td>5421.16</td>\n",
       "      <td>39.0</td>\n",
       "      <td>2</td>\n",
       "    </tr>\n",
       "  </tbody>\n",
       "</table>\n",
       "</div>"
      ],
      "text/plain": [
       "    user_id  month subscription_type  distance  duration  total_rides\n",
       "0         1      1             ultra   7027.51      42.0            2\n",
       "1         1      4             ultra    754.16       7.0            1\n",
       "2         1      8             ultra   6723.47      46.0            2\n",
       "3         1     10             ultra   5809.91      32.0            2\n",
       "4         1     11             ultra   7003.50      56.0            3\n",
       "5         1     12             ultra   6751.63      28.0            2\n",
       "6         2      3             ultra  10187.73      63.0            3\n",
       "7         2      4             ultra   6164.39      40.0            2\n",
       "8         2      6             ultra   3255.34      14.0            1\n",
       "9         2      7             ultra   6780.73      48.0            2\n",
       "10        2      8             ultra    923.01       7.0            1\n",
       "11        2     10             ultra   2824.64      19.0            1\n",
       "12        2     12             ultra   3828.25      12.0            1\n",
       "13        3      1             ultra   3061.78      13.0            1\n",
       "14        3      2             ultra   5421.16      39.0            2"
      ]
     },
     "execution_count": 44,
     "metadata": {},
     "output_type": "execute_result"
    }
   ],
   "source": [
    "#создадим датафрейм с суммарным расстоянием, количество поездок \n",
    "#и суммарное время для каждого пользователя за каждый месяц\n",
    "\n",
    "df_cash = pd.pivot_table(df_total,\n",
    "                        index=[\"user_id\", \"month\", \"subscription_type\"],\n",
    "                        values=[\"distance\", \"duration\", \"name\"],\n",
    "                        aggfunc={'distance' : 'sum', 'duration' : 'sum', 'name' : 'count'}\n",
    "                        ).reset_index()\n",
    "df_cash = df_cash.rename(columns={'name':'total_rides'})\n",
    "\n",
    "df_cash.head(15)"
   ]
  },
  {
   "cell_type": "code",
   "execution_count": 45,
   "id": "44e73407",
   "metadata": {},
   "outputs": [
    {
     "data": {
      "text/html": [
       "<div>\n",
       "<style scoped>\n",
       "    .dataframe tbody tr th:only-of-type {\n",
       "        vertical-align: middle;\n",
       "    }\n",
       "\n",
       "    .dataframe tbody tr th {\n",
       "        vertical-align: top;\n",
       "    }\n",
       "\n",
       "    .dataframe thead th {\n",
       "        text-align: right;\n",
       "    }\n",
       "</style>\n",
       "<table border=\"1\" class=\"dataframe\">\n",
       "  <thead>\n",
       "    <tr style=\"text-align: right;\">\n",
       "      <th></th>\n",
       "      <th>user_id</th>\n",
       "      <th>month</th>\n",
       "      <th>subscription_type</th>\n",
       "      <th>distance</th>\n",
       "      <th>duration</th>\n",
       "      <th>total_rides</th>\n",
       "      <th>total_money</th>\n",
       "    </tr>\n",
       "  </thead>\n",
       "  <tbody>\n",
       "    <tr>\n",
       "      <th>0</th>\n",
       "      <td>1</td>\n",
       "      <td>1</td>\n",
       "      <td>ultra</td>\n",
       "      <td>7027.51</td>\n",
       "      <td>42.0</td>\n",
       "      <td>2</td>\n",
       "      <td>451.0</td>\n",
       "    </tr>\n",
       "    <tr>\n",
       "      <th>1</th>\n",
       "      <td>1</td>\n",
       "      <td>4</td>\n",
       "      <td>ultra</td>\n",
       "      <td>754.16</td>\n",
       "      <td>7.0</td>\n",
       "      <td>1</td>\n",
       "      <td>241.0</td>\n",
       "    </tr>\n",
       "    <tr>\n",
       "      <th>2</th>\n",
       "      <td>1</td>\n",
       "      <td>8</td>\n",
       "      <td>ultra</td>\n",
       "      <td>6723.47</td>\n",
       "      <td>46.0</td>\n",
       "      <td>2</td>\n",
       "      <td>475.0</td>\n",
       "    </tr>\n",
       "    <tr>\n",
       "      <th>3</th>\n",
       "      <td>1</td>\n",
       "      <td>10</td>\n",
       "      <td>ultra</td>\n",
       "      <td>5809.91</td>\n",
       "      <td>32.0</td>\n",
       "      <td>2</td>\n",
       "      <td>391.0</td>\n",
       "    </tr>\n",
       "    <tr>\n",
       "      <th>4</th>\n",
       "      <td>1</td>\n",
       "      <td>11</td>\n",
       "      <td>ultra</td>\n",
       "      <td>7003.50</td>\n",
       "      <td>56.0</td>\n",
       "      <td>3</td>\n",
       "      <td>535.0</td>\n",
       "    </tr>\n",
       "    <tr>\n",
       "      <th>5</th>\n",
       "      <td>1</td>\n",
       "      <td>12</td>\n",
       "      <td>ultra</td>\n",
       "      <td>6751.63</td>\n",
       "      <td>28.0</td>\n",
       "      <td>2</td>\n",
       "      <td>367.0</td>\n",
       "    </tr>\n",
       "    <tr>\n",
       "      <th>6</th>\n",
       "      <td>2</td>\n",
       "      <td>3</td>\n",
       "      <td>ultra</td>\n",
       "      <td>10187.73</td>\n",
       "      <td>63.0</td>\n",
       "      <td>3</td>\n",
       "      <td>577.0</td>\n",
       "    </tr>\n",
       "    <tr>\n",
       "      <th>7</th>\n",
       "      <td>2</td>\n",
       "      <td>4</td>\n",
       "      <td>ultra</td>\n",
       "      <td>6164.39</td>\n",
       "      <td>40.0</td>\n",
       "      <td>2</td>\n",
       "      <td>439.0</td>\n",
       "    </tr>\n",
       "    <tr>\n",
       "      <th>8</th>\n",
       "      <td>2</td>\n",
       "      <td>6</td>\n",
       "      <td>ultra</td>\n",
       "      <td>3255.34</td>\n",
       "      <td>14.0</td>\n",
       "      <td>1</td>\n",
       "      <td>283.0</td>\n",
       "    </tr>\n",
       "    <tr>\n",
       "      <th>9</th>\n",
       "      <td>2</td>\n",
       "      <td>7</td>\n",
       "      <td>ultra</td>\n",
       "      <td>6780.73</td>\n",
       "      <td>48.0</td>\n",
       "      <td>2</td>\n",
       "      <td>487.0</td>\n",
       "    </tr>\n",
       "    <tr>\n",
       "      <th>10</th>\n",
       "      <td>2</td>\n",
       "      <td>8</td>\n",
       "      <td>ultra</td>\n",
       "      <td>923.01</td>\n",
       "      <td>7.0</td>\n",
       "      <td>1</td>\n",
       "      <td>241.0</td>\n",
       "    </tr>\n",
       "    <tr>\n",
       "      <th>11</th>\n",
       "      <td>2</td>\n",
       "      <td>10</td>\n",
       "      <td>ultra</td>\n",
       "      <td>2824.64</td>\n",
       "      <td>19.0</td>\n",
       "      <td>1</td>\n",
       "      <td>313.0</td>\n",
       "    </tr>\n",
       "    <tr>\n",
       "      <th>12</th>\n",
       "      <td>2</td>\n",
       "      <td>12</td>\n",
       "      <td>ultra</td>\n",
       "      <td>3828.25</td>\n",
       "      <td>12.0</td>\n",
       "      <td>1</td>\n",
       "      <td>271.0</td>\n",
       "    </tr>\n",
       "    <tr>\n",
       "      <th>13</th>\n",
       "      <td>3</td>\n",
       "      <td>1</td>\n",
       "      <td>ultra</td>\n",
       "      <td>3061.78</td>\n",
       "      <td>13.0</td>\n",
       "      <td>1</td>\n",
       "      <td>277.0</td>\n",
       "    </tr>\n",
       "    <tr>\n",
       "      <th>14</th>\n",
       "      <td>3</td>\n",
       "      <td>2</td>\n",
       "      <td>ultra</td>\n",
       "      <td>5421.16</td>\n",
       "      <td>39.0</td>\n",
       "      <td>2</td>\n",
       "      <td>433.0</td>\n",
       "    </tr>\n",
       "  </tbody>\n",
       "</table>\n",
       "</div>"
      ],
      "text/plain": [
       "    user_id  month subscription_type  distance  duration  total_rides  \\\n",
       "0         1      1             ultra   7027.51      42.0            2   \n",
       "1         1      4             ultra    754.16       7.0            1   \n",
       "2         1      8             ultra   6723.47      46.0            2   \n",
       "3         1     10             ultra   5809.91      32.0            2   \n",
       "4         1     11             ultra   7003.50      56.0            3   \n",
       "5         1     12             ultra   6751.63      28.0            2   \n",
       "6         2      3             ultra  10187.73      63.0            3   \n",
       "7         2      4             ultra   6164.39      40.0            2   \n",
       "8         2      6             ultra   3255.34      14.0            1   \n",
       "9         2      7             ultra   6780.73      48.0            2   \n",
       "10        2      8             ultra    923.01       7.0            1   \n",
       "11        2     10             ultra   2824.64      19.0            1   \n",
       "12        2     12             ultra   3828.25      12.0            1   \n",
       "13        3      1             ultra   3061.78      13.0            1   \n",
       "14        3      2             ultra   5421.16      39.0            2   \n",
       "\n",
       "    total_money  \n",
       "0         451.0  \n",
       "1         241.0  \n",
       "2         475.0  \n",
       "3         391.0  \n",
       "4         535.0  \n",
       "5         367.0  \n",
       "6         577.0  \n",
       "7         439.0  \n",
       "8         283.0  \n",
       "9         487.0  \n",
       "10        241.0  \n",
       "11        313.0  \n",
       "12        271.0  \n",
       "13        277.0  \n",
       "14        433.0  "
      ]
     },
     "execution_count": 45,
     "metadata": {},
     "output_type": "execute_result"
    }
   ],
   "source": [
    "#добавим столбец с помесячной выручкой, которую принёс каждый пользователь\n",
    "def money(df_cash):\n",
    "    if df_cash['subscription_type'] == 'ultra':\n",
    "        total = 6 * df_cash['duration']+ 199\n",
    "        return total\n",
    "    else:\n",
    "        total2 = 50 * df_cash['total_rides'] + 8 * df_cash['duration']\n",
    "        return total2\n",
    "    \n",
    "df_cash['total_money'] = df_cash.apply(money, axis=1)\n",
    "df_cash.head(15)"
   ]
  },
  {
   "cell_type": "markdown",
   "id": "41545ac0",
   "metadata": {},
   "source": [
    "#### Шаг 6. Проверка гипотез"
   ]
  },
  {
   "cell_type": "markdown",
   "id": "eb259a6b",
   "metadata": {},
   "source": [
    "###### Гипотеза №1: Тратят ли пользователи с подпиской больше времени на поездки?"
   ]
  },
  {
   "cell_type": "markdown",
   "id": "4ebe8160",
   "metadata": {},
   "source": [
    "Нулевая гипотеза: длительность поездки пользователей с подпиской и без одинакова.\n",
    "\n",
    "Альтернативная гипотеза:длительность поездки пользователей с подпиской больше чем пользователей без подписки.\n",
    "\n",
    "У нас есть два датафрейма df_ultra и df_free, которые мы можем сравнить между собой с помощью ttest_ind."
   ]
  },
  {
   "cell_type": "code",
   "execution_count": 46,
   "id": "555a0814",
   "metadata": {},
   "outputs": [
    {
     "name": "stdout",
     "output_type": "stream",
     "text": [
      "p-value равно: 2.4959453720736625e-34\n",
      "Отвергаем нулевую гипотезу\n",
      "Пользователи ultra в среднем ездят: 19.04 минут\n",
      "А пользователи без подписки в среднем ездят: 17.89 минут\n"
     ]
    }
   ],
   "source": [
    "alpha = 0.05\n",
    "\n",
    "results = st.ttest_ind(\n",
    "    df_ultra['duration'],\n",
    "    df_free['duration'],\n",
    "    alternative='greater')\n",
    "\n",
    "print('p-value равно:', results.pvalue)\n",
    "\n",
    "if results.pvalue < alpha:\n",
    "    print('Отвергаем нулевую гипотезу')\n",
    "else:\n",
    "    print('Не получилось отвергнуть нулевую гипотезу')\n",
    "    \n",
    "print('Пользователи ultra в среднем ездят:', df_ultra['duration'].mean().round(2), 'минут')\n",
    "print('А пользователи без подписки в среднем ездят:', df_free['duration'].mean().round(2), 'минут')"
   ]
  },
  {
   "cell_type": "markdown",
   "id": "f6f2161d",
   "metadata": {},
   "source": [
    "###### Гипотеза №2: Можно ли сказать, что среднее расстояние, которое проезжают пользователи с подпиской за одну поездку, не превышает 3130 метров? "
   ]
  },
  {
   "cell_type": "markdown",
   "id": "872e68ba",
   "metadata": {},
   "source": [
    "У нас дано оптимальное расстояние 3130 метров, с точки зрения износа самоката.\n",
    "\n",
    "Нулевая гипотеза: среднее расстояние, которое проезжают пользователи с подпиской равно оптимальному расстоянию. \n",
    "\n",
    "Альтернативная - проезжают больше.\n",
    "\n",
    "Ранее мы создали датафрейм клиентов с подпиской df_ulta, по этому гипотезу проверим с помощью ttest_1samp."
   ]
  },
  {
   "cell_type": "code",
   "execution_count": 47,
   "id": "f376b03b",
   "metadata": {},
   "outputs": [
    {
     "name": "stdout",
     "output_type": "stream",
     "text": [
      "p-значение равно: 0.9195362605842414\n",
      "Не получилось отвергнуть нулевую гипотезу\n",
      "Пользователи с подпиской в среднем проезжают: 3115.45 метров\n"
     ]
    }
   ],
   "source": [
    "optimal = 3130\n",
    "alpha = 0.05\n",
    "results = st.ttest_1samp(\n",
    "    df_ultra['distance'],\n",
    "    optimal,\n",
    "    alternative='greater')\n",
    "\n",
    "print('p-значение равно:', results.pvalue)\n",
    "\n",
    "if (results.pvalue < alpha):\n",
    "    print('Отвергаем нулевую гипотезу')\n",
    "else:\n",
    "    print('Не получилось отвергнуть нулевую гипотезу')\n",
    "    \n",
    "print('Пользователи с подпиской в среднем проезжают:', df_ultra['distance'].mean().round(2), 'метров')"
   ]
  },
  {
   "cell_type": "markdown",
   "id": "7c4cd5f3",
   "metadata": {},
   "source": [
    "###### Гипотеза №3: Будет ли помесячная выручка от пользователей с подпиской по месяцам выше, чем выручка от пользователей без подписки?"
   ]
  },
  {
   "cell_type": "markdown",
   "id": "d63b5591",
   "metadata": {},
   "source": [
    "Нулевая гипотеза: Помесячная выручка от пользователей с подпиской и без - одинковая.\n",
    "\n",
    "Альтернативная гипотеза: Помесячная выручка от пользователей с подпиской больше чем от пользователей без подписки.\n",
    "\n",
    "Для этого используем метод ttest_ind."
   ]
  },
  {
   "cell_type": "code",
   "execution_count": 48,
   "id": "0906a4b4",
   "metadata": {},
   "outputs": [],
   "source": [
    "data1 = df_cash.query('subscription_type == \"ultra\"')\n",
    "data2 = df_cash.query('subscription_type == \"free\"')"
   ]
  },
  {
   "cell_type": "code",
   "execution_count": 49,
   "id": "5837b36e",
   "metadata": {},
   "outputs": [
    {
     "name": "stdout",
     "output_type": "stream",
     "text": [
      "p-value равно: 1.8850394384715216e-31\n",
      "Отвергаем нулевую гипотезу\n",
      "Средняя выручка за месяц от пользователей с подпиской равно: 137044.75 рублей\n",
      "Средняя выручка за месяц от пользователей без подписки равно: 186175.33333333334 рублей\n"
     ]
    }
   ],
   "source": [
    "alpha = 0.05\n",
    "results = st.ttest_ind(\n",
    "    data1['total_money'],\n",
    "    data2['total_money'],\n",
    "    alternative='greater')\n",
    "\n",
    "print('p-value равно:', results.pvalue)\n",
    "\n",
    "if results.pvalue < alpha:\n",
    "    print('Отвергаем нулевую гипотезу')\n",
    "else:\n",
    "    print('Не получилось отвергнуть нулевую гипотезу')\n",
    "\n",
    "print('Средняя выручка за месяц от пользователей с подпиской равно:', sum(data1['total_money']) / 12, 'рублей')\n",
    "print('Средняя выручка за месяц от пользователей без подписки равно:', sum(data2['total_money']) / 12, 'рублей')"
   ]
  },
  {
   "cell_type": "markdown",
   "id": "54fd3afb",
   "metadata": {},
   "source": [
    "Как видим, пользователи с подпиской не приносят больше денег, чем пользователи без подписки, что в принципе разумно, так как подписка подразумевает под собой экономию денег для пользователя."
   ]
  },
  {
   "cell_type": "markdown",
   "id": "3b004f4e",
   "metadata": {},
   "source": [
    "## Итоговый вывод:\n",
    "\n",
    "##### Предобработка данных:\n",
    "\n",
    "В ходе анализа,  не были выявлены пропуски в трёх тадафреймах, но выявлены дублиаты в users_go в количестве 31. Дубликаты были удалены из датафрейма.\n",
    "\n",
    "##### Рекомендации и замечания:\n",
    "\n",
    "Необходимо обратить внимание на дубликаты в users_go и их причину образования: повторная регистрация, покупка подписки? Желательно чтобы данные пользователя при изминении автоматически обновлялись,  а не дублировали друг друга, так как количество пользователей приложения будет отображаться неверно. \n",
    "\n",
    "Следует в срочном порядке передать информацию разработчикам касательно длительности поездок менее 1 минут, так как расстояние, которое проехал самокат более 2 км не соответствует длительность, скорее всего на некоторых самокатах технический сбой или баг в программе.\n",
    "\n",
    "##### Решение задачи:\n",
    "\n",
    "После проверки гипотез, мы выяснили, что пользователи с подпиской:\n",
    "1. По времени ездят дольше практически на 1 минуту чем пользователи без подписки;\n",
    "2. Средняя дистанция поездки превышает оптимальное расстояние, с точки зрения износа самоката, на 72 метра.\n",
    "3. Помесячный доход пользователей меньше чем пользователей без подписки.\n",
    "\n",
    "##### Рекомендации по развитию приложения:\n",
    "\n",
    "Несмотря на то, что пользователи с подпиской приносят меньше дохода, чем пользователи без подписки, что является логично, так как подписка подразумевает под собой экономию денег для клиента, они являются очень значимыми для компании, так как покупая подписку - компания получает постоянного клиента. Чтобы больше привлечь к себе постоянных клиентов, которые увеличивать среднемесячный доход, можно применить следующие шаги:\n",
    "1. Пробная подписка на месяц для пользователей без подписки и новых клиентов.\n",
    "2. Применение бонусной системы (баллов) при длительных поездах (более 20 минту) и возможность их списывать в счет оплаты.\n",
    "3. Получение бонусных баллов пользователем при регистрации в приложении его друзьями по ссылке - приглашении и выполнении ими первой поездки. "
   ]
  }
 ],
 "metadata": {
  "ExecuteTimeLog": [
   {
    "duration": 421,
    "start_time": "2023-10-16T10:14:00.511Z"
   },
   {
    "duration": 76,
    "start_time": "2023-10-16T10:14:32.023Z"
   },
   {
    "duration": 146,
    "start_time": "2023-10-16T10:17:42.306Z"
   },
   {
    "duration": 11,
    "start_time": "2023-10-16T10:18:59.546Z"
   },
   {
    "duration": 13,
    "start_time": "2023-10-16T10:19:26.510Z"
   },
   {
    "duration": 11,
    "start_time": "2023-10-16T10:20:04.708Z"
   },
   {
    "duration": 8,
    "start_time": "2023-10-16T10:20:36.695Z"
   },
   {
    "duration": 65,
    "start_time": "2023-10-16T10:21:06.486Z"
   },
   {
    "duration": 11,
    "start_time": "2023-10-16T10:21:13.749Z"
   },
   {
    "duration": 6,
    "start_time": "2023-10-16T10:21:38.374Z"
   },
   {
    "duration": 7,
    "start_time": "2023-10-16T10:29:40.113Z"
   },
   {
    "duration": 56,
    "start_time": "2023-10-16T10:30:03.524Z"
   },
   {
    "duration": 4,
    "start_time": "2023-10-16T10:31:49.531Z"
   },
   {
    "duration": 7,
    "start_time": "2023-10-16T10:32:02.042Z"
   },
   {
    "duration": 8,
    "start_time": "2023-10-16T10:34:17.971Z"
   },
   {
    "duration": 6,
    "start_time": "2023-10-16T10:34:43.041Z"
   },
   {
    "duration": 13,
    "start_time": "2023-10-16T10:36:17.171Z"
   },
   {
    "duration": 2017,
    "start_time": "2023-10-16T10:40:34.974Z"
   },
   {
    "duration": 3,
    "start_time": "2023-10-16T10:40:50.916Z"
   },
   {
    "duration": 6,
    "start_time": "2023-10-16T10:41:24.753Z"
   },
   {
    "duration": 8,
    "start_time": "2023-10-16T10:41:53.775Z"
   },
   {
    "duration": 5,
    "start_time": "2023-10-16T10:42:22.030Z"
   },
   {
    "duration": 4,
    "start_time": "2023-10-16T10:43:31.853Z"
   },
   {
    "duration": 4,
    "start_time": "2023-10-16T10:43:45.617Z"
   },
   {
    "duration": 4,
    "start_time": "2023-10-16T10:44:30.864Z"
   },
   {
    "duration": 6,
    "start_time": "2023-10-16T10:46:01.598Z"
   },
   {
    "duration": 7,
    "start_time": "2023-10-16T10:46:18.700Z"
   },
   {
    "duration": 436,
    "start_time": "2023-10-16T10:55:38.654Z"
   },
   {
    "duration": 656,
    "start_time": "2023-10-16T10:55:46.648Z"
   },
   {
    "duration": 75,
    "start_time": "2023-10-16T10:55:47.306Z"
   },
   {
    "duration": 12,
    "start_time": "2023-10-16T10:55:47.382Z"
   },
   {
    "duration": 13,
    "start_time": "2023-10-16T10:55:47.396Z"
   },
   {
    "duration": 17,
    "start_time": "2023-10-16T10:55:47.412Z"
   },
   {
    "duration": 25,
    "start_time": "2023-10-16T10:55:47.431Z"
   },
   {
    "duration": 13,
    "start_time": "2023-10-16T10:55:47.458Z"
   },
   {
    "duration": 26,
    "start_time": "2023-10-16T10:55:47.473Z"
   },
   {
    "duration": 19,
    "start_time": "2023-10-16T10:55:47.500Z"
   },
   {
    "duration": 10,
    "start_time": "2023-10-16T10:55:47.521Z"
   },
   {
    "duration": 16,
    "start_time": "2023-10-16T10:55:47.532Z"
   },
   {
    "duration": 5,
    "start_time": "2023-10-16T10:55:47.557Z"
   },
   {
    "duration": 5,
    "start_time": "2023-10-16T10:55:47.564Z"
   },
   {
    "duration": 4,
    "start_time": "2023-10-16T10:55:47.571Z"
   },
   {
    "duration": 12,
    "start_time": "2023-10-16T10:55:47.577Z"
   },
   {
    "duration": 4,
    "start_time": "2023-10-16T10:55:47.591Z"
   },
   {
    "duration": 8,
    "start_time": "2023-10-16T10:55:47.596Z"
   },
   {
    "duration": 3,
    "start_time": "2023-10-16T10:56:41.374Z"
   },
   {
    "duration": 90,
    "start_time": "2023-10-16T10:58:41.521Z"
   },
   {
    "duration": 215,
    "start_time": "2023-10-16T11:02:08.652Z"
   },
   {
    "duration": 119,
    "start_time": "2023-10-16T11:04:13.830Z"
   },
   {
    "duration": 157,
    "start_time": "2023-10-16T11:05:11.198Z"
   },
   {
    "duration": 232,
    "start_time": "2023-10-16T11:17:24.973Z"
   },
   {
    "duration": 132,
    "start_time": "2023-10-16T11:17:32.865Z"
   },
   {
    "duration": 242,
    "start_time": "2023-10-16T11:19:02.224Z"
   },
   {
    "duration": 6,
    "start_time": "2023-10-16T11:26:25.405Z"
   },
   {
    "duration": 9,
    "start_time": "2023-10-16T11:26:42.107Z"
   },
   {
    "duration": 6,
    "start_time": "2023-10-16T11:27:03.490Z"
   },
   {
    "duration": 12,
    "start_time": "2023-10-16T11:28:59.767Z"
   },
   {
    "duration": 117,
    "start_time": "2023-10-16T11:29:14.112Z"
   },
   {
    "duration": 3,
    "start_time": "2023-10-16T11:31:15.924Z"
   },
   {
    "duration": 108,
    "start_time": "2023-10-16T11:31:18.488Z"
   },
   {
    "duration": 399,
    "start_time": "2023-10-16T11:33:17.485Z"
   },
   {
    "duration": 387,
    "start_time": "2023-10-16T11:33:50.706Z"
   },
   {
    "duration": 281,
    "start_time": "2023-10-16T11:34:28.493Z"
   },
   {
    "duration": 599,
    "start_time": "2023-10-16T11:35:42.359Z"
   },
   {
    "duration": 531,
    "start_time": "2023-10-16T11:35:48.504Z"
   },
   {
    "duration": 807,
    "start_time": "2023-10-16T11:35:54.489Z"
   },
   {
    "duration": 102,
    "start_time": "2023-10-16T11:37:36.821Z"
   },
   {
    "duration": 98,
    "start_time": "2023-10-16T11:40:10.831Z"
   },
   {
    "duration": 109,
    "start_time": "2023-10-16T11:40:24.557Z"
   },
   {
    "duration": 6,
    "start_time": "2023-10-16T11:41:32.091Z"
   },
   {
    "duration": 12,
    "start_time": "2023-10-16T11:41:55.056Z"
   },
   {
    "duration": 66,
    "start_time": "2023-10-16T11:43:05.349Z"
   },
   {
    "duration": 8,
    "start_time": "2023-10-16T11:46:42.664Z"
   },
   {
    "duration": 7,
    "start_time": "2023-10-16T11:47:07.109Z"
   },
   {
    "duration": 227,
    "start_time": "2023-10-16T11:53:29.142Z"
   },
   {
    "duration": 308,
    "start_time": "2023-10-16T11:53:45.857Z"
   },
   {
    "duration": 226,
    "start_time": "2023-10-16T11:55:57.209Z"
   },
   {
    "duration": 233,
    "start_time": "2023-10-16T11:59:35.638Z"
   },
   {
    "duration": 241,
    "start_time": "2023-10-16T12:00:57.490Z"
   },
   {
    "duration": 100,
    "start_time": "2023-10-16T12:03:33.832Z"
   },
   {
    "duration": 101,
    "start_time": "2023-10-16T12:06:12.961Z"
   },
   {
    "duration": 184,
    "start_time": "2023-10-16T12:12:05.201Z"
   },
   {
    "duration": 92,
    "start_time": "2023-10-16T12:12:25.826Z"
   },
   {
    "duration": 7,
    "start_time": "2023-10-16T12:14:18.271Z"
   },
   {
    "duration": 7,
    "start_time": "2023-10-16T12:14:52.210Z"
   },
   {
    "duration": 7,
    "start_time": "2023-10-16T12:15:07.915Z"
   },
   {
    "duration": 9,
    "start_time": "2023-10-16T12:15:31.177Z"
   },
   {
    "duration": 7,
    "start_time": "2023-10-16T12:15:41.690Z"
   },
   {
    "duration": 6,
    "start_time": "2023-10-16T12:16:51.789Z"
   },
   {
    "duration": 267,
    "start_time": "2023-10-16T12:16:55.401Z"
   },
   {
    "duration": 182,
    "start_time": "2023-10-16T12:17:38.945Z"
   },
   {
    "duration": 116,
    "start_time": "2023-10-16T12:17:46.128Z"
   },
   {
    "duration": 17,
    "start_time": "2023-10-16T12:21:37.539Z"
   },
   {
    "duration": 19,
    "start_time": "2023-10-16T12:22:02.646Z"
   },
   {
    "duration": 12,
    "start_time": "2023-10-16T12:22:16.957Z"
   },
   {
    "duration": 5,
    "start_time": "2023-10-16T12:23:06.072Z"
   },
   {
    "duration": 227,
    "start_time": "2023-10-16T12:23:35.669Z"
   },
   {
    "duration": 221,
    "start_time": "2023-10-16T12:23:46.927Z"
   },
   {
    "duration": 178,
    "start_time": "2023-10-16T12:23:53.986Z"
   },
   {
    "duration": 311,
    "start_time": "2023-10-16T12:23:56.965Z"
   },
   {
    "duration": 4,
    "start_time": "2023-10-16T12:25:14.969Z"
   },
   {
    "duration": 3,
    "start_time": "2023-10-16T12:26:28.071Z"
   },
   {
    "duration": 105,
    "start_time": "2023-10-16T13:23:33.066Z"
   },
   {
    "duration": 23,
    "start_time": "2023-10-16T13:23:50.652Z"
   },
   {
    "duration": 16,
    "start_time": "2023-10-16T13:25:49.609Z"
   },
   {
    "duration": 14,
    "start_time": "2023-10-16T13:26:15.503Z"
   },
   {
    "duration": 12,
    "start_time": "2023-10-16T13:26:31.089Z"
   },
   {
    "duration": 42,
    "start_time": "2023-10-16T13:28:49.914Z"
   },
   {
    "duration": 11,
    "start_time": "2023-10-16T13:29:17.495Z"
   },
   {
    "duration": 14,
    "start_time": "2023-10-16T13:29:58.901Z"
   },
   {
    "duration": 245,
    "start_time": "2023-10-16T13:32:11.532Z"
   },
   {
    "duration": 540,
    "start_time": "2023-10-16T13:32:54.008Z"
   },
   {
    "duration": 398,
    "start_time": "2023-10-16T13:33:06.320Z"
   },
   {
    "duration": 479,
    "start_time": "2023-10-16T13:33:44.287Z"
   },
   {
    "duration": 541,
    "start_time": "2023-10-16T13:34:49.765Z"
   },
   {
    "duration": 497,
    "start_time": "2023-10-16T13:35:04.474Z"
   },
   {
    "duration": 510,
    "start_time": "2023-10-16T13:35:17.142Z"
   },
   {
    "duration": 1031,
    "start_time": "2023-10-16T13:35:50.966Z"
   },
   {
    "duration": 1118,
    "start_time": "2023-10-16T13:36:25.757Z"
   },
   {
    "duration": 3,
    "start_time": "2023-10-16T13:57:47.015Z"
   },
   {
    "duration": 626,
    "start_time": "2023-10-16T13:57:54.293Z"
   },
   {
    "duration": 79,
    "start_time": "2023-10-16T13:57:54.921Z"
   },
   {
    "duration": 15,
    "start_time": "2023-10-16T13:57:55.002Z"
   },
   {
    "duration": 22,
    "start_time": "2023-10-16T13:57:55.020Z"
   },
   {
    "duration": 12,
    "start_time": "2023-10-16T13:57:55.051Z"
   },
   {
    "duration": 12,
    "start_time": "2023-10-16T13:57:55.064Z"
   },
   {
    "duration": 14,
    "start_time": "2023-10-16T13:57:55.078Z"
   },
   {
    "duration": 7,
    "start_time": "2023-10-16T13:57:55.096Z"
   },
   {
    "duration": 46,
    "start_time": "2023-10-16T13:57:55.105Z"
   },
   {
    "duration": 17,
    "start_time": "2023-10-16T13:57:55.153Z"
   },
   {
    "duration": 16,
    "start_time": "2023-10-16T13:57:55.172Z"
   },
   {
    "duration": 5,
    "start_time": "2023-10-16T13:57:55.190Z"
   },
   {
    "duration": 10,
    "start_time": "2023-10-16T13:57:55.197Z"
   },
   {
    "duration": 8,
    "start_time": "2023-10-16T13:57:55.209Z"
   },
   {
    "duration": 29,
    "start_time": "2023-10-16T13:57:55.219Z"
   },
   {
    "duration": 16,
    "start_time": "2023-10-16T13:57:55.250Z"
   },
   {
    "duration": 12,
    "start_time": "2023-10-16T13:57:55.268Z"
   },
   {
    "duration": 152,
    "start_time": "2023-10-16T13:57:55.281Z"
   },
   {
    "duration": 85,
    "start_time": "2023-10-16T13:57:55.436Z"
   },
   {
    "duration": 9,
    "start_time": "2023-10-16T13:57:55.523Z"
   },
   {
    "duration": 229,
    "start_time": "2023-10-16T13:57:55.549Z"
   },
   {
    "duration": 294,
    "start_time": "2023-10-16T13:57:55.779Z"
   },
   {
    "duration": 128,
    "start_time": "2023-10-16T13:57:56.074Z"
   },
   {
    "duration": 13,
    "start_time": "2023-10-16T13:57:56.204Z"
   },
   {
    "duration": 5,
    "start_time": "2023-10-16T13:57:56.220Z"
   },
   {
    "duration": 288,
    "start_time": "2023-10-16T13:57:56.227Z"
   },
   {
    "duration": 136,
    "start_time": "2023-10-16T13:57:56.516Z"
   },
   {
    "duration": 9,
    "start_time": "2023-10-16T13:57:56.658Z"
   },
   {
    "duration": 8,
    "start_time": "2023-10-16T13:57:56.669Z"
   },
   {
    "duration": 240,
    "start_time": "2023-10-16T13:57:56.678Z"
   },
   {
    "duration": 3,
    "start_time": "2023-10-16T13:57:56.920Z"
   },
   {
    "duration": 39,
    "start_time": "2023-10-16T13:57:56.925Z"
   },
   {
    "duration": 23,
    "start_time": "2023-10-16T13:57:56.966Z"
   },
   {
    "duration": 16,
    "start_time": "2023-10-16T13:57:56.991Z"
   },
   {
    "duration": 13,
    "start_time": "2023-10-16T13:57:57.010Z"
   },
   {
    "duration": 1090,
    "start_time": "2023-10-16T13:57:57.024Z"
   },
   {
    "duration": 11,
    "start_time": "2023-10-16T14:05:14.397Z"
   },
   {
    "duration": 30,
    "start_time": "2023-10-16T14:14:56.714Z"
   },
   {
    "duration": 21,
    "start_time": "2023-10-16T14:15:04.667Z"
   },
   {
    "duration": 27,
    "start_time": "2023-10-16T14:16:25.123Z"
   },
   {
    "duration": 33,
    "start_time": "2023-10-16T14:18:05.301Z"
   },
   {
    "duration": 31,
    "start_time": "2023-10-16T14:18:16.666Z"
   },
   {
    "duration": 90,
    "start_time": "2023-10-16T14:18:40.318Z"
   },
   {
    "duration": 24,
    "start_time": "2023-10-16T14:18:50.060Z"
   },
   {
    "duration": 23,
    "start_time": "2023-10-16T14:21:49.015Z"
   },
   {
    "duration": 23,
    "start_time": "2023-10-16T14:21:55.107Z"
   },
   {
    "duration": 22,
    "start_time": "2023-10-16T14:22:04.674Z"
   },
   {
    "duration": 21,
    "start_time": "2023-10-16T14:22:08.911Z"
   },
   {
    "duration": 22,
    "start_time": "2023-10-16T14:24:24.165Z"
   },
   {
    "duration": 25,
    "start_time": "2023-10-16T14:25:47.120Z"
   },
   {
    "duration": 23,
    "start_time": "2023-10-16T14:26:11.732Z"
   },
   {
    "duration": 23,
    "start_time": "2023-10-16T14:26:17.820Z"
   },
   {
    "duration": 24,
    "start_time": "2023-10-16T14:27:49.259Z"
   },
   {
    "duration": 78,
    "start_time": "2023-10-16T14:28:27.755Z"
   },
   {
    "duration": 22,
    "start_time": "2023-10-16T14:28:33.373Z"
   },
   {
    "duration": 22,
    "start_time": "2023-10-16T14:29:07.436Z"
   },
   {
    "duration": 33,
    "start_time": "2023-10-16T14:29:17.733Z"
   },
   {
    "duration": 24,
    "start_time": "2023-10-16T14:30:59.358Z"
   },
   {
    "duration": 18,
    "start_time": "2023-10-16T14:31:13.658Z"
   },
   {
    "duration": 20,
    "start_time": "2023-10-16T14:31:25.793Z"
   },
   {
    "duration": 20,
    "start_time": "2023-10-16T14:33:21.216Z"
   },
   {
    "duration": 21,
    "start_time": "2023-10-16T14:33:30.423Z"
   },
   {
    "duration": 21,
    "start_time": "2023-10-16T14:33:32.861Z"
   },
   {
    "duration": 23,
    "start_time": "2023-10-16T14:37:25.066Z"
   },
   {
    "duration": 22,
    "start_time": "2023-10-16T14:37:35.057Z"
   },
   {
    "duration": 17,
    "start_time": "2023-10-16T14:46:25.709Z"
   },
   {
    "duration": 23,
    "start_time": "2023-10-16T14:46:57.562Z"
   },
   {
    "duration": 20,
    "start_time": "2023-10-16T14:48:20.112Z"
   },
   {
    "duration": 20,
    "start_time": "2023-10-16T14:49:17.973Z"
   },
   {
    "duration": 19,
    "start_time": "2023-10-16T14:49:28.485Z"
   },
   {
    "duration": 19,
    "start_time": "2023-10-16T14:50:04.090Z"
   },
   {
    "duration": 30,
    "start_time": "2023-10-16T17:20:45.746Z"
   },
   {
    "duration": 1822,
    "start_time": "2023-10-16T17:28:48.755Z"
   },
   {
    "duration": 32,
    "start_time": "2023-10-16T17:39:31.949Z"
   },
   {
    "duration": 26,
    "start_time": "2023-10-16T17:40:07.688Z"
   },
   {
    "duration": 142,
    "start_time": "2023-10-16T17:40:28.032Z"
   },
   {
    "duration": 150,
    "start_time": "2023-10-16T17:40:52.164Z"
   },
   {
    "duration": 28,
    "start_time": "2023-10-16T17:43:52.593Z"
   },
   {
    "duration": 165,
    "start_time": "2023-10-16T17:44:30.709Z"
   },
   {
    "duration": 785,
    "start_time": "2023-10-17T08:08:26.197Z"
   },
   {
    "duration": 287,
    "start_time": "2023-10-17T08:08:26.985Z"
   },
   {
    "duration": 12,
    "start_time": "2023-10-17T08:08:27.274Z"
   },
   {
    "duration": 25,
    "start_time": "2023-10-17T08:08:27.288Z"
   },
   {
    "duration": 16,
    "start_time": "2023-10-17T08:08:27.314Z"
   },
   {
    "duration": 8,
    "start_time": "2023-10-17T08:08:27.331Z"
   },
   {
    "duration": 10,
    "start_time": "2023-10-17T08:08:27.341Z"
   },
   {
    "duration": 11,
    "start_time": "2023-10-17T08:08:27.353Z"
   },
   {
    "duration": 21,
    "start_time": "2023-10-17T08:08:27.365Z"
   },
   {
    "duration": 8,
    "start_time": "2023-10-17T08:08:27.388Z"
   },
   {
    "duration": 10,
    "start_time": "2023-10-17T08:08:27.397Z"
   },
   {
    "duration": 7,
    "start_time": "2023-10-17T08:08:27.408Z"
   },
   {
    "duration": 7,
    "start_time": "2023-10-17T08:08:27.416Z"
   },
   {
    "duration": 5,
    "start_time": "2023-10-17T08:08:27.443Z"
   },
   {
    "duration": 136,
    "start_time": "2023-10-17T08:08:27.449Z"
   },
   {
    "duration": 62,
    "start_time": "2023-10-17T08:08:27.586Z"
   },
   {
    "duration": 240,
    "start_time": "2023-10-17T08:08:27.649Z"
   },
   {
    "duration": 174,
    "start_time": "2023-10-17T08:08:27.891Z"
   },
   {
    "duration": 64,
    "start_time": "2023-10-17T08:08:28.067Z"
   },
   {
    "duration": 16,
    "start_time": "2023-10-17T08:08:28.132Z"
   },
   {
    "duration": 229,
    "start_time": "2023-10-17T08:08:28.150Z"
   },
   {
    "duration": 295,
    "start_time": "2023-10-17T08:08:28.381Z"
   },
   {
    "duration": 96,
    "start_time": "2023-10-17T08:08:28.678Z"
   },
   {
    "duration": 8,
    "start_time": "2023-10-17T08:08:28.775Z"
   },
   {
    "duration": 5,
    "start_time": "2023-10-17T08:08:28.785Z"
   },
   {
    "duration": 265,
    "start_time": "2023-10-17T08:08:28.791Z"
   },
   {
    "duration": 105,
    "start_time": "2023-10-17T08:08:29.058Z"
   },
   {
    "duration": 8,
    "start_time": "2023-10-17T08:08:29.166Z"
   },
   {
    "duration": 7,
    "start_time": "2023-10-17T08:08:29.175Z"
   },
   {
    "duration": 237,
    "start_time": "2023-10-17T08:08:29.183Z"
   },
   {
    "duration": 3,
    "start_time": "2023-10-17T08:08:29.422Z"
   },
   {
    "duration": 30,
    "start_time": "2023-10-17T08:08:29.427Z"
   },
   {
    "duration": 33,
    "start_time": "2023-10-17T08:08:29.458Z"
   },
   {
    "duration": 15,
    "start_time": "2023-10-17T08:08:29.493Z"
   },
   {
    "duration": 35,
    "start_time": "2023-10-17T08:08:29.509Z"
   },
   {
    "duration": 1016,
    "start_time": "2023-10-17T08:08:29.545Z"
   },
   {
    "duration": 26,
    "start_time": "2023-10-17T08:08:30.562Z"
   },
   {
    "duration": 401,
    "start_time": "2023-10-17T08:08:30.590Z"
   },
   {
    "duration": 31,
    "start_time": "2023-10-17T08:09:27.987Z"
   },
   {
    "duration": 28,
    "start_time": "2023-10-17T08:09:45.684Z"
   },
   {
    "duration": 416,
    "start_time": "2023-10-17T11:20:34.595Z"
   },
   {
    "duration": 1088,
    "start_time": "2023-10-17T11:20:42.291Z"
   },
   {
    "duration": 115,
    "start_time": "2023-10-17T11:20:43.381Z"
   },
   {
    "duration": 10,
    "start_time": "2023-10-17T11:20:43.498Z"
   },
   {
    "duration": 52,
    "start_time": "2023-10-17T11:20:43.509Z"
   },
   {
    "duration": 51,
    "start_time": "2023-10-17T11:20:43.563Z"
   },
   {
    "duration": 27,
    "start_time": "2023-10-17T11:20:43.616Z"
   },
   {
    "duration": 23,
    "start_time": "2023-10-17T11:20:43.651Z"
   },
   {
    "duration": 36,
    "start_time": "2023-10-17T11:20:43.676Z"
   },
   {
    "duration": 35,
    "start_time": "2023-10-17T11:20:43.713Z"
   },
   {
    "duration": 55,
    "start_time": "2023-10-17T11:20:43.750Z"
   },
   {
    "duration": 42,
    "start_time": "2023-10-17T11:20:43.806Z"
   },
   {
    "duration": 19,
    "start_time": "2023-10-17T11:20:43.855Z"
   },
   {
    "duration": 26,
    "start_time": "2023-10-17T11:20:43.875Z"
   },
   {
    "duration": 29,
    "start_time": "2023-10-17T11:20:43.904Z"
   },
   {
    "duration": 17,
    "start_time": "2023-10-17T11:20:43.934Z"
   },
   {
    "duration": 20,
    "start_time": "2023-10-17T11:20:43.953Z"
   },
   {
    "duration": 49,
    "start_time": "2023-10-17T11:20:43.974Z"
   },
   {
    "duration": 219,
    "start_time": "2023-10-17T11:20:44.024Z"
   },
   {
    "duration": 111,
    "start_time": "2023-10-17T11:20:44.245Z"
   },
   {
    "duration": 9,
    "start_time": "2023-10-17T11:20:44.364Z"
   },
   {
    "duration": 272,
    "start_time": "2023-10-17T11:20:44.375Z"
   },
   {
    "duration": 279,
    "start_time": "2023-10-17T11:20:44.651Z"
   },
   {
    "duration": 124,
    "start_time": "2023-10-17T11:20:44.932Z"
   },
   {
    "duration": 18,
    "start_time": "2023-10-17T11:20:45.058Z"
   },
   {
    "duration": 83,
    "start_time": "2023-10-17T11:20:45.081Z"
   },
   {
    "duration": 316,
    "start_time": "2023-10-17T11:20:45.165Z"
   },
   {
    "duration": 203,
    "start_time": "2023-10-17T11:20:45.483Z"
   },
   {
    "duration": 8,
    "start_time": "2023-10-17T11:20:45.687Z"
   },
   {
    "duration": 31,
    "start_time": "2023-10-17T11:20:45.696Z"
   },
   {
    "duration": 262,
    "start_time": "2023-10-17T11:20:45.728Z"
   },
   {
    "duration": 3,
    "start_time": "2023-10-17T11:20:45.992Z"
   },
   {
    "duration": 57,
    "start_time": "2023-10-17T11:20:45.997Z"
   },
   {
    "duration": 17,
    "start_time": "2023-10-17T11:20:46.056Z"
   },
   {
    "duration": 11,
    "start_time": "2023-10-17T11:20:46.075Z"
   },
   {
    "duration": 20,
    "start_time": "2023-10-17T11:20:46.088Z"
   },
   {
    "duration": 1064,
    "start_time": "2023-10-17T11:20:46.110Z"
   },
   {
    "duration": 122,
    "start_time": "2023-10-17T11:20:47.176Z"
   },
   {
    "duration": 133,
    "start_time": "2023-10-17T11:20:47.300Z"
   },
   {
    "duration": 3,
    "start_time": "2023-10-17T11:20:47.434Z"
   },
   {
    "duration": 112,
    "start_time": "2023-10-17T11:24:00.576Z"
   },
   {
    "duration": 4,
    "start_time": "2023-10-17T11:24:10.016Z"
   },
   {
    "duration": 6,
    "start_time": "2023-10-17T11:28:03.194Z"
   },
   {
    "duration": 10,
    "start_time": "2023-10-17T11:29:50.541Z"
   },
   {
    "duration": 8,
    "start_time": "2023-10-17T11:30:04.023Z"
   },
   {
    "duration": 5,
    "start_time": "2023-10-17T11:32:17.469Z"
   },
   {
    "duration": 1748,
    "start_time": "2023-10-17T11:33:28.375Z"
   },
   {
    "duration": 1548,
    "start_time": "2023-10-17T11:34:11.169Z"
   },
   {
    "duration": 27,
    "start_time": "2023-10-17T11:35:25.678Z"
   },
   {
    "duration": 1188,
    "start_time": "2023-10-17T11:35:41.715Z"
   },
   {
    "duration": 79,
    "start_time": "2023-10-17T11:35:42.906Z"
   },
   {
    "duration": 11,
    "start_time": "2023-10-17T11:35:42.987Z"
   },
   {
    "duration": 13,
    "start_time": "2023-10-17T11:35:42.999Z"
   },
   {
    "duration": 11,
    "start_time": "2023-10-17T11:35:43.014Z"
   },
   {
    "duration": 8,
    "start_time": "2023-10-17T11:35:43.027Z"
   },
   {
    "duration": 27,
    "start_time": "2023-10-17T11:35:43.040Z"
   },
   {
    "duration": 14,
    "start_time": "2023-10-17T11:35:43.069Z"
   },
   {
    "duration": 22,
    "start_time": "2023-10-17T11:35:43.085Z"
   },
   {
    "duration": 8,
    "start_time": "2023-10-17T11:35:43.108Z"
   },
   {
    "duration": 10,
    "start_time": "2023-10-17T11:35:43.117Z"
   },
   {
    "duration": 30,
    "start_time": "2023-10-17T11:35:43.129Z"
   },
   {
    "duration": 7,
    "start_time": "2023-10-17T11:35:43.161Z"
   },
   {
    "duration": 7,
    "start_time": "2023-10-17T11:35:43.172Z"
   },
   {
    "duration": 18,
    "start_time": "2023-10-17T11:35:43.181Z"
   },
   {
    "duration": 8,
    "start_time": "2023-10-17T11:35:43.201Z"
   },
   {
    "duration": 10,
    "start_time": "2023-10-17T11:35:43.212Z"
   },
   {
    "duration": 13,
    "start_time": "2023-10-17T11:35:43.224Z"
   },
   {
    "duration": 173,
    "start_time": "2023-10-17T11:35:43.238Z"
   },
   {
    "duration": 88,
    "start_time": "2023-10-17T11:35:43.412Z"
   },
   {
    "duration": 7,
    "start_time": "2023-10-17T11:35:43.502Z"
   },
   {
    "duration": 273,
    "start_time": "2023-10-17T11:35:43.510Z"
   },
   {
    "duration": 317,
    "start_time": "2023-10-17T11:35:43.787Z"
   },
   {
    "duration": 156,
    "start_time": "2023-10-17T11:35:44.106Z"
   },
   {
    "duration": 15,
    "start_time": "2023-10-17T11:35:44.264Z"
   },
   {
    "duration": 45,
    "start_time": "2023-10-17T11:35:44.285Z"
   },
   {
    "duration": 381,
    "start_time": "2023-10-17T11:35:44.332Z"
   },
   {
    "duration": 217,
    "start_time": "2023-10-17T11:35:44.715Z"
   },
   {
    "duration": 25,
    "start_time": "2023-10-17T11:35:44.934Z"
   },
   {
    "duration": 11,
    "start_time": "2023-10-17T11:35:44.969Z"
   },
   {
    "duration": 298,
    "start_time": "2023-10-17T11:35:44.982Z"
   },
   {
    "duration": 4,
    "start_time": "2023-10-17T11:35:45.281Z"
   },
   {
    "duration": 41,
    "start_time": "2023-10-17T11:35:45.287Z"
   },
   {
    "duration": 53,
    "start_time": "2023-10-17T11:35:45.329Z"
   },
   {
    "duration": 14,
    "start_time": "2023-10-17T11:35:45.384Z"
   },
   {
    "duration": 202,
    "start_time": "2023-10-17T11:35:45.400Z"
   },
   {
    "duration": 1190,
    "start_time": "2023-10-17T11:35:45.604Z"
   },
   {
    "duration": 28,
    "start_time": "2023-10-17T11:35:46.796Z"
   },
   {
    "duration": 172,
    "start_time": "2023-10-17T11:35:46.826Z"
   },
   {
    "duration": 116,
    "start_time": "2023-10-17T11:35:47.000Z"
   },
   {
    "duration": 9,
    "start_time": "2023-10-17T11:37:51.637Z"
   },
   {
    "duration": 6,
    "start_time": "2023-10-17T11:38:03.874Z"
   },
   {
    "duration": 135,
    "start_time": "2023-10-17T11:38:10.290Z"
   },
   {
    "duration": 19,
    "start_time": "2023-10-17T12:01:44.094Z"
   },
   {
    "duration": 19,
    "start_time": "2023-10-17T12:04:02.287Z"
   },
   {
    "duration": 16,
    "start_time": "2023-10-17T12:05:12.496Z"
   },
   {
    "duration": 14,
    "start_time": "2023-10-17T12:05:59.743Z"
   },
   {
    "duration": 15,
    "start_time": "2023-10-17T12:06:27.504Z"
   },
   {
    "duration": 17,
    "start_time": "2023-10-17T12:07:06.203Z"
   },
   {
    "duration": 14,
    "start_time": "2023-10-17T12:07:21.410Z"
   },
   {
    "duration": 7,
    "start_time": "2023-10-17T12:25:26.809Z"
   },
   {
    "duration": 6,
    "start_time": "2023-10-17T12:26:44.298Z"
   },
   {
    "duration": 5,
    "start_time": "2023-10-17T12:51:39.202Z"
   },
   {
    "duration": 6,
    "start_time": "2023-10-17T12:53:08.436Z"
   },
   {
    "duration": 7,
    "start_time": "2023-10-17T12:54:45.396Z"
   },
   {
    "duration": 10,
    "start_time": "2023-10-17T12:54:55.559Z"
   },
   {
    "duration": 11,
    "start_time": "2023-10-17T12:55:27.064Z"
   },
   {
    "duration": 8,
    "start_time": "2023-10-17T12:56:21.374Z"
   },
   {
    "duration": 1127,
    "start_time": "2023-10-17T16:15:29.070Z"
   },
   {
    "duration": 80,
    "start_time": "2023-10-17T16:15:30.199Z"
   },
   {
    "duration": 73,
    "start_time": "2023-10-17T16:15:30.280Z"
   },
   {
    "duration": 85,
    "start_time": "2023-10-17T16:15:30.356Z"
   },
   {
    "duration": 52,
    "start_time": "2023-10-17T16:15:30.443Z"
   },
   {
    "duration": 36,
    "start_time": "2023-10-17T16:15:30.497Z"
   },
   {
    "duration": 56,
    "start_time": "2023-10-17T16:15:30.534Z"
   },
   {
    "duration": 44,
    "start_time": "2023-10-17T16:15:30.592Z"
   },
   {
    "duration": 54,
    "start_time": "2023-10-17T16:15:30.638Z"
   },
   {
    "duration": 41,
    "start_time": "2023-10-17T16:15:30.695Z"
   },
   {
    "duration": 71,
    "start_time": "2023-10-17T16:15:30.737Z"
   },
   {
    "duration": 88,
    "start_time": "2023-10-17T16:15:30.809Z"
   },
   {
    "duration": 27,
    "start_time": "2023-10-17T16:15:30.898Z"
   },
   {
    "duration": 38,
    "start_time": "2023-10-17T16:15:30.926Z"
   },
   {
    "duration": 72,
    "start_time": "2023-10-17T16:15:30.966Z"
   },
   {
    "duration": 131,
    "start_time": "2023-10-17T16:15:31.040Z"
   },
   {
    "duration": 59,
    "start_time": "2023-10-17T16:15:31.173Z"
   },
   {
    "duration": 38,
    "start_time": "2023-10-17T16:15:31.234Z"
   },
   {
    "duration": 209,
    "start_time": "2023-10-17T16:15:31.274Z"
   },
   {
    "duration": 82,
    "start_time": "2023-10-17T16:15:31.485Z"
   },
   {
    "duration": 58,
    "start_time": "2023-10-17T16:15:31.569Z"
   },
   {
    "duration": 290,
    "start_time": "2023-10-17T16:15:31.628Z"
   },
   {
    "duration": 293,
    "start_time": "2023-10-17T16:15:31.920Z"
   },
   {
    "duration": 125,
    "start_time": "2023-10-17T16:15:32.214Z"
   },
   {
    "duration": 22,
    "start_time": "2023-10-17T16:15:32.340Z"
   },
   {
    "duration": 8,
    "start_time": "2023-10-17T16:15:32.363Z"
   },
   {
    "duration": 301,
    "start_time": "2023-10-17T16:15:32.372Z"
   },
   {
    "duration": 200,
    "start_time": "2023-10-17T16:15:32.677Z"
   },
   {
    "duration": 14,
    "start_time": "2023-10-17T16:15:32.879Z"
   },
   {
    "duration": 52,
    "start_time": "2023-10-17T16:15:32.895Z"
   },
   {
    "duration": 261,
    "start_time": "2023-10-17T16:15:32.954Z"
   },
   {
    "duration": 4,
    "start_time": "2023-10-17T16:15:33.216Z"
   },
   {
    "duration": 35,
    "start_time": "2023-10-17T16:15:33.221Z"
   },
   {
    "duration": 16,
    "start_time": "2023-10-17T16:15:33.262Z"
   },
   {
    "duration": 25,
    "start_time": "2023-10-17T16:15:33.280Z"
   },
   {
    "duration": 23,
    "start_time": "2023-10-17T16:15:33.307Z"
   },
   {
    "duration": 1159,
    "start_time": "2023-10-17T16:15:33.332Z"
   },
   {
    "duration": 51,
    "start_time": "2023-10-17T16:15:34.493Z"
   },
   {
    "duration": 145,
    "start_time": "2023-10-17T16:15:34.546Z"
   },
   {
    "duration": 106,
    "start_time": "2023-10-17T16:15:34.693Z"
   },
   {
    "duration": 6,
    "start_time": "2023-10-17T16:15:34.800Z"
   },
   {
    "duration": 14,
    "start_time": "2023-10-17T16:15:34.808Z"
   },
   {
    "duration": 37,
    "start_time": "2023-10-17T16:15:34.824Z"
   },
   {
    "duration": 59,
    "start_time": "2023-10-17T16:15:34.863Z"
   },
   {
    "duration": 13,
    "start_time": "2023-10-17T16:24:22.139Z"
   },
   {
    "duration": 5,
    "start_time": "2023-10-17T16:24:50.374Z"
   },
   {
    "duration": 49,
    "start_time": "2023-10-17T17:39:25.322Z"
   },
   {
    "duration": 1294,
    "start_time": "2023-10-17T17:39:40.680Z"
   },
   {
    "duration": 194,
    "start_time": "2023-10-17T17:39:41.976Z"
   },
   {
    "duration": 14,
    "start_time": "2023-10-17T17:39:42.172Z"
   },
   {
    "duration": 45,
    "start_time": "2023-10-17T17:39:42.189Z"
   },
   {
    "duration": 12,
    "start_time": "2023-10-17T17:39:42.236Z"
   },
   {
    "duration": 45,
    "start_time": "2023-10-17T17:39:42.250Z"
   },
   {
    "duration": 30,
    "start_time": "2023-10-17T17:39:42.297Z"
   },
   {
    "duration": 18,
    "start_time": "2023-10-17T17:39:42.329Z"
   },
   {
    "duration": 24,
    "start_time": "2023-10-17T17:39:42.349Z"
   },
   {
    "duration": 99,
    "start_time": "2023-10-17T17:39:42.376Z"
   },
   {
    "duration": 0,
    "start_time": "2023-10-17T17:39:42.477Z"
   },
   {
    "duration": 0,
    "start_time": "2023-10-17T17:39:42.478Z"
   },
   {
    "duration": 0,
    "start_time": "2023-10-17T17:39:42.479Z"
   },
   {
    "duration": 0,
    "start_time": "2023-10-17T17:39:42.480Z"
   },
   {
    "duration": 0,
    "start_time": "2023-10-17T17:39:42.480Z"
   },
   {
    "duration": 0,
    "start_time": "2023-10-17T17:39:42.481Z"
   },
   {
    "duration": 0,
    "start_time": "2023-10-17T17:39:42.482Z"
   },
   {
    "duration": 0,
    "start_time": "2023-10-17T17:39:42.483Z"
   },
   {
    "duration": 0,
    "start_time": "2023-10-17T17:39:42.484Z"
   },
   {
    "duration": 0,
    "start_time": "2023-10-17T17:39:42.485Z"
   },
   {
    "duration": 0,
    "start_time": "2023-10-17T17:39:42.486Z"
   },
   {
    "duration": 0,
    "start_time": "2023-10-17T17:39:42.487Z"
   },
   {
    "duration": 0,
    "start_time": "2023-10-17T17:39:42.501Z"
   },
   {
    "duration": 0,
    "start_time": "2023-10-17T17:39:42.503Z"
   },
   {
    "duration": 0,
    "start_time": "2023-10-17T17:39:42.503Z"
   },
   {
    "duration": 0,
    "start_time": "2023-10-17T17:39:42.504Z"
   },
   {
    "duration": 0,
    "start_time": "2023-10-17T17:39:42.505Z"
   },
   {
    "duration": 0,
    "start_time": "2023-10-17T17:39:42.506Z"
   },
   {
    "duration": 0,
    "start_time": "2023-10-17T17:39:42.507Z"
   },
   {
    "duration": 0,
    "start_time": "2023-10-17T17:39:42.508Z"
   },
   {
    "duration": 0,
    "start_time": "2023-10-17T17:39:42.509Z"
   },
   {
    "duration": 0,
    "start_time": "2023-10-17T17:39:42.510Z"
   },
   {
    "duration": 0,
    "start_time": "2023-10-17T17:39:42.511Z"
   },
   {
    "duration": 0,
    "start_time": "2023-10-17T17:39:42.512Z"
   },
   {
    "duration": 0,
    "start_time": "2023-10-17T17:39:42.513Z"
   },
   {
    "duration": 0,
    "start_time": "2023-10-17T17:39:42.514Z"
   },
   {
    "duration": 0,
    "start_time": "2023-10-17T17:39:42.515Z"
   },
   {
    "duration": 0,
    "start_time": "2023-10-17T17:39:42.516Z"
   },
   {
    "duration": 0,
    "start_time": "2023-10-17T17:39:42.517Z"
   },
   {
    "duration": 0,
    "start_time": "2023-10-17T17:39:42.518Z"
   },
   {
    "duration": 0,
    "start_time": "2023-10-17T17:39:42.519Z"
   },
   {
    "duration": 0,
    "start_time": "2023-10-17T17:39:42.520Z"
   },
   {
    "duration": 0,
    "start_time": "2023-10-17T17:39:42.521Z"
   },
   {
    "duration": 0,
    "start_time": "2023-10-17T17:39:42.522Z"
   },
   {
    "duration": 17,
    "start_time": "2023-10-17T17:40:44.140Z"
   },
   {
    "duration": 12,
    "start_time": "2023-10-17T17:40:55.713Z"
   },
   {
    "duration": 1807,
    "start_time": "2023-10-17T17:45:25.206Z"
   },
   {
    "duration": 6,
    "start_time": "2023-10-17T17:45:56.605Z"
   },
   {
    "duration": 7,
    "start_time": "2023-10-17T17:46:18.487Z"
   },
   {
    "duration": 8,
    "start_time": "2023-10-17T17:46:33.242Z"
   },
   {
    "duration": 7,
    "start_time": "2023-10-17T17:46:51.957Z"
   },
   {
    "duration": 6,
    "start_time": "2023-10-17T17:48:30.206Z"
   },
   {
    "duration": 11,
    "start_time": "2023-10-17T17:53:40.112Z"
   },
   {
    "duration": 9,
    "start_time": "2023-10-17T17:54:04.010Z"
   },
   {
    "duration": 17,
    "start_time": "2023-10-17T17:54:10.237Z"
   },
   {
    "duration": 12,
    "start_time": "2023-10-17T18:03:09.557Z"
   },
   {
    "duration": 149,
    "start_time": "2023-10-17T18:05:19.767Z"
   },
   {
    "duration": 77,
    "start_time": "2023-10-17T18:05:30.504Z"
   },
   {
    "duration": 107,
    "start_time": "2023-10-17T18:05:48.677Z"
   },
   {
    "duration": 9,
    "start_time": "2023-10-17T18:06:18.710Z"
   },
   {
    "duration": 19449,
    "start_time": "2023-10-17T18:07:19.583Z"
   },
   {
    "duration": 18661,
    "start_time": "2023-10-17T18:07:58.564Z"
   },
   {
    "duration": 258,
    "start_time": "2023-10-17T18:08:58.001Z"
   },
   {
    "duration": 618,
    "start_time": "2023-10-17T18:09:14.160Z"
   },
   {
    "duration": 101,
    "start_time": "2023-10-17T18:11:17.660Z"
   },
   {
    "duration": 252,
    "start_time": "2023-10-17T18:15:02.168Z"
   },
   {
    "duration": 255,
    "start_time": "2023-10-17T18:15:30.069Z"
   },
   {
    "duration": 252,
    "start_time": "2023-10-17T18:15:50.709Z"
   },
   {
    "duration": 104,
    "start_time": "2023-10-17T18:16:01.908Z"
   },
   {
    "duration": 1178,
    "start_time": "2023-10-17T18:19:52.502Z"
   },
   {
    "duration": 68,
    "start_time": "2023-10-17T18:19:53.682Z"
   },
   {
    "duration": 14,
    "start_time": "2023-10-17T18:19:53.752Z"
   },
   {
    "duration": 28,
    "start_time": "2023-10-17T18:19:53.768Z"
   },
   {
    "duration": 28,
    "start_time": "2023-10-17T18:19:53.798Z"
   },
   {
    "duration": 47,
    "start_time": "2023-10-17T18:19:53.828Z"
   },
   {
    "duration": 49,
    "start_time": "2023-10-17T18:19:53.876Z"
   },
   {
    "duration": 23,
    "start_time": "2023-10-17T18:19:53.927Z"
   },
   {
    "duration": 41,
    "start_time": "2023-10-17T18:19:53.952Z"
   },
   {
    "duration": 32,
    "start_time": "2023-10-17T18:19:53.997Z"
   },
   {
    "duration": 14,
    "start_time": "2023-10-17T18:19:54.031Z"
   },
   {
    "duration": 35,
    "start_time": "2023-10-17T18:19:54.048Z"
   },
   {
    "duration": 15,
    "start_time": "2023-10-17T18:19:54.085Z"
   },
   {
    "duration": 19,
    "start_time": "2023-10-17T18:19:54.102Z"
   },
   {
    "duration": 65,
    "start_time": "2023-10-17T18:19:54.123Z"
   },
   {
    "duration": 32,
    "start_time": "2023-10-17T18:19:54.189Z"
   },
   {
    "duration": 53,
    "start_time": "2023-10-17T18:19:54.223Z"
   },
   {
    "duration": 77,
    "start_time": "2023-10-17T18:19:54.278Z"
   },
   {
    "duration": 30,
    "start_time": "2023-10-17T18:19:54.356Z"
   },
   {
    "duration": 27,
    "start_time": "2023-10-17T18:19:54.388Z"
   },
   {
    "duration": 180,
    "start_time": "2023-10-17T18:19:54.418Z"
   },
   {
    "duration": 116,
    "start_time": "2023-10-17T18:19:54.602Z"
   },
   {
    "duration": 12,
    "start_time": "2023-10-17T18:19:54.720Z"
   },
   {
    "duration": 306,
    "start_time": "2023-10-17T18:19:54.734Z"
   },
   {
    "duration": 277,
    "start_time": "2023-10-17T18:19:55.042Z"
   },
   {
    "duration": 133,
    "start_time": "2023-10-17T18:19:55.321Z"
   },
   {
    "duration": 2,
    "start_time": "2023-10-17T18:19:55.456Z"
   },
   {
    "duration": 24,
    "start_time": "2023-10-17T18:19:55.462Z"
   },
   {
    "duration": 309,
    "start_time": "2023-10-17T18:19:55.488Z"
   },
   {
    "duration": 207,
    "start_time": "2023-10-17T18:19:55.801Z"
   },
   {
    "duration": 2,
    "start_time": "2023-10-17T18:19:56.010Z"
   },
   {
    "duration": 18,
    "start_time": "2023-10-17T18:19:56.014Z"
   },
   {
    "duration": 308,
    "start_time": "2023-10-17T18:19:56.034Z"
   },
   {
    "duration": 3,
    "start_time": "2023-10-17T18:19:56.344Z"
   },
   {
    "duration": 40,
    "start_time": "2023-10-17T18:19:56.349Z"
   },
   {
    "duration": 25,
    "start_time": "2023-10-17T18:19:56.391Z"
   },
   {
    "duration": 22,
    "start_time": "2023-10-17T18:19:56.418Z"
   },
   {
    "duration": 37,
    "start_time": "2023-10-17T18:19:56.442Z"
   },
   {
    "duration": 1035,
    "start_time": "2023-10-17T18:19:56.481Z"
   },
   {
    "duration": 28,
    "start_time": "2023-10-17T18:19:57.518Z"
   },
   {
    "duration": 146,
    "start_time": "2023-10-17T18:19:57.548Z"
   },
   {
    "duration": 103,
    "start_time": "2023-10-17T18:19:57.700Z"
   },
   {
    "duration": 7,
    "start_time": "2023-10-17T18:19:57.805Z"
   },
   {
    "duration": 107,
    "start_time": "2023-10-17T18:19:57.814Z"
   },
   {
    "duration": 73,
    "start_time": "2023-10-17T18:19:57.923Z"
   },
   {
    "duration": 15,
    "start_time": "2023-10-17T18:19:57.997Z"
   },
   {
    "duration": 336,
    "start_time": "2023-10-17T18:22:19.792Z"
   },
   {
    "duration": 258,
    "start_time": "2023-10-17T18:22:27.537Z"
   },
   {
    "duration": 4,
    "start_time": "2023-10-17T18:22:48.815Z"
   },
   {
    "duration": 1409,
    "start_time": "2023-10-18T07:35:27.105Z"
   },
   {
    "duration": 211,
    "start_time": "2023-10-18T07:35:28.517Z"
   },
   {
    "duration": 13,
    "start_time": "2023-10-18T07:35:28.730Z"
   },
   {
    "duration": 28,
    "start_time": "2023-10-18T07:35:28.746Z"
   },
   {
    "duration": 36,
    "start_time": "2023-10-18T07:35:28.776Z"
   },
   {
    "duration": 12,
    "start_time": "2023-10-18T07:35:28.814Z"
   },
   {
    "duration": 24,
    "start_time": "2023-10-18T07:35:28.828Z"
   },
   {
    "duration": 23,
    "start_time": "2023-10-18T07:35:28.855Z"
   },
   {
    "duration": 24,
    "start_time": "2023-10-18T07:35:28.880Z"
   },
   {
    "duration": 38,
    "start_time": "2023-10-18T07:35:28.907Z"
   },
   {
    "duration": 15,
    "start_time": "2023-10-18T07:35:28.946Z"
   },
   {
    "duration": 29,
    "start_time": "2023-10-18T07:35:28.962Z"
   },
   {
    "duration": 19,
    "start_time": "2023-10-18T07:35:28.993Z"
   },
   {
    "duration": 19,
    "start_time": "2023-10-18T07:35:29.014Z"
   },
   {
    "duration": 16,
    "start_time": "2023-10-18T07:35:29.035Z"
   },
   {
    "duration": 26,
    "start_time": "2023-10-18T07:35:29.053Z"
   },
   {
    "duration": 45,
    "start_time": "2023-10-18T07:35:29.080Z"
   },
   {
    "duration": 15,
    "start_time": "2023-10-18T07:35:29.127Z"
   },
   {
    "duration": 50,
    "start_time": "2023-10-18T07:35:29.144Z"
   },
   {
    "duration": 78,
    "start_time": "2023-10-18T07:35:29.196Z"
   },
   {
    "duration": 165,
    "start_time": "2023-10-18T07:35:29.276Z"
   },
   {
    "duration": 101,
    "start_time": "2023-10-18T07:35:29.443Z"
   },
   {
    "duration": 8,
    "start_time": "2023-10-18T07:35:29.546Z"
   },
   {
    "duration": 272,
    "start_time": "2023-10-18T07:35:29.556Z"
   },
   {
    "duration": 269,
    "start_time": "2023-10-18T07:35:29.830Z"
   },
   {
    "duration": 114,
    "start_time": "2023-10-18T07:35:30.101Z"
   },
   {
    "duration": 7,
    "start_time": "2023-10-18T07:35:30.217Z"
   },
   {
    "duration": 38,
    "start_time": "2023-10-18T07:35:30.229Z"
   },
   {
    "duration": 377,
    "start_time": "2023-10-18T07:35:30.270Z"
   },
   {
    "duration": 200,
    "start_time": "2023-10-18T07:35:30.649Z"
   },
   {
    "duration": 3,
    "start_time": "2023-10-18T07:35:30.851Z"
   },
   {
    "duration": 238,
    "start_time": "2023-10-18T07:35:30.855Z"
   },
   {
    "duration": 359,
    "start_time": "2023-10-18T07:35:31.094Z"
   },
   {
    "duration": 19,
    "start_time": "2023-10-18T07:35:31.455Z"
   },
   {
    "duration": 85,
    "start_time": "2023-10-18T07:35:31.476Z"
   },
   {
    "duration": 164,
    "start_time": "2023-10-18T07:35:31.565Z"
   },
   {
    "duration": 343,
    "start_time": "2023-10-18T07:35:31.731Z"
   },
   {
    "duration": 1153,
    "start_time": "2023-10-18T07:35:32.075Z"
   },
   {
    "duration": 36,
    "start_time": "2023-10-18T07:35:33.230Z"
   },
   {
    "duration": 415,
    "start_time": "2023-10-18T07:35:33.268Z"
   },
   {
    "duration": 8,
    "start_time": "2023-10-18T07:35:33.685Z"
   },
   {
    "duration": 53,
    "start_time": "2023-10-18T07:35:33.695Z"
   },
   {
    "duration": 141,
    "start_time": "2023-10-18T07:35:33.750Z"
   },
   {
    "duration": 16,
    "start_time": "2023-10-18T07:35:33.893Z"
   },
   {
    "duration": 52,
    "start_time": "2023-10-18T07:35:33.910Z"
   },
   {
    "duration": 18,
    "start_time": "2023-10-18T07:39:06.045Z"
   },
   {
    "duration": 18,
    "start_time": "2023-10-18T07:39:23.161Z"
   },
   {
    "duration": 23,
    "start_time": "2023-10-18T07:39:40.918Z"
   },
   {
    "duration": 17,
    "start_time": "2023-10-18T07:40:00.560Z"
   },
   {
    "duration": 94,
    "start_time": "2023-10-18T07:42:46.068Z"
   },
   {
    "duration": 4,
    "start_time": "2023-10-18T07:42:50.061Z"
   },
   {
    "duration": 4,
    "start_time": "2023-10-18T07:43:17.886Z"
   },
   {
    "duration": 5,
    "start_time": "2023-10-18T07:43:32.835Z"
   },
   {
    "duration": 3,
    "start_time": "2023-10-18T07:44:01.203Z"
   },
   {
    "duration": 4,
    "start_time": "2023-10-18T07:44:40.535Z"
   },
   {
    "duration": 1019,
    "start_time": "2023-10-18T07:47:56.896Z"
   },
   {
    "duration": 1119,
    "start_time": "2023-10-18T07:48:46.898Z"
   },
   {
    "duration": 8,
    "start_time": "2023-10-18T07:50:38.140Z"
   },
   {
    "duration": 33,
    "start_time": "2023-10-18T07:52:08.426Z"
   },
   {
    "duration": 1443,
    "start_time": "2023-10-18T08:03:31.790Z"
   },
   {
    "duration": 19,
    "start_time": "2023-10-18T08:04:18.689Z"
   },
   {
    "duration": 131,
    "start_time": "2023-10-18T08:05:44.586Z"
   },
   {
    "duration": 22,
    "start_time": "2023-10-18T08:05:53.750Z"
   },
   {
    "duration": 8,
    "start_time": "2023-10-18T08:06:04.293Z"
   },
   {
    "duration": 6,
    "start_time": "2023-10-18T08:06:14.770Z"
   },
   {
    "duration": 4,
    "start_time": "2023-10-18T08:11:35.097Z"
   },
   {
    "duration": 8,
    "start_time": "2023-10-18T08:12:03.214Z"
   },
   {
    "duration": 10,
    "start_time": "2023-10-18T08:12:37.373Z"
   },
   {
    "duration": 12,
    "start_time": "2023-10-18T08:13:18.767Z"
   },
   {
    "duration": 7,
    "start_time": "2023-10-18T08:13:42.123Z"
   },
   {
    "duration": 289,
    "start_time": "2023-10-18T08:37:08.737Z"
   },
   {
    "duration": 1039,
    "start_time": "2023-10-18T20:36:22.829Z"
   },
   {
    "duration": 198,
    "start_time": "2023-10-18T20:36:23.870Z"
   },
   {
    "duration": 12,
    "start_time": "2023-10-18T20:36:24.070Z"
   },
   {
    "duration": 47,
    "start_time": "2023-10-18T20:36:24.084Z"
   },
   {
    "duration": 26,
    "start_time": "2023-10-18T20:36:24.133Z"
   },
   {
    "duration": 42,
    "start_time": "2023-10-18T20:36:24.161Z"
   },
   {
    "duration": 85,
    "start_time": "2023-10-18T20:36:24.205Z"
   },
   {
    "duration": 52,
    "start_time": "2023-10-18T20:36:24.292Z"
   },
   {
    "duration": 53,
    "start_time": "2023-10-18T20:36:24.345Z"
   },
   {
    "duration": 22,
    "start_time": "2023-10-18T20:36:24.400Z"
   },
   {
    "duration": 11,
    "start_time": "2023-10-18T20:36:24.424Z"
   },
   {
    "duration": 50,
    "start_time": "2023-10-18T20:36:24.436Z"
   },
   {
    "duration": 34,
    "start_time": "2023-10-18T20:36:24.488Z"
   },
   {
    "duration": 59,
    "start_time": "2023-10-18T20:36:24.527Z"
   },
   {
    "duration": 14,
    "start_time": "2023-10-18T20:36:24.588Z"
   },
   {
    "duration": 30,
    "start_time": "2023-10-18T20:36:24.604Z"
   },
   {
    "duration": 49,
    "start_time": "2023-10-18T20:36:24.636Z"
   },
   {
    "duration": 42,
    "start_time": "2023-10-18T20:36:24.687Z"
   },
   {
    "duration": 56,
    "start_time": "2023-10-18T20:36:24.731Z"
   },
   {
    "duration": 78,
    "start_time": "2023-10-18T20:36:24.789Z"
   },
   {
    "duration": 180,
    "start_time": "2023-10-18T20:36:24.869Z"
   },
   {
    "duration": 80,
    "start_time": "2023-10-18T20:36:25.051Z"
   },
   {
    "duration": 22,
    "start_time": "2023-10-18T20:36:25.132Z"
   },
   {
    "duration": 280,
    "start_time": "2023-10-18T20:36:25.155Z"
   },
   {
    "duration": 270,
    "start_time": "2023-10-18T20:36:25.437Z"
   },
   {
    "duration": 109,
    "start_time": "2023-10-18T20:36:25.708Z"
   },
   {
    "duration": 2,
    "start_time": "2023-10-18T20:36:25.818Z"
   },
   {
    "duration": 6,
    "start_time": "2023-10-18T20:36:25.822Z"
   },
   {
    "duration": 273,
    "start_time": "2023-10-18T20:36:25.830Z"
   },
   {
    "duration": 178,
    "start_time": "2023-10-18T20:36:26.104Z"
   },
   {
    "duration": 2,
    "start_time": "2023-10-18T20:36:26.284Z"
   },
   {
    "duration": 15,
    "start_time": "2023-10-18T20:36:26.288Z"
   },
   {
    "duration": 15,
    "start_time": "2023-10-18T20:36:26.305Z"
   },
   {
    "duration": 13,
    "start_time": "2023-10-18T20:36:26.322Z"
   },
   {
    "duration": 25,
    "start_time": "2023-10-18T20:36:26.337Z"
   },
   {
    "duration": 4,
    "start_time": "2023-10-18T20:36:26.364Z"
   },
   {
    "duration": 7,
    "start_time": "2023-10-18T20:36:26.370Z"
   },
   {
    "duration": 26,
    "start_time": "2023-10-18T20:36:26.379Z"
   },
   {
    "duration": 4,
    "start_time": "2023-10-18T20:36:26.406Z"
   },
   {
    "duration": 35,
    "start_time": "2023-10-18T20:36:26.411Z"
   },
   {
    "duration": 24,
    "start_time": "2023-10-18T20:36:26.449Z"
   },
   {
    "duration": 1013,
    "start_time": "2023-10-18T20:36:26.475Z"
   },
   {
    "duration": 101,
    "start_time": "2023-10-18T20:36:27.490Z"
   },
   {
    "duration": 0,
    "start_time": "2023-10-18T20:36:27.593Z"
   },
   {
    "duration": 0,
    "start_time": "2023-10-18T20:36:27.601Z"
   },
   {
    "duration": 0,
    "start_time": "2023-10-18T20:36:27.603Z"
   },
   {
    "duration": 0,
    "start_time": "2023-10-18T20:36:27.604Z"
   },
   {
    "duration": 0,
    "start_time": "2023-10-18T20:36:27.606Z"
   },
   {
    "duration": 0,
    "start_time": "2023-10-18T20:36:27.607Z"
   },
   {
    "duration": 35,
    "start_time": "2023-10-18T20:41:39.648Z"
   },
   {
    "duration": 131,
    "start_time": "2023-10-18T20:41:39.791Z"
   },
   {
    "duration": 9,
    "start_time": "2023-10-18T20:41:40.732Z"
   },
   {
    "duration": 6,
    "start_time": "2023-10-18T20:41:41.148Z"
   },
   {
    "duration": 8,
    "start_time": "2023-10-18T20:41:41.578Z"
   },
   {
    "duration": 8,
    "start_time": "2023-10-18T20:41:41.704Z"
   }
  ],
  "kernelspec": {
   "display_name": "Python 3 (ipykernel)",
   "language": "python",
   "name": "python3"
  },
  "language_info": {
   "codemirror_mode": {
    "name": "ipython",
    "version": 3
   },
   "file_extension": ".py",
   "mimetype": "text/x-python",
   "name": "python",
   "nbconvert_exporter": "python",
   "pygments_lexer": "ipython3",
   "version": "3.11.4"
  },
  "toc": {
   "base_numbering": 1,
   "nav_menu": {},
   "number_sections": true,
   "sideBar": true,
   "skip_h1_title": true,
   "title_cell": "Table of Contents",
   "title_sidebar": "Contents",
   "toc_cell": false,
   "toc_position": {},
   "toc_section_display": true,
   "toc_window_display": true
  }
 },
 "nbformat": 4,
 "nbformat_minor": 5
}
