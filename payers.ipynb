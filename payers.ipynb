{
 "cells": [
  {
   "cell_type": "markdown",
   "id": "386f2ae7",
   "metadata": {
    "deletable": false,
    "editable": false,
    "id": "386f2ae7"
   },
   "source": [
    "# Исследование надежности заемщиков\n"
   ]
  },
  {
   "cell_type": "markdown",
   "id": "ffe86f65",
   "metadata": {
    "deletable": false,
    "editable": false,
    "id": "ffe86f65"
   },
   "source": [
    "Во второй части проекта вы выполните шаги 3 и 4. Их вручную проверит ревьюер.\n",
    "Чтобы вам не пришлось писать код заново для шагов 1 и 2, мы добавили авторские решения в ячейки с кодом. \n",
    "\n"
   ]
  },
  {
   "cell_type": "markdown",
   "id": "26613308",
   "metadata": {
    "deletable": false,
    "editable": false,
    "id": "26613308"
   },
   "source": [
    "## Откройте таблицу и изучите общую информацию о данных"
   ]
  },
  {
   "cell_type": "markdown",
   "id": "3c9f838e",
   "metadata": {
    "deletable": false,
    "editable": false,
    "id": "3c9f838e"
   },
   "source": [
    "**Задание 1. Импортируйте библиотеку pandas. Считайте данные из csv-файла в датафрейм и сохраните в переменную `data`. Путь к файлу:**\n",
    "\n",
    "`/datasets/data.csv`"
   ]
  },
  {
   "cell_type": "code",
   "execution_count": 1,
   "id": "77a68a90",
   "metadata": {
    "deletable": false,
    "id": "77a68a90"
   },
   "outputs": [],
   "source": [
    "import pandas as pd\n",
    "\n",
    "try:\n",
    "    data = pd.read_csv('/datasets/data.csv')\n",
    "except:\n",
    "    data = pd.read_csv('https://code.s3.yandex.net/datasets/data.csv')"
   ]
  },
  {
   "cell_type": "markdown",
   "id": "45365635",
   "metadata": {
    "deletable": false,
    "editable": false,
    "id": "45365635"
   },
   "source": [
    "**Задание 2. Выведите первые 20 строчек датафрейма `data` на экран.**"
   ]
  },
  {
   "cell_type": "code",
   "execution_count": 2,
   "id": "b0451a9a",
   "metadata": {
    "deletable": false,
    "id": "b0451a9a",
    "outputId": "1a8f3ef2-d323-4ec2-ddf7-89670b5944c4"
   },
   "outputs": [
    {
     "data": {
      "text/html": [
       "<div>\n",
       "<style scoped>\n",
       "    .dataframe tbody tr th:only-of-type {\n",
       "        vertical-align: middle;\n",
       "    }\n",
       "\n",
       "    .dataframe tbody tr th {\n",
       "        vertical-align: top;\n",
       "    }\n",
       "\n",
       "    .dataframe thead th {\n",
       "        text-align: right;\n",
       "    }\n",
       "</style>\n",
       "<table border=\"1\" class=\"dataframe\">\n",
       "  <thead>\n",
       "    <tr style=\"text-align: right;\">\n",
       "      <th></th>\n",
       "      <th>children</th>\n",
       "      <th>days_employed</th>\n",
       "      <th>dob_years</th>\n",
       "      <th>education</th>\n",
       "      <th>education_id</th>\n",
       "      <th>family_status</th>\n",
       "      <th>family_status_id</th>\n",
       "      <th>gender</th>\n",
       "      <th>income_type</th>\n",
       "      <th>debt</th>\n",
       "      <th>total_income</th>\n",
       "      <th>purpose</th>\n",
       "    </tr>\n",
       "  </thead>\n",
       "  <tbody>\n",
       "    <tr>\n",
       "      <th>0</th>\n",
       "      <td>1</td>\n",
       "      <td>-8437.673028</td>\n",
       "      <td>42</td>\n",
       "      <td>высшее</td>\n",
       "      <td>0</td>\n",
       "      <td>женат / замужем</td>\n",
       "      <td>0</td>\n",
       "      <td>F</td>\n",
       "      <td>сотрудник</td>\n",
       "      <td>0</td>\n",
       "      <td>253875.639453</td>\n",
       "      <td>покупка жилья</td>\n",
       "    </tr>\n",
       "    <tr>\n",
       "      <th>1</th>\n",
       "      <td>1</td>\n",
       "      <td>-4024.803754</td>\n",
       "      <td>36</td>\n",
       "      <td>среднее</td>\n",
       "      <td>1</td>\n",
       "      <td>женат / замужем</td>\n",
       "      <td>0</td>\n",
       "      <td>F</td>\n",
       "      <td>сотрудник</td>\n",
       "      <td>0</td>\n",
       "      <td>112080.014102</td>\n",
       "      <td>приобретение автомобиля</td>\n",
       "    </tr>\n",
       "    <tr>\n",
       "      <th>2</th>\n",
       "      <td>0</td>\n",
       "      <td>-5623.422610</td>\n",
       "      <td>33</td>\n",
       "      <td>Среднее</td>\n",
       "      <td>1</td>\n",
       "      <td>женат / замужем</td>\n",
       "      <td>0</td>\n",
       "      <td>M</td>\n",
       "      <td>сотрудник</td>\n",
       "      <td>0</td>\n",
       "      <td>145885.952297</td>\n",
       "      <td>покупка жилья</td>\n",
       "    </tr>\n",
       "    <tr>\n",
       "      <th>3</th>\n",
       "      <td>3</td>\n",
       "      <td>-4124.747207</td>\n",
       "      <td>32</td>\n",
       "      <td>среднее</td>\n",
       "      <td>1</td>\n",
       "      <td>женат / замужем</td>\n",
       "      <td>0</td>\n",
       "      <td>M</td>\n",
       "      <td>сотрудник</td>\n",
       "      <td>0</td>\n",
       "      <td>267628.550329</td>\n",
       "      <td>дополнительное образование</td>\n",
       "    </tr>\n",
       "    <tr>\n",
       "      <th>4</th>\n",
       "      <td>0</td>\n",
       "      <td>340266.072047</td>\n",
       "      <td>53</td>\n",
       "      <td>среднее</td>\n",
       "      <td>1</td>\n",
       "      <td>гражданский брак</td>\n",
       "      <td>1</td>\n",
       "      <td>F</td>\n",
       "      <td>пенсионер</td>\n",
       "      <td>0</td>\n",
       "      <td>158616.077870</td>\n",
       "      <td>сыграть свадьбу</td>\n",
       "    </tr>\n",
       "    <tr>\n",
       "      <th>5</th>\n",
       "      <td>0</td>\n",
       "      <td>-926.185831</td>\n",
       "      <td>27</td>\n",
       "      <td>высшее</td>\n",
       "      <td>0</td>\n",
       "      <td>гражданский брак</td>\n",
       "      <td>1</td>\n",
       "      <td>M</td>\n",
       "      <td>компаньон</td>\n",
       "      <td>0</td>\n",
       "      <td>255763.565419</td>\n",
       "      <td>покупка жилья</td>\n",
       "    </tr>\n",
       "    <tr>\n",
       "      <th>6</th>\n",
       "      <td>0</td>\n",
       "      <td>-2879.202052</td>\n",
       "      <td>43</td>\n",
       "      <td>высшее</td>\n",
       "      <td>0</td>\n",
       "      <td>женат / замужем</td>\n",
       "      <td>0</td>\n",
       "      <td>F</td>\n",
       "      <td>компаньон</td>\n",
       "      <td>0</td>\n",
       "      <td>240525.971920</td>\n",
       "      <td>операции с жильем</td>\n",
       "    </tr>\n",
       "    <tr>\n",
       "      <th>7</th>\n",
       "      <td>0</td>\n",
       "      <td>-152.779569</td>\n",
       "      <td>50</td>\n",
       "      <td>СРЕДНЕЕ</td>\n",
       "      <td>1</td>\n",
       "      <td>женат / замужем</td>\n",
       "      <td>0</td>\n",
       "      <td>M</td>\n",
       "      <td>сотрудник</td>\n",
       "      <td>0</td>\n",
       "      <td>135823.934197</td>\n",
       "      <td>образование</td>\n",
       "    </tr>\n",
       "    <tr>\n",
       "      <th>8</th>\n",
       "      <td>2</td>\n",
       "      <td>-6929.865299</td>\n",
       "      <td>35</td>\n",
       "      <td>ВЫСШЕЕ</td>\n",
       "      <td>0</td>\n",
       "      <td>гражданский брак</td>\n",
       "      <td>1</td>\n",
       "      <td>F</td>\n",
       "      <td>сотрудник</td>\n",
       "      <td>0</td>\n",
       "      <td>95856.832424</td>\n",
       "      <td>на проведение свадьбы</td>\n",
       "    </tr>\n",
       "    <tr>\n",
       "      <th>9</th>\n",
       "      <td>0</td>\n",
       "      <td>-2188.756445</td>\n",
       "      <td>41</td>\n",
       "      <td>среднее</td>\n",
       "      <td>1</td>\n",
       "      <td>женат / замужем</td>\n",
       "      <td>0</td>\n",
       "      <td>M</td>\n",
       "      <td>сотрудник</td>\n",
       "      <td>0</td>\n",
       "      <td>144425.938277</td>\n",
       "      <td>покупка жилья для семьи</td>\n",
       "    </tr>\n",
       "    <tr>\n",
       "      <th>10</th>\n",
       "      <td>2</td>\n",
       "      <td>-4171.483647</td>\n",
       "      <td>36</td>\n",
       "      <td>высшее</td>\n",
       "      <td>0</td>\n",
       "      <td>женат / замужем</td>\n",
       "      <td>0</td>\n",
       "      <td>M</td>\n",
       "      <td>компаньон</td>\n",
       "      <td>0</td>\n",
       "      <td>113943.491460</td>\n",
       "      <td>покупка недвижимости</td>\n",
       "    </tr>\n",
       "    <tr>\n",
       "      <th>11</th>\n",
       "      <td>0</td>\n",
       "      <td>-792.701887</td>\n",
       "      <td>40</td>\n",
       "      <td>среднее</td>\n",
       "      <td>1</td>\n",
       "      <td>женат / замужем</td>\n",
       "      <td>0</td>\n",
       "      <td>F</td>\n",
       "      <td>сотрудник</td>\n",
       "      <td>0</td>\n",
       "      <td>77069.234271</td>\n",
       "      <td>покупка коммерческой недвижимости</td>\n",
       "    </tr>\n",
       "    <tr>\n",
       "      <th>12</th>\n",
       "      <td>0</td>\n",
       "      <td>NaN</td>\n",
       "      <td>65</td>\n",
       "      <td>среднее</td>\n",
       "      <td>1</td>\n",
       "      <td>гражданский брак</td>\n",
       "      <td>1</td>\n",
       "      <td>M</td>\n",
       "      <td>пенсионер</td>\n",
       "      <td>0</td>\n",
       "      <td>NaN</td>\n",
       "      <td>сыграть свадьбу</td>\n",
       "    </tr>\n",
       "    <tr>\n",
       "      <th>13</th>\n",
       "      <td>0</td>\n",
       "      <td>-1846.641941</td>\n",
       "      <td>54</td>\n",
       "      <td>неоконченное высшее</td>\n",
       "      <td>2</td>\n",
       "      <td>женат / замужем</td>\n",
       "      <td>0</td>\n",
       "      <td>F</td>\n",
       "      <td>сотрудник</td>\n",
       "      <td>0</td>\n",
       "      <td>130458.228857</td>\n",
       "      <td>приобретение автомобиля</td>\n",
       "    </tr>\n",
       "    <tr>\n",
       "      <th>14</th>\n",
       "      <td>0</td>\n",
       "      <td>-1844.956182</td>\n",
       "      <td>56</td>\n",
       "      <td>высшее</td>\n",
       "      <td>0</td>\n",
       "      <td>гражданский брак</td>\n",
       "      <td>1</td>\n",
       "      <td>F</td>\n",
       "      <td>компаньон</td>\n",
       "      <td>1</td>\n",
       "      <td>165127.911772</td>\n",
       "      <td>покупка жилой недвижимости</td>\n",
       "    </tr>\n",
       "    <tr>\n",
       "      <th>15</th>\n",
       "      <td>1</td>\n",
       "      <td>-972.364419</td>\n",
       "      <td>26</td>\n",
       "      <td>среднее</td>\n",
       "      <td>1</td>\n",
       "      <td>женат / замужем</td>\n",
       "      <td>0</td>\n",
       "      <td>F</td>\n",
       "      <td>сотрудник</td>\n",
       "      <td>0</td>\n",
       "      <td>116820.904450</td>\n",
       "      <td>строительство собственной недвижимости</td>\n",
       "    </tr>\n",
       "    <tr>\n",
       "      <th>16</th>\n",
       "      <td>0</td>\n",
       "      <td>-1719.934226</td>\n",
       "      <td>35</td>\n",
       "      <td>среднее</td>\n",
       "      <td>1</td>\n",
       "      <td>женат / замужем</td>\n",
       "      <td>0</td>\n",
       "      <td>F</td>\n",
       "      <td>сотрудник</td>\n",
       "      <td>0</td>\n",
       "      <td>289202.704229</td>\n",
       "      <td>недвижимость</td>\n",
       "    </tr>\n",
       "    <tr>\n",
       "      <th>17</th>\n",
       "      <td>0</td>\n",
       "      <td>-2369.999720</td>\n",
       "      <td>33</td>\n",
       "      <td>высшее</td>\n",
       "      <td>0</td>\n",
       "      <td>гражданский брак</td>\n",
       "      <td>1</td>\n",
       "      <td>M</td>\n",
       "      <td>сотрудник</td>\n",
       "      <td>0</td>\n",
       "      <td>90410.586745</td>\n",
       "      <td>строительство недвижимости</td>\n",
       "    </tr>\n",
       "    <tr>\n",
       "      <th>18</th>\n",
       "      <td>0</td>\n",
       "      <td>400281.136913</td>\n",
       "      <td>53</td>\n",
       "      <td>среднее</td>\n",
       "      <td>1</td>\n",
       "      <td>вдовец / вдова</td>\n",
       "      <td>2</td>\n",
       "      <td>F</td>\n",
       "      <td>пенсионер</td>\n",
       "      <td>0</td>\n",
       "      <td>56823.777243</td>\n",
       "      <td>на покупку подержанного автомобиля</td>\n",
       "    </tr>\n",
       "    <tr>\n",
       "      <th>19</th>\n",
       "      <td>0</td>\n",
       "      <td>-10038.818549</td>\n",
       "      <td>48</td>\n",
       "      <td>СРЕДНЕЕ</td>\n",
       "      <td>1</td>\n",
       "      <td>в разводе</td>\n",
       "      <td>3</td>\n",
       "      <td>F</td>\n",
       "      <td>сотрудник</td>\n",
       "      <td>0</td>\n",
       "      <td>242831.107982</td>\n",
       "      <td>на покупку своего автомобиля</td>\n",
       "    </tr>\n",
       "  </tbody>\n",
       "</table>\n",
       "</div>"
      ],
      "text/plain": [
       "    children  days_employed  dob_years            education  education_id  \\\n",
       "0          1   -8437.673028         42               высшее             0   \n",
       "1          1   -4024.803754         36              среднее             1   \n",
       "2          0   -5623.422610         33              Среднее             1   \n",
       "3          3   -4124.747207         32              среднее             1   \n",
       "4          0  340266.072047         53              среднее             1   \n",
       "5          0    -926.185831         27               высшее             0   \n",
       "6          0   -2879.202052         43               высшее             0   \n",
       "7          0    -152.779569         50              СРЕДНЕЕ             1   \n",
       "8          2   -6929.865299         35               ВЫСШЕЕ             0   \n",
       "9          0   -2188.756445         41              среднее             1   \n",
       "10         2   -4171.483647         36               высшее             0   \n",
       "11         0    -792.701887         40              среднее             1   \n",
       "12         0            NaN         65              среднее             1   \n",
       "13         0   -1846.641941         54  неоконченное высшее             2   \n",
       "14         0   -1844.956182         56               высшее             0   \n",
       "15         1    -972.364419         26              среднее             1   \n",
       "16         0   -1719.934226         35              среднее             1   \n",
       "17         0   -2369.999720         33               высшее             0   \n",
       "18         0  400281.136913         53              среднее             1   \n",
       "19         0  -10038.818549         48              СРЕДНЕЕ             1   \n",
       "\n",
       "       family_status  family_status_id gender income_type  debt  \\\n",
       "0    женат / замужем                 0      F   сотрудник     0   \n",
       "1    женат / замужем                 0      F   сотрудник     0   \n",
       "2    женат / замужем                 0      M   сотрудник     0   \n",
       "3    женат / замужем                 0      M   сотрудник     0   \n",
       "4   гражданский брак                 1      F   пенсионер     0   \n",
       "5   гражданский брак                 1      M   компаньон     0   \n",
       "6    женат / замужем                 0      F   компаньон     0   \n",
       "7    женат / замужем                 0      M   сотрудник     0   \n",
       "8   гражданский брак                 1      F   сотрудник     0   \n",
       "9    женат / замужем                 0      M   сотрудник     0   \n",
       "10   женат / замужем                 0      M   компаньон     0   \n",
       "11   женат / замужем                 0      F   сотрудник     0   \n",
       "12  гражданский брак                 1      M   пенсионер     0   \n",
       "13   женат / замужем                 0      F   сотрудник     0   \n",
       "14  гражданский брак                 1      F   компаньон     1   \n",
       "15   женат / замужем                 0      F   сотрудник     0   \n",
       "16   женат / замужем                 0      F   сотрудник     0   \n",
       "17  гражданский брак                 1      M   сотрудник     0   \n",
       "18    вдовец / вдова                 2      F   пенсионер     0   \n",
       "19         в разводе                 3      F   сотрудник     0   \n",
       "\n",
       "     total_income                                 purpose  \n",
       "0   253875.639453                           покупка жилья  \n",
       "1   112080.014102                 приобретение автомобиля  \n",
       "2   145885.952297                           покупка жилья  \n",
       "3   267628.550329              дополнительное образование  \n",
       "4   158616.077870                         сыграть свадьбу  \n",
       "5   255763.565419                           покупка жилья  \n",
       "6   240525.971920                       операции с жильем  \n",
       "7   135823.934197                             образование  \n",
       "8    95856.832424                   на проведение свадьбы  \n",
       "9   144425.938277                 покупка жилья для семьи  \n",
       "10  113943.491460                    покупка недвижимости  \n",
       "11   77069.234271       покупка коммерческой недвижимости  \n",
       "12            NaN                         сыграть свадьбу  \n",
       "13  130458.228857                 приобретение автомобиля  \n",
       "14  165127.911772              покупка жилой недвижимости  \n",
       "15  116820.904450  строительство собственной недвижимости  \n",
       "16  289202.704229                            недвижимость  \n",
       "17   90410.586745              строительство недвижимости  \n",
       "18   56823.777243      на покупку подержанного автомобиля  \n",
       "19  242831.107982            на покупку своего автомобиля  "
      ]
     },
     "execution_count": 2,
     "metadata": {},
     "output_type": "execute_result"
    }
   ],
   "source": [
    "data.head(20)"
   ]
  },
  {
   "cell_type": "markdown",
   "id": "0ed8f27f",
   "metadata": {
    "deletable": false,
    "editable": false,
    "id": "0ed8f27f"
   },
   "source": [
    "**Задание 3. Выведите основную информацию о датафрейме с помощью метода `info()`.**"
   ]
  },
  {
   "cell_type": "code",
   "execution_count": 3,
   "id": "ab3f863b",
   "metadata": {
    "deletable": false,
    "id": "ab3f863b",
    "outputId": "15376089-8dad-46c9-b520-c05248d43158"
   },
   "outputs": [
    {
     "name": "stdout",
     "output_type": "stream",
     "text": [
      "<class 'pandas.core.frame.DataFrame'>\n",
      "RangeIndex: 21525 entries, 0 to 21524\n",
      "Data columns (total 12 columns):\n",
      " #   Column            Non-Null Count  Dtype  \n",
      "---  ------            --------------  -----  \n",
      " 0   children          21525 non-null  int64  \n",
      " 1   days_employed     19351 non-null  float64\n",
      " 2   dob_years         21525 non-null  int64  \n",
      " 3   education         21525 non-null  object \n",
      " 4   education_id      21525 non-null  int64  \n",
      " 5   family_status     21525 non-null  object \n",
      " 6   family_status_id  21525 non-null  int64  \n",
      " 7   gender            21525 non-null  object \n",
      " 8   income_type       21525 non-null  object \n",
      " 9   debt              21525 non-null  int64  \n",
      " 10  total_income      19351 non-null  float64\n",
      " 11  purpose           21525 non-null  object \n",
      "dtypes: float64(2), int64(5), object(5)\n",
      "memory usage: 2.0+ MB\n"
     ]
    }
   ],
   "source": [
    "data.info()"
   ]
  },
  {
   "cell_type": "markdown",
   "id": "60e3e22d",
   "metadata": {
    "deletable": false,
    "editable": false,
    "id": "60e3e22d"
   },
   "source": [
    "## Предобработка данных"
   ]
  },
  {
   "cell_type": "markdown",
   "id": "03dc170c",
   "metadata": {
    "deletable": false,
    "editable": false,
    "id": "03dc170c"
   },
   "source": [
    "### Удаление пропусков"
   ]
  },
  {
   "cell_type": "markdown",
   "id": "a4f54eef",
   "metadata": {
    "deletable": false,
    "editable": false,
    "id": "a4f54eef"
   },
   "source": [
    "**Задание 4. Выведите количество пропущенных значений для каждого столбца. Используйте комбинацию двух методов.**"
   ]
  },
  {
   "cell_type": "code",
   "execution_count": 4,
   "id": "2dc372b2",
   "metadata": {
    "deletable": false,
    "id": "2dc372b2",
    "outputId": "81f4d817-781c-465c-ed15-91ce4446810d"
   },
   "outputs": [
    {
     "data": {
      "text/plain": [
       "children               0\n",
       "days_employed       2174\n",
       "dob_years              0\n",
       "education              0\n",
       "education_id           0\n",
       "family_status          0\n",
       "family_status_id       0\n",
       "gender                 0\n",
       "income_type            0\n",
       "debt                   0\n",
       "total_income        2174\n",
       "purpose                0\n",
       "dtype: int64"
      ]
     },
     "execution_count": 4,
     "metadata": {},
     "output_type": "execute_result"
    }
   ],
   "source": [
    "data.isna().sum()"
   ]
  },
  {
   "cell_type": "markdown",
   "id": "14f011b1",
   "metadata": {
    "deletable": false,
    "editable": false,
    "id": "14f011b1"
   },
   "source": [
    "**Задание 5. В двух столбцах есть пропущенные значения. Один из них — `days_employed`. Пропуски в этом столбце вы обработаете на следующем этапе. Другой столбец с пропущенными значениями — `total_income` — хранит данные о доходах. На сумму дохода сильнее всего влияет тип занятости, поэтому заполнить пропуски в этом столбце нужно медианным значением по каждому типу из столбца `income_type`. Например, у человека с типом занятости `сотрудник` пропуск в столбце `total_income` должен быть заполнен медианным доходом среди всех записей с тем же типом.**"
   ]
  },
  {
   "cell_type": "code",
   "execution_count": 5,
   "id": "bdabfb6e",
   "metadata": {
    "deletable": false,
    "id": "bdabfb6e"
   },
   "outputs": [],
   "source": [
    "for t in data['income_type'].unique():\n",
    "    data.loc[(data['income_type'] == t) & (data['total_income'].isna()), 'total_income'] = \\\n",
    "    data.loc[(data['income_type'] == t), 'total_income'].median()"
   ]
  },
  {
   "cell_type": "markdown",
   "id": "5be34059",
   "metadata": {
    "deletable": false,
    "editable": false,
    "id": "5be34059"
   },
   "source": [
    "### Обработка аномальных значений"
   ]
  },
  {
   "cell_type": "markdown",
   "id": "a87606cb",
   "metadata": {
    "deletable": false,
    "editable": false,
    "id": "a87606cb"
   },
   "source": [
    "**Задание 6. В данных могут встречаться артефакты (аномалии) — значения, которые не отражают действительность и появились по какой-то ошибке. таким артефактом будет отрицательное количество дней трудового стажа в столбце `days_employed`. Для реальных данных это нормально. Обработайте значения в этом столбце: замените все отрицательные значения положительными с помощью метода `abs()`.**"
   ]
  },
  {
   "cell_type": "code",
   "execution_count": 6,
   "id": "020c46cc",
   "metadata": {
    "deletable": false,
    "id": "020c46cc"
   },
   "outputs": [],
   "source": [
    "data['days_employed'] = data['days_employed'].abs()"
   ]
  },
  {
   "cell_type": "markdown",
   "id": "45538a3a",
   "metadata": {
    "deletable": false,
    "editable": false,
    "id": "45538a3a"
   },
   "source": [
    "**Задание 7. Для каждого типа занятости выведите медианное значение трудового стажа `days_employed` в днях.**"
   ]
  },
  {
   "cell_type": "code",
   "execution_count": 7,
   "id": "cd3e6328",
   "metadata": {
    "deletable": false,
    "id": "cd3e6328",
    "outputId": "801ef80e-522b-4668-f34e-565af7432bcf"
   },
   "outputs": [
    {
     "data": {
      "text/plain": [
       "income_type\n",
       "безработный        366413.652744\n",
       "в декрете            3296.759962\n",
       "госслужащий          2689.368353\n",
       "компаньон            1547.382223\n",
       "пенсионер          365213.306266\n",
       "предприниматель       520.848083\n",
       "сотрудник            1574.202821\n",
       "студент               578.751554\n",
       "Name: days_employed, dtype: float64"
      ]
     },
     "execution_count": 7,
     "metadata": {},
     "output_type": "execute_result"
    }
   ],
   "source": [
    "data.groupby('income_type')['days_employed'].agg('median')"
   ]
  },
  {
   "cell_type": "markdown",
   "id": "90c5f058",
   "metadata": {
    "deletable": false,
    "editable": false,
    "id": "90c5f058"
   },
   "source": [
    "У двух типов (безработные и пенсионеры) получатся аномально большие значения. Исправить такие значения сложно, поэтому оставьте их как есть."
   ]
  },
  {
   "cell_type": "markdown",
   "id": "9652e50d",
   "metadata": {
    "deletable": false,
    "editable": false,
    "id": "9652e50d"
   },
   "source": [
    "**Задание 8. Выведите перечень уникальных значений столбца `children`.**"
   ]
  },
  {
   "cell_type": "code",
   "execution_count": 8,
   "id": "dbb37b8e",
   "metadata": {
    "deletable": false,
    "id": "dbb37b8e",
    "outputId": "6975b15c-7f95-4697-d16d-a0c79b657b03"
   },
   "outputs": [
    {
     "data": {
      "text/plain": [
       "array([ 1,  0,  3,  2, -1,  4, 20,  5])"
      ]
     },
     "execution_count": 8,
     "metadata": {},
     "output_type": "execute_result"
    }
   ],
   "source": [
    "data['children'].unique()"
   ]
  },
  {
   "cell_type": "markdown",
   "id": "2b8b0715",
   "metadata": {
    "deletable": false,
    "editable": false,
    "id": "2b8b0715"
   },
   "source": [
    "**Задание 9. В столбце `children` есть два аномальных значения. Удалите строки, в которых встречаются такие аномальные значения из датафрейма `data`.**"
   ]
  },
  {
   "cell_type": "code",
   "execution_count": 9,
   "id": "20009df8",
   "metadata": {
    "deletable": false,
    "id": "20009df8"
   },
   "outputs": [],
   "source": [
    "data = data[(data['children'] != -1) & (data['children'] != 20)]"
   ]
  },
  {
   "cell_type": "markdown",
   "id": "8c6ac9f1",
   "metadata": {
    "deletable": false,
    "editable": false,
    "id": "8c6ac9f1"
   },
   "source": [
    "**Задание 10. Ещё раз выведите перечень уникальных значений столбца `children`, чтобы убедиться, что артефакты удалены.**"
   ]
  },
  {
   "cell_type": "code",
   "execution_count": 10,
   "id": "07337b81",
   "metadata": {
    "deletable": false,
    "id": "07337b81",
    "outputId": "b2097101-d49d-44d9-901b-32a65c9463d1"
   },
   "outputs": [
    {
     "data": {
      "text/plain": [
       "array([1, 0, 3, 2, 4, 5])"
      ]
     },
     "execution_count": 10,
     "metadata": {},
     "output_type": "execute_result"
    }
   ],
   "source": [
    "data['children'].unique()"
   ]
  },
  {
   "cell_type": "markdown",
   "id": "ee3f52d4",
   "metadata": {
    "deletable": false,
    "editable": false,
    "id": "ee3f52d4"
   },
   "source": [
    "### Удаление пропусков (продолжение)"
   ]
  },
  {
   "cell_type": "markdown",
   "id": "a700b0e4",
   "metadata": {
    "deletable": false,
    "editable": false,
    "id": "a700b0e4"
   },
   "source": [
    "**Задание 11. Заполните пропуски в столбце `days_employed` медианными значениями по каждого типа занятости `income_type`.**"
   ]
  },
  {
   "cell_type": "code",
   "execution_count": 11,
   "id": "61946b83",
   "metadata": {
    "deletable": false,
    "id": "61946b83"
   },
   "outputs": [],
   "source": [
    "for t in data['income_type'].unique():\n",
    "    data.loc[(data['income_type'] == t) & (data['days_employed'].isna()), 'days_employed'] = \\\n",
    "    data.loc[(data['income_type'] == t), 'days_employed'].median()"
   ]
  },
  {
   "cell_type": "markdown",
   "id": "550dcd9b",
   "metadata": {
    "deletable": false,
    "editable": false,
    "id": "550dcd9b"
   },
   "source": [
    "**Задание 12. Убедитесь, что все пропуски заполнены. Проверьте себя и ещё раз выведите количество пропущенных значений для каждого столбца с помощью двух методов.**"
   ]
  },
  {
   "cell_type": "code",
   "execution_count": 12,
   "id": "937c7014",
   "metadata": {
    "deletable": false,
    "id": "937c7014",
    "outputId": "8da1e4e1-358e-4e87-98c9-f261bce0a7b2"
   },
   "outputs": [
    {
     "data": {
      "text/plain": [
       "children            0\n",
       "days_employed       0\n",
       "dob_years           0\n",
       "education           0\n",
       "education_id        0\n",
       "family_status       0\n",
       "family_status_id    0\n",
       "gender              0\n",
       "income_type         0\n",
       "debt                0\n",
       "total_income        0\n",
       "purpose             0\n",
       "dtype: int64"
      ]
     },
     "execution_count": 12,
     "metadata": {},
     "output_type": "execute_result"
    }
   ],
   "source": [
    "data.isna().sum()"
   ]
  },
  {
   "cell_type": "markdown",
   "id": "d522e295",
   "metadata": {
    "deletable": false,
    "editable": false,
    "id": "d522e295"
   },
   "source": [
    "### Изменение типов данных"
   ]
  },
  {
   "cell_type": "markdown",
   "id": "c229c581",
   "metadata": {
    "deletable": false,
    "editable": false,
    "id": "c229c581"
   },
   "source": [
    "**Задание 13. Замените вещественный тип данных в столбце `total_income` на целочисленный с помощью метода `astype()`.**"
   ]
  },
  {
   "cell_type": "code",
   "execution_count": 13,
   "id": "31036462",
   "metadata": {
    "deletable": false,
    "id": "31036462"
   },
   "outputs": [],
   "source": [
    "data['total_income'] = data['total_income'].astype(int)"
   ]
  },
  {
   "cell_type": "markdown",
   "id": "b8e3d1d9",
   "metadata": {
    "deletable": false,
    "editable": false,
    "id": "b8e3d1d9"
   },
   "source": [
    "### Обработка дубликатов"
   ]
  },
  {
   "cell_type": "markdown",
   "id": "9be53c49",
   "metadata": {
    "deletable": false,
    "editable": false,
    "id": "9be53c49"
   },
   "source": [
    "**Задание 14. Обработайте неявные дубликаты в столбце `education`. В этом столбце есть одни и те же значения, но записанные по-разному: с использованием заглавных и строчных букв. Приведите их к нижнему регистру.**"
   ]
  },
  {
   "cell_type": "code",
   "execution_count": 14,
   "id": "d89e73e1",
   "metadata": {
    "deletable": false,
    "id": "d89e73e1"
   },
   "outputs": [],
   "source": [
    "data['education'] = data['education'].str.lower()"
   ]
  },
  {
   "cell_type": "markdown",
   "id": "01d4500e",
   "metadata": {
    "deletable": false,
    "editable": false,
    "id": "01d4500e"
   },
   "source": [
    "**Задание 15. Выведите на экран количество строк-дубликатов в данных. Если такие строки присутствуют, удалите их.**"
   ]
  },
  {
   "cell_type": "code",
   "execution_count": 15,
   "id": "e10efb23",
   "metadata": {
    "deletable": false,
    "id": "e10efb23",
    "outputId": "9684deba-1934-42d1-99e1-cda61740f822"
   },
   "outputs": [
    {
     "data": {
      "text/plain": [
       "71"
      ]
     },
     "execution_count": 15,
     "metadata": {},
     "output_type": "execute_result"
    }
   ],
   "source": [
    "data.duplicated().sum()"
   ]
  },
  {
   "cell_type": "code",
   "execution_count": 16,
   "id": "df853f20",
   "metadata": {
    "deletable": false,
    "id": "df853f20"
   },
   "outputs": [],
   "source": [
    "data = data.drop_duplicates()"
   ]
  },
  {
   "cell_type": "markdown",
   "id": "627be38f",
   "metadata": {
    "deletable": false,
    "editable": false,
    "id": "627be38f"
   },
   "source": [
    "### Категоризация данных"
   ]
  },
  {
   "cell_type": "markdown",
   "id": "4684c3e0",
   "metadata": {
    "deletable": false,
    "editable": false,
    "id": "4684c3e0"
   },
   "source": [
    "**Задание 16. На основании диапазонов, указанных ниже, создайте в датафрейме `data` столбец `total_income_category` с категориями:**\n",
    "\n",
    "- 0–30000 — `'E'`;\n",
    "- 30001–50000 — `'D'`;\n",
    "- 50001–200000 — `'C'`;\n",
    "- 200001–1000000 — `'B'`;\n",
    "- 1000001 и выше — `'A'`.\n",
    "\n",
    "\n",
    "**Например, кредитополучателю с доходом 25000 нужно назначить категорию `'E'`, а клиенту, получающему 235000, — `'B'`. Используйте собственную функцию с именем `categorize_income()` и метод `apply()`.**"
   ]
  },
  {
   "cell_type": "code",
   "execution_count": 17,
   "id": "78965238",
   "metadata": {
    "deletable": false,
    "id": "78965238"
   },
   "outputs": [],
   "source": [
    "def categorize_income(income):\n",
    "    try:\n",
    "        if 0 <= income <= 30000:\n",
    "            return 'E'\n",
    "        elif 30001 <= income <= 50000:\n",
    "            return 'D'\n",
    "        elif 50001 <= income <= 200000:\n",
    "            return 'C'\n",
    "        elif 200001 <= income <= 1000000:\n",
    "            return 'B'\n",
    "        elif income >= 1000001:\n",
    "            return 'A'\n",
    "    except:\n",
    "        pass"
   ]
  },
  {
   "cell_type": "code",
   "execution_count": 18,
   "id": "0980ada1",
   "metadata": {
    "deletable": false,
    "id": "0980ada1"
   },
   "outputs": [],
   "source": [
    "data['total_income_category'] = data['total_income'].apply(categorize_income)"
   ]
  },
  {
   "cell_type": "markdown",
   "id": "9917bba0",
   "metadata": {
    "deletable": false,
    "editable": false,
    "id": "9917bba0"
   },
   "source": [
    "**Задание 17. Выведите на экран перечень уникальных целей взятия кредита из столбца `purpose`.**"
   ]
  },
  {
   "cell_type": "code",
   "execution_count": 19,
   "id": "ee07b65e",
   "metadata": {
    "deletable": false,
    "id": "ee07b65e",
    "outputId": "673c12d9-7d7e-4ae0-9812-c622c89dd244"
   },
   "outputs": [
    {
     "data": {
      "text/plain": [
       "array(['покупка жилья', 'приобретение автомобиля',\n",
       "       'дополнительное образование', 'сыграть свадьбу',\n",
       "       'операции с жильем', 'образование', 'на проведение свадьбы',\n",
       "       'покупка жилья для семьи', 'покупка недвижимости',\n",
       "       'покупка коммерческой недвижимости', 'покупка жилой недвижимости',\n",
       "       'строительство собственной недвижимости', 'недвижимость',\n",
       "       'строительство недвижимости', 'на покупку подержанного автомобиля',\n",
       "       'на покупку своего автомобиля',\n",
       "       'операции с коммерческой недвижимостью',\n",
       "       'строительство жилой недвижимости', 'жилье',\n",
       "       'операции со своей недвижимостью', 'автомобили',\n",
       "       'заняться образованием', 'сделка с подержанным автомобилем',\n",
       "       'получение образования', 'автомобиль', 'свадьба',\n",
       "       'получение дополнительного образования', 'покупка своего жилья',\n",
       "       'операции с недвижимостью', 'получение высшего образования',\n",
       "       'свой автомобиль', 'сделка с автомобилем',\n",
       "       'профильное образование', 'высшее образование',\n",
       "       'покупка жилья для сдачи', 'на покупку автомобиля', 'ремонт жилью',\n",
       "       'заняться высшим образованием'], dtype=object)"
      ]
     },
     "execution_count": 19,
     "metadata": {},
     "output_type": "execute_result"
    }
   ],
   "source": [
    "data['purpose'].unique()"
   ]
  },
  {
   "cell_type": "markdown",
   "id": "52b79d56",
   "metadata": {
    "deletable": false,
    "editable": false,
    "id": "52b79d56"
   },
   "source": [
    "**Задание 18. Создайте функцию, которая на основании данных из столбца `purpose` сформирует новый столбец `purpose_category`, в который войдут следующие категории:**\n",
    "\n",
    "- `'операции с автомобилем'`,\n",
    "- `'операции с недвижимостью'`,\n",
    "- `'проведение свадьбы'`,\n",
    "- `'получение образования'`.\n",
    "\n",
    "**Например, если в столбце `purpose` находится подстрока `'на покупку автомобиля'`, то в столбце `purpose_category` должна появиться строка `'операции с автомобилем'`.**\n",
    "\n",
    "**Используйте собственную функцию с именем `categorize_purpose()` и метод `apply()`. Изучите данные в столбце `purpose` и определите, какие подстроки помогут вам правильно определить категорию.**"
   ]
  },
  {
   "cell_type": "code",
   "execution_count": 20,
   "id": "be41da5d",
   "metadata": {
    "deletable": false,
    "id": "be41da5d"
   },
   "outputs": [],
   "source": [
    "def categorize_purpose(row):\n",
    "    try:\n",
    "        if 'автом' in row:\n",
    "            return 'операции с автомобилем'\n",
    "        elif 'жил' in row or 'недвиж' in row:\n",
    "            return 'операции с недвижимостью'\n",
    "        elif 'свад' in row:\n",
    "            return 'проведение свадьбы'\n",
    "        elif 'образов' in row:\n",
    "            return 'получение образования'\n",
    "    except:\n",
    "        return 'нет категории'"
   ]
  },
  {
   "cell_type": "code",
   "execution_count": 21,
   "id": "94c4a19a",
   "metadata": {
    "deletable": false,
    "id": "94c4a19a"
   },
   "outputs": [
    {
     "name": "stdout",
     "output_type": "stream",
     "text": [
      "    children  days_employed  dob_years            education  education_id  \\\n",
      "0          1    8437.673028         42               высшее             0   \n",
      "1          1    4024.803754         36              среднее             1   \n",
      "2          0    5623.422610         33              среднее             1   \n",
      "3          3    4124.747207         32              среднее             1   \n",
      "4          0  340266.072047         53              среднее             1   \n",
      "5          0     926.185831         27               высшее             0   \n",
      "6          0    2879.202052         43               высшее             0   \n",
      "7          0     152.779569         50              среднее             1   \n",
      "8          2    6929.865299         35               высшее             0   \n",
      "9          0    2188.756445         41              среднее             1   \n",
      "10         2    4171.483647         36               высшее             0   \n",
      "11         0     792.701887         40              среднее             1   \n",
      "12         0  365286.622650         65              среднее             1   \n",
      "13         0    1846.641941         54  неоконченное высшее             2   \n",
      "14         0    1844.956182         56               высшее             0   \n",
      "15         1     972.364419         26              среднее             1   \n",
      "16         0    1719.934226         35              среднее             1   \n",
      "17         0    2369.999720         33               высшее             0   \n",
      "18         0  400281.136913         53              среднее             1   \n",
      "19         0   10038.818549         48              среднее             1   \n",
      "\n",
      "       family_status  family_status_id gender income_type  debt  total_income  \\\n",
      "0    женат / замужем                 0      F   сотрудник     0        253875   \n",
      "1    женат / замужем                 0      F   сотрудник     0        112080   \n",
      "2    женат / замужем                 0      M   сотрудник     0        145885   \n",
      "3    женат / замужем                 0      M   сотрудник     0        267628   \n",
      "4   гражданский брак                 1      F   пенсионер     0        158616   \n",
      "5   гражданский брак                 1      M   компаньон     0        255763   \n",
      "6    женат / замужем                 0      F   компаньон     0        240525   \n",
      "7    женат / замужем                 0      M   сотрудник     0        135823   \n",
      "8   гражданский брак                 1      F   сотрудник     0         95856   \n",
      "9    женат / замужем                 0      M   сотрудник     0        144425   \n",
      "10   женат / замужем                 0      M   компаньон     0        113943   \n",
      "11   женат / замужем                 0      F   сотрудник     0         77069   \n",
      "12  гражданский брак                 1      M   пенсионер     0        118514   \n",
      "13   женат / замужем                 0      F   сотрудник     0        130458   \n",
      "14  гражданский брак                 1      F   компаньон     1        165127   \n",
      "15   женат / замужем                 0      F   сотрудник     0        116820   \n",
      "16   женат / замужем                 0      F   сотрудник     0        289202   \n",
      "17  гражданский брак                 1      M   сотрудник     0         90410   \n",
      "18    вдовец / вдова                 2      F   пенсионер     0         56823   \n",
      "19         в разводе                 3      F   сотрудник     0        242831   \n",
      "\n",
      "                                   purpose total_income_category  \\\n",
      "0                            покупка жилья                     B   \n",
      "1                  приобретение автомобиля                     C   \n",
      "2                            покупка жилья                     C   \n",
      "3               дополнительное образование                     B   \n",
      "4                          сыграть свадьбу                     C   \n",
      "5                            покупка жилья                     B   \n",
      "6                        операции с жильем                     B   \n",
      "7                              образование                     C   \n",
      "8                    на проведение свадьбы                     C   \n",
      "9                  покупка жилья для семьи                     C   \n",
      "10                    покупка недвижимости                     C   \n",
      "11       покупка коммерческой недвижимости                     C   \n",
      "12                         сыграть свадьбу                     C   \n",
      "13                 приобретение автомобиля                     C   \n",
      "14              покупка жилой недвижимости                     C   \n",
      "15  строительство собственной недвижимости                     C   \n",
      "16                            недвижимость                     B   \n",
      "17              строительство недвижимости                     C   \n",
      "18      на покупку подержанного автомобиля                     C   \n",
      "19            на покупку своего автомобиля                     B   \n",
      "\n",
      "            purpose_category  \n",
      "0   операции с недвижимостью  \n",
      "1     операции с автомобилем  \n",
      "2   операции с недвижимостью  \n",
      "3      получение образования  \n",
      "4         проведение свадьбы  \n",
      "5   операции с недвижимостью  \n",
      "6   операции с недвижимостью  \n",
      "7      получение образования  \n",
      "8         проведение свадьбы  \n",
      "9   операции с недвижимостью  \n",
      "10  операции с недвижимостью  \n",
      "11  операции с недвижимостью  \n",
      "12        проведение свадьбы  \n",
      "13    операции с автомобилем  \n",
      "14  операции с недвижимостью  \n",
      "15  операции с недвижимостью  \n",
      "16  операции с недвижимостью  \n",
      "17  операции с недвижимостью  \n",
      "18    операции с автомобилем  \n",
      "19    операции с автомобилем  \n"
     ]
    }
   ],
   "source": [
    "data['purpose_category'] = data['purpose'].apply(categorize_purpose)\n",
    "print(data.head(20))"
   ]
  },
  {
   "cell_type": "markdown",
   "id": "3d596c34",
   "metadata": {
    "deletable": false,
    "editable": false,
    "id": "3d596c34"
   },
   "source": [
    "### Шаг 3. Исследуйте данные и ответьте на вопросы"
   ]
  },
  {
   "cell_type": "markdown",
   "id": "648db036",
   "metadata": {
    "deletable": false,
    "editable": false,
    "id": "648db036"
   },
   "source": [
    "#### 3.1 Есть ли зависимость между количеством детей и возвратом кредита в срок?"
   ]
  },
  {
   "cell_type": "code",
   "execution_count": 22,
   "id": "7fcff25e",
   "metadata": {
    "deletable": false,
    "id": "7fcff25e"
   },
   "outputs": [
    {
     "name": "stdout",
     "output_type": "stream",
     "text": [
      "          debt              \n",
      "           sum  count   mean\n",
      "children                    \n",
      "0         1063  14091  0.075\n",
      "1          444   4808  0.092\n",
      "2          194   2052  0.095\n",
      "3           27    330  0.082\n",
      "4            4     41  0.098\n",
      "5            0      9  0.000\n"
     ]
    }
   ],
   "source": [
    "#группирую таблицу по столбцу children и рассчитаваю количество и сумму по задолженности клиентов\n",
    "data_grouped = data.groupby('children').agg({'debt':['sum','count','mean']}).round(3)\n",
    "\n",
    "#выводим таблицу\n",
    "print(data_grouped)"
   ]
  },
  {
   "cell_type": "markdown",
   "id": "2eb9088e",
   "metadata": {
    "deletable": false,
    "id": "2eb9088e"
   },
   "source": [
    "**Вывод:** Из таблицы видно, что количество детей зависит от возврата кредита в срок. Несвоевременно возврат делают клиенты у которых 4 детей, а также 1 и 2 ребёнка. Клиенты у которых 3-е детей показатель ниже, но возможно на это повлияли другие факторы, такие как доход и цель кредита. Клиенты у которых нет детей, делают возврат кредита в срок чаще."
   ]
  },
  {
   "cell_type": "markdown",
   "id": "74c9b3a7",
   "metadata": {
    "deletable": false,
    "editable": false,
    "id": "74c9b3a7"
   },
   "source": [
    "#### 3.2 Есть ли зависимость между семейным положением и возвратом кредита в срок?"
   ]
  },
  {
   "cell_type": "code",
   "execution_count": 23,
   "id": "8098ab3b",
   "metadata": {
    "deletable": false,
    "id": "8098ab3b"
   },
   "outputs": [
    {
     "name": "stdout",
     "output_type": "stream",
     "text": [
      "                      debt              \n",
      "                       sum  count   mean\n",
      "family_status                           \n",
      "Не женат / не замужем  273   2796  0.098\n",
      "в разводе               84   1189  0.071\n",
      "вдовец / вдова          63    951  0.066\n",
      "гражданский брак       385   4134  0.093\n",
      "женат / замужем        927  12261  0.076\n"
     ]
    }
   ],
   "source": [
    "#группирую таблицу по столбцу family_status и рассчитаваю количество и сумму должников\n",
    "data_grouped = data.groupby('family_status').agg({'debt':['sum', 'count','mean']}).round(3)\n",
    "\n",
    "#выводим таблицу\n",
    "print(data_grouped)"
   ]
  },
  {
   "cell_type": "markdown",
   "id": "c389ca63",
   "metadata": {
    "deletable": false,
    "id": "c389ca63"
   },
   "source": [
    "**Вывод:** Из таблицы видно, что семейное положение зависит от возврата кредита в срок. Так клиенты со статусом \"Не женат/не замужем\" и \"гражданский брак\" возвращают кредиты дольше чем клиенты со статусом \"вдовец/вдова\" и \"в разводе\"."
   ]
  },
  {
   "cell_type": "markdown",
   "id": "9529de68",
   "metadata": {
    "deletable": false,
    "editable": false,
    "id": "9529de68"
   },
   "source": [
    "#### 3.3 Есть ли зависимость между уровнем дохода и возвратом кредита в срок?"
   ]
  },
  {
   "cell_type": "code",
   "execution_count": 24,
   "id": "8787f44a",
   "metadata": {
    "deletable": false,
    "id": "8787f44a"
   },
   "outputs": [
    {
     "name": "stdout",
     "output_type": "stream",
     "text": [
      "                       debt              \n",
      "                        sum  count   mean\n",
      "total_income_category                    \n",
      "A                         2     25  0.080\n",
      "B                       354   5014  0.071\n",
      "C                      1353  15921  0.085\n",
      "D                        21    349  0.060\n",
      "E                         2     22  0.091\n"
     ]
    }
   ],
   "source": [
    "#группирую таблицу по столбцу total_income_category и рассчитаваю количество и сумму должников\n",
    "data_grouped = data.groupby('total_income_category').agg({'debt':['sum', 'count','mean']}).round(3)\n",
    "\n",
    "#выводим таблицу\n",
    "print(data_grouped)"
   ]
  },
  {
   "cell_type": "markdown",
   "id": "6dd14b57",
   "metadata": {
    "deletable": false,
    "id": "6dd14b57"
   },
   "source": [
    "**Вывод:** Из таблицы видно, что клиенты с доходом менее 30000 реже возвращают кредиты в срок чем клиенты с доходом от 30000 до 50000. Но за категорией E сразу следуют категории С и А, где высокий уровень заработной платы. Так что высокий доход не гарантирует своевременного погашения задолженности."
   ]
  },
  {
   "cell_type": "markdown",
   "id": "1dcc9b12",
   "metadata": {
    "deletable": false,
    "editable": false,
    "id": "1dcc9b12"
   },
   "source": [
    "#### 3.4 Как разные цели кредита влияют на его возврат в срок?"
   ]
  },
  {
   "cell_type": "code",
   "execution_count": 25,
   "id": "c602bc8b",
   "metadata": {
    "deletable": false,
    "id": "c602bc8b"
   },
   "outputs": [
    {
     "name": "stdout",
     "output_type": "stream",
     "text": [
      "                         debt              \n",
      "                          sum  count   mean\n",
      "purpose_category                           \n",
      "операции с автомобилем    400   4279  0.093\n",
      "операции с недвижимостью  780  10751  0.073\n",
      "получение образования     369   3988  0.093\n",
      "проведение свадьбы        183   2313  0.079\n"
     ]
    }
   ],
   "source": [
    "#группирую таблицу по столбцу purpose_category и рассчитаваю количество и сумму должников\n",
    "data_grouped = data.groupby('purpose_category').agg({'debt':['sum', 'count', 'mean']}).round(3)\n",
    "\n",
    "#выводим таблицу\n",
    "print(data_grouped)"
   ]
  },
  {
   "cell_type": "markdown",
   "id": "cf05ed63",
   "metadata": {
    "deletable": false,
    "id": "cf05ed63"
   },
   "source": [
    "**Вывод:** Из таблицы видно, что клиенты, которые берут кредит на недвижимость и проведение свадьбы значительно быстрее возвращают средства, чем клиенты, которые брали деньги на покупку автомобиля либо на получение образования."
   ]
  },
  {
   "cell_type": "markdown",
   "id": "46c1f10b",
   "metadata": {
    "deletable": false,
    "editable": false,
    "id": "46c1f10b"
   },
   "source": [
    "#### 3.5 Приведите возможные причины появления пропусков в исходных данных."
   ]
  },
  {
   "cell_type": "markdown",
   "id": "3697d2a9",
   "metadata": {
    "deletable": false,
    "id": "3697d2a9"
   },
   "source": [
    "*Ответ:* В исходных данных были сделаны пропуски в разделе \"общий трудовой стаж\" и \"доход\". Так как среди клиентов есть \"пенсионеры\" - возможна большая вероятность отсутствия трудового опыта или утеря информации о ней. В столбце \"доход\" наличие пропусков можно объяснить нежеланием клиентов разглашать уровень своей заработной платы."
   ]
  },
  {
   "cell_type": "markdown",
   "id": "3137d257",
   "metadata": {
    "deletable": false,
    "editable": false,
    "id": "3137d257"
   },
   "source": [
    "#### 3.6 Объясните, почему заполнить пропуски медианным значением — лучшее решение для количественных переменных."
   ]
  },
  {
   "cell_type": "markdown",
   "id": "cf40012a",
   "metadata": {
    "deletable": false,
    "id": "cf40012a"
   },
   "source": [
    "*Ответ:* Так как уровень дохода клиентов находится в широком диапазоне (от >30 000 до <1 000 000), лучше всего применить медианное значение, так как среднее значение сильно исказит статистику."
   ]
  },
  {
   "cell_type": "markdown",
   "id": "57bc304e",
   "metadata": {
    "deletable": false,
    "editable": false,
    "id": "57bc304e"
   },
   "source": [
    "### Шаг 4: общий вывод."
   ]
  },
  {
   "cell_type": "markdown",
   "id": "1ab75d1c",
   "metadata": {
    "deletable": false,
    "id": "1ab75d1c"
   },
   "source": [
    "После проведенного анализа, можно сделать выводы, что самыми \"выгодными\" клиентами для банков, которые возвращают кредиты \n",
    "в срок, являются граждане:\n",
    " - Не имеющие детей;\n",
    " - Находятся в официальном браке;\n",
    " - С доходом не менее 50 000;\n",
    " - С целевым кредитом на операции с недвижимостью"
   ]
  },
  {
   "cell_type": "markdown",
   "id": "d87451f6",
   "metadata": {},
   "source": [
    "### Результаты анализа платёжеспособности клиентов ###\n",
    "\n",
    "1. В ходе проведения анализа входных данных о платёжеспособности клиентов, были выявлены пропуски в столбцах 'days_imployed' и 'total_income' в количестве 2174 строк. Рекомендую передать информацию в отдел разработки для проверки на ошибки форму по сбору данных. Данные пропуски были заполнены медианным значением, а отрицательные значения в столбце 'days_imployed' изменены на положительные. \n",
    "\n",
    "2. Семейное положение и количество детей клиента влияют на факт погашения кредита в срок:\n",
    "   1. Конверсия клиентов без детей составляет 7.5%, с одним ребёнком - 9.2%, с двумя - 9.5%. Разница практически в 2%, а это 246 клиентов, которые погасили кредит в срок.\n",
    "   2. Конверсия клиентов на основании семейного положения составляет: официальный брак - 7.6%, гражданский брак - 9.3%, неженат/незамужем -9.8%. Разница так же составляет около 2%, т.е. клиенты состающие в официальном браке имеют меньше задолженности.\n",
    "   \n",
    "3. Рекомендации и промежуточные выводы:\n",
    "    1. Чтобы данные было проще обрабатывать и группировать, рекомендую в столбцах 'income_type' и 'purpose' сделать выпадающий список для клиента.\n",
    "    2. Разработчикам сформировать форму, которая при заполнении клиентом не может быть отправлена в банк если не все ячейки заполнены. \n",
    "    3. При анализе данных было выявлено, что клиенты с доходом выше 200 000 рублей имеют меньше задолженности чем клиент с уравнем доходом ниже. Конверсия составляет: доходы от 200 000-1 млн. - 7.7 %, доходы 50 000-200 000 - 8.5%\n",
    "    4. Кредиты, выданные на  на операции с недвижимостью и свадьбу погашаются в срок чаще, чем кредиты на операции с автомобилем и получением образования. Конверсия составляет: недвижимость - 7.3%, свадьбы - 7.9%, автомобиль и образование -9.3%\n",
    "    "
   ]
  }
 ],
 "metadata": {
  "ExecuteTimeLog": [
   {
    "duration": 469,
    "start_time": "2023-09-11T12:07:13.378Z"
   },
   {
    "duration": 25,
    "start_time": "2023-09-11T12:07:13.850Z"
   },
   {
    "duration": 13,
    "start_time": "2023-09-11T12:07:13.877Z"
   },
   {
    "duration": 9,
    "start_time": "2023-09-11T12:07:13.892Z"
   },
   {
    "duration": 61,
    "start_time": "2023-09-11T12:07:13.903Z"
   },
   {
    "duration": 3,
    "start_time": "2023-09-11T12:07:13.966Z"
   },
   {
    "duration": 35,
    "start_time": "2023-09-11T12:07:13.970Z"
   },
   {
    "duration": 6,
    "start_time": "2023-09-11T12:07:14.007Z"
   },
   {
    "duration": 9,
    "start_time": "2023-09-11T12:07:14.015Z"
   },
   {
    "duration": 5,
    "start_time": "2023-09-11T12:07:14.026Z"
   },
   {
    "duration": 54,
    "start_time": "2023-09-11T12:07:14.033Z"
   },
   {
    "duration": 13,
    "start_time": "2023-09-11T12:07:14.089Z"
   },
   {
    "duration": 16,
    "start_time": "2023-09-11T12:07:14.103Z"
   },
   {
    "duration": 17,
    "start_time": "2023-09-11T12:07:14.121Z"
   },
   {
    "duration": 34,
    "start_time": "2023-09-11T12:07:14.140Z"
   },
   {
    "duration": 20,
    "start_time": "2023-09-11T12:07:14.176Z"
   },
   {
    "duration": 5,
    "start_time": "2023-09-11T12:07:14.198Z"
   },
   {
    "duration": 16,
    "start_time": "2023-09-11T12:07:14.205Z"
   },
   {
    "duration": 24,
    "start_time": "2023-09-11T12:07:14.222Z"
   },
   {
    "duration": 6,
    "start_time": "2023-09-11T12:07:14.248Z"
   },
   {
    "duration": 13,
    "start_time": "2023-09-11T12:07:14.256Z"
   },
   {
    "duration": 3,
    "start_time": "2023-09-11T12:07:14.271Z"
   },
   {
    "duration": 7,
    "start_time": "2023-09-11T12:07:14.276Z"
   },
   {
    "duration": 7,
    "start_time": "2023-09-11T12:07:14.285Z"
   },
   {
    "duration": 15,
    "start_time": "2023-09-11T12:07:14.294Z"
   },
   {
    "duration": 14,
    "start_time": "2023-09-11T12:08:00.664Z"
   },
   {
    "duration": 63,
    "start_time": "2023-09-11T12:17:28.004Z"
   },
   {
    "duration": 8,
    "start_time": "2023-09-11T12:18:15.841Z"
   },
   {
    "duration": 8,
    "start_time": "2023-09-11T12:25:46.542Z"
   },
   {
    "duration": 10,
    "start_time": "2023-09-11T12:31:43.190Z"
   },
   {
    "duration": 11,
    "start_time": "2023-09-11T12:32:32.796Z"
   },
   {
    "duration": 13,
    "start_time": "2023-09-11T12:55:20.952Z"
   },
   {
    "duration": 12,
    "start_time": "2023-09-11T13:09:20.970Z"
   },
   {
    "duration": 15,
    "start_time": "2023-09-11T13:15:47.023Z"
   },
   {
    "duration": 14,
    "start_time": "2023-09-11T13:16:01.644Z"
   },
   {
    "duration": 13,
    "start_time": "2023-09-11T13:16:12.584Z"
   },
   {
    "duration": 20,
    "start_time": "2023-09-11T13:17:51.069Z"
   },
   {
    "duration": 18,
    "start_time": "2023-09-11T13:19:03.655Z"
   },
   {
    "duration": 11,
    "start_time": "2023-09-11T13:19:08.269Z"
   },
   {
    "duration": 460,
    "start_time": "2023-09-11T13:22:20.472Z"
   },
   {
    "duration": 13,
    "start_time": "2023-09-11T13:23:48.833Z"
   },
   {
    "duration": 12,
    "start_time": "2023-09-11T13:24:04.433Z"
   },
   {
    "duration": 12,
    "start_time": "2023-09-11T13:24:15.571Z"
   },
   {
    "duration": 13,
    "start_time": "2023-09-11T13:33:58.138Z"
   },
   {
    "duration": 738,
    "start_time": "2023-09-12T13:10:00.101Z"
   },
   {
    "duration": 25,
    "start_time": "2023-09-12T13:10:00.841Z"
   },
   {
    "duration": 721,
    "start_time": "2023-09-12T13:10:00.868Z"
   },
   {
    "duration": 136,
    "start_time": "2023-09-12T13:10:01.591Z"
   },
   {
    "duration": 270,
    "start_time": "2023-09-12T13:10:01.729Z"
   },
   {
    "duration": 208,
    "start_time": "2023-09-12T13:10:02.001Z"
   },
   {
    "duration": 160,
    "start_time": "2023-09-12T13:10:02.210Z"
   },
   {
    "duration": 46,
    "start_time": "2023-09-12T13:10:02.371Z"
   },
   {
    "duration": 28,
    "start_time": "2023-09-12T13:10:02.419Z"
   },
   {
    "duration": 22,
    "start_time": "2023-09-12T13:10:02.450Z"
   },
   {
    "duration": 108,
    "start_time": "2023-09-12T13:10:02.474Z"
   },
   {
    "duration": 44,
    "start_time": "2023-09-12T13:10:02.585Z"
   },
   {
    "duration": 114,
    "start_time": "2023-09-12T13:10:02.631Z"
   },
   {
    "duration": 32,
    "start_time": "2023-09-12T13:10:02.747Z"
   },
   {
    "duration": 285,
    "start_time": "2023-09-12T13:10:02.781Z"
   },
   {
    "duration": 545,
    "start_time": "2023-09-12T13:10:03.068Z"
   },
   {
    "duration": 125,
    "start_time": "2023-09-12T13:10:03.615Z"
   },
   {
    "duration": 41,
    "start_time": "2023-09-12T13:10:03.742Z"
   },
   {
    "duration": 27,
    "start_time": "2023-09-12T13:10:03.785Z"
   },
   {
    "duration": 13,
    "start_time": "2023-09-12T13:10:03.814Z"
   },
   {
    "duration": 64,
    "start_time": "2023-09-12T13:10:03.829Z"
   },
   {
    "duration": 43,
    "start_time": "2023-09-12T13:10:03.895Z"
   },
   {
    "duration": 39,
    "start_time": "2023-09-12T13:10:03.940Z"
   },
   {
    "duration": 19,
    "start_time": "2023-09-12T13:10:03.981Z"
   },
   {
    "duration": 58,
    "start_time": "2023-09-12T13:10:04.002Z"
   },
   {
    "duration": 80,
    "start_time": "2023-09-12T15:36:59.714Z"
   },
   {
    "duration": 76,
    "start_time": "2023-09-12T15:37:12.181Z"
   },
   {
    "duration": 70,
    "start_time": "2023-09-12T15:37:31.133Z"
   },
   {
    "duration": 110,
    "start_time": "2023-09-12T15:37:59.117Z"
   },
   {
    "duration": 83,
    "start_time": "2023-09-12T15:38:37.286Z"
   },
   {
    "duration": 48,
    "start_time": "2023-09-12T15:40:51.188Z"
   },
   {
    "duration": 737,
    "start_time": "2023-09-12T15:41:02.324Z"
   },
   {
    "duration": 25,
    "start_time": "2023-09-12T15:41:03.063Z"
   },
   {
    "duration": 17,
    "start_time": "2023-09-12T15:41:03.089Z"
   },
   {
    "duration": 17,
    "start_time": "2023-09-12T15:41:03.108Z"
   },
   {
    "duration": 38,
    "start_time": "2023-09-12T15:41:03.126Z"
   },
   {
    "duration": 18,
    "start_time": "2023-09-12T15:41:03.166Z"
   },
   {
    "duration": 16,
    "start_time": "2023-09-12T15:41:03.186Z"
   },
   {
    "duration": 4,
    "start_time": "2023-09-12T15:41:03.204Z"
   },
   {
    "duration": 12,
    "start_time": "2023-09-12T15:41:03.210Z"
   },
   {
    "duration": 7,
    "start_time": "2023-09-12T15:41:03.225Z"
   },
   {
    "duration": 59,
    "start_time": "2023-09-12T15:41:03.234Z"
   },
   {
    "duration": 13,
    "start_time": "2023-09-12T15:41:03.295Z"
   },
   {
    "duration": 7,
    "start_time": "2023-09-12T15:41:03.310Z"
   },
   {
    "duration": 40,
    "start_time": "2023-09-12T15:41:03.319Z"
   },
   {
    "duration": 30,
    "start_time": "2023-09-12T15:41:03.361Z"
   },
   {
    "duration": 18,
    "start_time": "2023-09-12T15:41:03.393Z"
   },
   {
    "duration": 4,
    "start_time": "2023-09-12T15:41:03.413Z"
   },
   {
    "duration": 38,
    "start_time": "2023-09-12T15:41:03.419Z"
   },
   {
    "duration": 13,
    "start_time": "2023-09-12T15:41:03.459Z"
   },
   {
    "duration": 26,
    "start_time": "2023-09-12T15:41:03.474Z"
   },
   {
    "duration": 54,
    "start_time": "2023-09-12T15:41:03.501Z"
   },
   {
    "duration": 32,
    "start_time": "2023-09-12T15:41:03.557Z"
   },
   {
    "duration": 18,
    "start_time": "2023-09-12T15:41:03.590Z"
   },
   {
    "duration": 74,
    "start_time": "2023-09-12T15:41:03.610Z"
   },
   {
    "duration": 19,
    "start_time": "2023-09-12T15:41:03.686Z"
   },
   {
    "duration": 11,
    "start_time": "2023-09-12T15:41:44.027Z"
   },
   {
    "duration": 14,
    "start_time": "2023-09-12T15:44:04.984Z"
   },
   {
    "duration": 1469,
    "start_time": "2023-09-12T15:46:45.445Z"
   },
   {
    "duration": 10,
    "start_time": "2023-09-12T15:47:10.749Z"
   },
   {
    "duration": 9,
    "start_time": "2023-09-12T15:47:59.914Z"
   },
   {
    "duration": 10,
    "start_time": "2023-09-12T15:48:16.994Z"
   },
   {
    "duration": 13,
    "start_time": "2023-09-12T15:48:59.785Z"
   },
   {
    "duration": 99,
    "start_time": "2023-09-12T15:49:26.940Z"
   },
   {
    "duration": 12,
    "start_time": "2023-09-12T15:49:38.604Z"
   },
   {
    "duration": 95,
    "start_time": "2023-09-12T15:50:18.360Z"
   },
   {
    "duration": 13,
    "start_time": "2023-09-12T15:51:14.353Z"
   },
   {
    "duration": 11,
    "start_time": "2023-09-12T15:56:33.547Z"
   },
   {
    "duration": 10,
    "start_time": "2023-09-12T15:56:44.219Z"
   },
   {
    "duration": 9,
    "start_time": "2023-09-12T15:57:08.428Z"
   },
   {
    "duration": 9,
    "start_time": "2023-09-12T15:57:23.571Z"
   },
   {
    "duration": 20,
    "start_time": "2023-09-12T15:57:37.194Z"
   },
   {
    "duration": 9,
    "start_time": "2023-09-12T15:57:42.121Z"
   },
   {
    "duration": 1341,
    "start_time": "2023-09-12T15:59:09.435Z"
   },
   {
    "duration": 1289,
    "start_time": "2023-09-12T15:59:28.049Z"
   },
   {
    "duration": 11,
    "start_time": "2023-09-12T16:00:20.413Z"
   },
   {
    "duration": 12,
    "start_time": "2023-09-12T16:07:20.029Z"
   },
   {
    "duration": 9,
    "start_time": "2023-09-12T16:08:04.928Z"
   },
   {
    "duration": 9,
    "start_time": "2023-09-12T16:08:59.413Z"
   },
   {
    "duration": 9,
    "start_time": "2023-09-12T16:09:15.409Z"
   },
   {
    "duration": 12,
    "start_time": "2023-09-12T16:16:23.669Z"
   },
   {
    "duration": 12,
    "start_time": "2023-09-12T16:16:40.627Z"
   },
   {
    "duration": 12,
    "start_time": "2023-09-12T16:17:14.009Z"
   },
   {
    "duration": 16,
    "start_time": "2023-09-12T16:20:17.024Z"
   },
   {
    "duration": 14,
    "start_time": "2023-09-12T16:24:46.204Z"
   },
   {
    "duration": 9,
    "start_time": "2023-09-12T16:25:31.881Z"
   },
   {
    "duration": 11,
    "start_time": "2023-09-12T16:25:46.211Z"
   },
   {
    "duration": 13,
    "start_time": "2023-09-12T16:26:38.809Z"
   },
   {
    "duration": 83,
    "start_time": "2023-09-12T16:29:31.750Z"
   },
   {
    "duration": 15,
    "start_time": "2023-09-12T16:31:19.832Z"
   },
   {
    "duration": 14,
    "start_time": "2023-09-12T16:32:18.338Z"
   },
   {
    "duration": 10,
    "start_time": "2023-09-12T16:54:40.761Z"
   },
   {
    "duration": 13,
    "start_time": "2023-09-12T17:13:42.427Z"
   },
   {
    "duration": 12,
    "start_time": "2023-09-12T17:14:34.082Z"
   },
   {
    "duration": 8,
    "start_time": "2023-09-12T17:16:01.917Z"
   },
   {
    "duration": 16,
    "start_time": "2023-09-12T17:16:09.061Z"
   },
   {
    "duration": 10,
    "start_time": "2023-09-12T17:16:36.360Z"
   },
   {
    "duration": 9,
    "start_time": "2023-09-12T17:20:14.230Z"
   },
   {
    "duration": 9,
    "start_time": "2023-09-12T17:21:09.153Z"
   },
   {
    "duration": 13,
    "start_time": "2023-09-12T17:21:47.706Z"
   },
   {
    "duration": 12,
    "start_time": "2023-09-12T17:21:52.393Z"
   },
   {
    "duration": 12,
    "start_time": "2023-09-12T17:24:49.359Z"
   },
   {
    "duration": 27,
    "start_time": "2023-09-12T17:59:25.685Z"
   },
   {
    "duration": 7,
    "start_time": "2023-09-12T18:02:03.763Z"
   },
   {
    "duration": 10,
    "start_time": "2023-09-12T18:02:27.217Z"
   },
   {
    "duration": 10,
    "start_time": "2023-09-12T18:11:47.863Z"
   },
   {
    "duration": 8,
    "start_time": "2023-09-12T18:14:52.647Z"
   },
   {
    "duration": 14,
    "start_time": "2023-09-12T18:33:17.350Z"
   },
   {
    "duration": 10,
    "start_time": "2023-09-12T19:15:27.025Z"
   },
   {
    "duration": 9,
    "start_time": "2023-09-12T19:15:40.688Z"
   },
   {
    "duration": 19,
    "start_time": "2023-09-12T19:18:05.184Z"
   },
   {
    "duration": 1286,
    "start_time": "2023-09-12T19:19:00.416Z"
   },
   {
    "duration": 9,
    "start_time": "2023-09-12T19:19:45.559Z"
   },
   {
    "duration": 13,
    "start_time": "2023-09-12T19:21:43.795Z"
   },
   {
    "duration": 12,
    "start_time": "2023-09-12T19:21:54.798Z"
   },
   {
    "duration": 12,
    "start_time": "2023-09-12T19:22:34.957Z"
   },
   {
    "duration": 12,
    "start_time": "2023-09-12T19:22:56.159Z"
   },
   {
    "duration": 13,
    "start_time": "2023-09-12T19:23:29.163Z"
   },
   {
    "duration": 33,
    "start_time": "2023-09-12T19:24:47.354Z"
   },
   {
    "duration": 12,
    "start_time": "2023-09-12T19:26:29.754Z"
   },
   {
    "duration": 50,
    "start_time": "2023-09-13T05:19:27.930Z"
   },
   {
    "duration": 518,
    "start_time": "2023-09-13T05:21:11.877Z"
   },
   {
    "duration": 20,
    "start_time": "2023-09-13T05:21:12.397Z"
   },
   {
    "duration": 15,
    "start_time": "2023-09-13T05:21:12.419Z"
   },
   {
    "duration": 10,
    "start_time": "2023-09-13T05:21:12.436Z"
   },
   {
    "duration": 34,
    "start_time": "2023-09-13T05:21:12.447Z"
   },
   {
    "duration": 3,
    "start_time": "2023-09-13T05:21:12.482Z"
   },
   {
    "duration": 8,
    "start_time": "2023-09-13T05:21:12.487Z"
   },
   {
    "duration": 4,
    "start_time": "2023-09-13T05:21:12.497Z"
   },
   {
    "duration": 15,
    "start_time": "2023-09-13T05:21:12.503Z"
   },
   {
    "duration": 4,
    "start_time": "2023-09-13T05:21:12.544Z"
   },
   {
    "duration": 37,
    "start_time": "2023-09-13T05:21:12.550Z"
   },
   {
    "duration": 10,
    "start_time": "2023-09-13T05:21:12.589Z"
   },
   {
    "duration": 7,
    "start_time": "2023-09-13T05:21:12.600Z"
   },
   {
    "duration": 16,
    "start_time": "2023-09-13T05:21:12.608Z"
   },
   {
    "duration": 35,
    "start_time": "2023-09-13T05:21:12.625Z"
   },
   {
    "duration": 23,
    "start_time": "2023-09-13T05:21:12.662Z"
   },
   {
    "duration": 4,
    "start_time": "2023-09-13T05:21:12.686Z"
   },
   {
    "duration": 23,
    "start_time": "2023-09-13T05:21:12.691Z"
   },
   {
    "duration": 7,
    "start_time": "2023-09-13T05:21:12.716Z"
   },
   {
    "duration": 4,
    "start_time": "2023-09-13T05:21:12.744Z"
   },
   {
    "duration": 26,
    "start_time": "2023-09-13T05:21:12.750Z"
   },
   {
    "duration": 15,
    "start_time": "2023-09-13T05:21:12.778Z"
   },
   {
    "duration": 15,
    "start_time": "2023-09-13T05:21:12.795Z"
   },
   {
    "duration": 37,
    "start_time": "2023-09-13T05:21:12.812Z"
   },
   {
    "duration": 12,
    "start_time": "2023-09-13T05:21:12.851Z"
   },
   {
    "duration": 12,
    "start_time": "2023-09-13T05:21:12.864Z"
   },
   {
    "duration": 10,
    "start_time": "2023-09-13T05:21:49.405Z"
   },
   {
    "duration": 13,
    "start_time": "2023-09-13T05:24:22.289Z"
   },
   {
    "duration": 14,
    "start_time": "2023-09-13T05:25:30.319Z"
   },
   {
    "duration": 10,
    "start_time": "2023-09-13T05:25:59.694Z"
   },
   {
    "duration": 17,
    "start_time": "2023-09-13T05:31:03.094Z"
   },
   {
    "duration": 20,
    "start_time": "2023-09-13T05:31:19.297Z"
   },
   {
    "duration": 22,
    "start_time": "2023-09-13T05:32:03.474Z"
   },
   {
    "duration": 19,
    "start_time": "2023-09-13T05:32:39.139Z"
   },
   {
    "duration": 16,
    "start_time": "2023-09-13T05:33:05.219Z"
   },
   {
    "duration": 92,
    "start_time": "2023-09-13T19:17:36.822Z"
   },
   {
    "duration": 110,
    "start_time": "2023-09-13T19:21:00.724Z"
   }
  ],
  "colab": {
   "provenance": []
  },
  "kernelspec": {
   "display_name": "Python 3 (ipykernel)",
   "language": "python",
   "name": "python3"
  },
  "language_info": {
   "codemirror_mode": {
    "name": "ipython",
    "version": 3
   },
   "file_extension": ".py",
   "mimetype": "text/x-python",
   "name": "python",
   "nbconvert_exporter": "python",
   "pygments_lexer": "ipython3",
   "version": "3.11.4"
  },
  "toc": {
   "base_numbering": 1,
   "nav_menu": {},
   "number_sections": true,
   "sideBar": true,
   "skip_h1_title": true,
   "title_cell": "Table of Contents",
   "title_sidebar": "Contents",
   "toc_cell": false,
   "toc_position": {},
   "toc_section_display": true,
   "toc_window_display": false
  }
 },
 "nbformat": 4,
 "nbformat_minor": 5
}
